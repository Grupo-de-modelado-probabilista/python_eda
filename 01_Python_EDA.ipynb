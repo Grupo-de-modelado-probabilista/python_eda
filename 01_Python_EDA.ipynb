{
 "cells": [
  {
   "cell_type": "markdown",
   "metadata": {},
   "source": [
    "## Cadenas"
   ]
  },
  {
   "cell_type": "markdown",
   "metadata": {},
   "source": [
    "Como ya vimos una _cadena_ es un tipo de variable que almacena texto. Las cadenas deben definirse usando comillas dobles `\" \"` o simples `' '`."
   ]
  },
  {
   "cell_type": "code",
   "execution_count": 1,
   "metadata": {},
   "outputs": [
    {
     "data": {
      "text/plain": [
       "str"
      ]
     },
     "execution_count": 1,
     "metadata": {},
     "output_type": "execute_result"
    }
   ],
   "source": [
    "s = \"Hola mundo\"\n",
    "type(s)"
   ]
  },
  {
   "cell_type": "markdown",
   "metadata": {},
   "source": [
    "Las cadenas tienen algunas similitudes con las listas. Por ejemplo es posible determinar la longitud de una cadena, es decir el número de caracteres que la componen."
   ]
  },
  {
   "cell_type": "code",
   "execution_count": 2,
   "metadata": {},
   "outputs": [
    {
     "data": {
      "text/plain": [
       "10"
      ]
     },
     "execution_count": 2,
     "metadata": {},
     "output_type": "execute_result"
    }
   ],
   "source": [
    "len(s)"
   ]
  },
  {
   "cell_type": "markdown",
   "metadata": {},
   "source": [
    "Es posible usar enteros para indexar cadenas."
   ]
  },
  {
   "cell_type": "code",
   "execution_count": 3,
   "metadata": {},
   "outputs": [
    {
     "data": {
      "text/plain": [
       "'H'"
      ]
     },
     "execution_count": 3,
     "metadata": {},
     "output_type": "execute_result"
    }
   ],
   "source": [
    "s[0]"
   ]
  },
  {
   "cell_type": "markdown",
   "metadata": {},
   "source": [
    "Si quisieramos obtener el último elemento de una cadena podemos hacer."
   ]
  },
  {
   "cell_type": "code",
   "execution_count": 4,
   "metadata": {},
   "outputs": [
    {
     "data": {
      "text/plain": [
       "'o'"
      ]
     },
     "execution_count": 4,
     "metadata": {},
     "output_type": "execute_result"
    }
   ],
   "source": [
    "s[-1]"
   ]
  },
  {
   "cell_type": "markdown",
   "metadata": {},
   "source": [
    "Además es posible obtener rebanadas (slices), mediante la sintaxis, _[desde:hasta]_"
   ]
  },
  {
   "cell_type": "code",
   "execution_count": 5,
   "metadata": {},
   "outputs": [
    {
     "data": {
      "text/plain": [
       "'Hola'"
      ]
     },
     "execution_count": 5,
     "metadata": {},
     "output_type": "execute_result"
    }
   ],
   "source": [
    "s[0:4]"
   ]
  },
  {
   "cell_type": "code",
   "execution_count": 6,
   "metadata": {},
   "outputs": [
    {
     "data": {
      "text/plain": [
       "'mundo'"
      ]
     },
     "execution_count": 6,
     "metadata": {},
     "output_type": "execute_result"
    }
   ],
   "source": [
    "s[5:10]"
   ]
  },
  {
   "cell_type": "markdown",
   "metadata": {},
   "source": [
    "Es posible omitir el _desde_, Python asumirá que es desde el principio. De la misma forma es posible omitir el _hasta_, Python asumirá que es hasta el final."
   ]
  },
  {
   "cell_type": "code",
   "execution_count": 7,
   "metadata": {},
   "outputs": [
    {
     "data": {
      "text/plain": [
       "'Hola'"
      ]
     },
     "execution_count": 7,
     "metadata": {},
     "output_type": "execute_result"
    }
   ],
   "source": [
    "s[:4]"
   ]
  },
  {
   "cell_type": "code",
   "execution_count": 8,
   "metadata": {},
   "outputs": [
    {
     "data": {
      "text/plain": [
       "'mundo'"
      ]
     },
     "execution_count": 8,
     "metadata": {},
     "output_type": "execute_result"
    }
   ],
   "source": [
    "s[5:]"
   ]
  },
  {
   "cell_type": "code",
   "execution_count": 9,
   "metadata": {},
   "outputs": [
    {
     "data": {
      "text/plain": [
       "'Hola mundo'"
      ]
     },
     "execution_count": 9,
     "metadata": {},
     "output_type": "execute_result"
    }
   ],
   "source": [
    "s[:] # esto es lo mismo que s"
   ]
  },
  {
   "cell_type": "markdown",
   "metadata": {},
   "source": [
    "Además es posible definir el _paso_ de las rebanadas (slices), usando la sintaxis  _[desde:hasta:paso]_"
   ]
  },
  {
   "cell_type": "code",
   "execution_count": 10,
   "metadata": {},
   "outputs": [
    {
     "data": {
      "text/plain": [
       "'Hola mundo'"
      ]
     },
     "execution_count": 10,
     "metadata": {},
     "output_type": "execute_result"
    }
   ],
   "source": [
    "s[::1]  # esto es lo mismo que s o s[:]"
   ]
  },
  {
   "cell_type": "code",
   "execution_count": 11,
   "metadata": {},
   "outputs": [
    {
     "data": {
      "text/plain": [
       "'Hauo'"
      ]
     },
     "execution_count": 11,
     "metadata": {},
     "output_type": "execute_result"
    }
   ],
   "source": [
    "s[::3]"
   ]
  },
  {
   "cell_type": "markdown",
   "metadata": {},
   "source": [
    "En Python es posible sumar cadenas."
   ]
  },
  {
   "cell_type": "code",
   "execution_count": 12,
   "metadata": {},
   "outputs": [
    {
     "data": {
      "text/plain": [
       "'Hola mundo!'"
      ]
     },
     "execution_count": 12,
     "metadata": {},
     "output_type": "execute_result"
    }
   ],
   "source": [
    "r = '!'\n",
    "s + r "
   ]
  },
  {
   "cell_type": "markdown",
   "metadata": {},
   "source": [
    "Se dice que el operador `+` está sobrecargado (overloaded) ya que además de su definición matemática original aplicable a números es posible aplicarlo a cadenas, resultando en la concatenación de las mismas.\n",
    "\n",
    "También es posible multiplicar cadenas por enteros."
   ]
  },
  {
   "cell_type": "code",
   "execution_count": 13,
   "metadata": {},
   "outputs": [
    {
     "data": {
      "text/plain": [
       "'Hola mundo!!!'"
      ]
     },
     "execution_count": 13,
     "metadata": {},
     "output_type": "execute_result"
    }
   ],
   "source": [
    "s + r*3"
   ]
  },
  {
   "cell_type": "markdown",
   "metadata": {},
   "source": [
    "### Métodos de cadenas\n",
    "\n",
    "Con lo que hemos visto podemos crear una función para determinar si una palabra es palíndromo"
   ]
  },
  {
   "cell_type": "code",
   "execution_count": 14,
   "metadata": {},
   "outputs": [
    {
     "data": {
      "text/plain": [
       "True"
      ]
     },
     "execution_count": 14,
     "metadata": {},
     "output_type": "execute_result"
    }
   ],
   "source": [
    "def es_palindromo(palabra):\n",
    "    return palabra == palabra[::-1]\n",
    "\n",
    "es_palindromo('somos')"
   ]
  },
  {
   "cell_type": "markdown",
   "metadata": {},
   "source": [
    "Ahora veamos como generalizar esta función para más de una palabra, por ej \"luz azul\""
   ]
  },
  {
   "cell_type": "code",
   "execution_count": 15,
   "metadata": {},
   "outputs": [
    {
     "data": {
      "text/plain": [
       "False"
      ]
     },
     "execution_count": 15,
     "metadata": {},
     "output_type": "execute_result"
    }
   ],
   "source": [
    "es_palindromo('luz azul')"
   ]
  },
  {
   "cell_type": "markdown",
   "metadata": {},
   "source": [
    "Las cadenas en Python tienen muchos métodos, por ejemplo `split` devuelve una lista de strings por defecto la lista es generada \"separando\" un strings cada vez que se encuentra un espacio en blanco."
   ]
  },
  {
   "cell_type": "code",
   "execution_count": 16,
   "metadata": {},
   "outputs": [
    {
     "data": {
      "text/plain": [
       "['A', 'más', 'cómo,', 'menos', 'por', 'qué']"
      ]
     },
     "execution_count": 16,
     "metadata": {},
     "output_type": "execute_result"
    }
   ],
   "source": [
    "aforismo = 'A más cómo, menos por qué'\n",
    "aforismo.split()"
   ]
  },
  {
   "cell_type": "markdown",
   "metadata": {},
   "source": [
    "Este comportamiento lo podemos cambiar pasando como argumento el caracter que queremos usar como separador."
   ]
  },
  {
   "cell_type": "code",
   "execution_count": 17,
   "metadata": {},
   "outputs": [
    {
     "data": {
      "text/plain": [
       "['A más cómo', ' menos por qué']"
      ]
     },
     "execution_count": 17,
     "metadata": {},
     "output_type": "execute_result"
    }
   ],
   "source": [
    "aforismo.split(',')"
   ]
  },
  {
   "cell_type": "markdown",
   "metadata": {},
   "source": [
    "Otro método es `lower` que tiene como efecto devolver una nueva cadena donde todos los caracteres son minúsculas"
   ]
  },
  {
   "cell_type": "code",
   "execution_count": 18,
   "metadata": {},
   "outputs": [
    {
     "data": {
      "text/plain": [
       "'luz azul'"
      ]
     },
     "execution_count": 18,
     "metadata": {},
     "output_type": "execute_result"
    }
   ],
   "source": [
    "'LuZ AzUl'.lower()"
   ]
  },
  {
   "cell_type": "markdown",
   "metadata": {},
   "source": [
    "otro método es replace que nos permite reeplazar caracteres, incluso podemos reemplazar un espacio en blanco por nada."
   ]
  },
  {
   "cell_type": "code",
   "execution_count": 19,
   "metadata": {},
   "outputs": [
    {
     "data": {
      "text/plain": [
       "'Luzazul'"
      ]
     },
     "execution_count": 19,
     "metadata": {},
     "output_type": "execute_result"
    }
   ],
   "source": [
    "'Luz azul'.replace(' ', '')"
   ]
  },
  {
   "cell_type": "markdown",
   "metadata": {},
   "source": [
    "Combinando estos dos últimos métodos podemos crear una versión más versatil de `es_palindromo`."
   ]
  },
  {
   "cell_type": "code",
   "execution_count": 20,
   "metadata": {},
   "outputs": [
    {
     "data": {
      "text/plain": [
       "True"
      ]
     },
     "execution_count": 20,
     "metadata": {},
     "output_type": "execute_result"
    }
   ],
   "source": [
    "def es_palindromo(palabra):\n",
    "    nueva_palabra = palabra.lower().replace(' ', '')  # es posible concatenar métodos\n",
    "    return nueva_palabra == nueva_palabra[::-1]\n",
    "\n",
    "es_palindromo('Luz azul')"
   ]
  },
  {
   "cell_type": "markdown",
   "metadata": {},
   "source": [
    "Las cadenas poseen muchos otros métodos, como por ejemplo"
   ]
  },
  {
   "cell_type": "code",
   "execution_count": 21,
   "metadata": {},
   "outputs": [
    {
     "data": {
      "text/plain": [
       "'HOLA MUNDO'"
      ]
     },
     "execution_count": 21,
     "metadata": {},
     "output_type": "execute_result"
    }
   ],
   "source": [
    "s.upper()  # Devuelve una copia de la cadena original, pero en mayúsculas"
   ]
  },
  {
   "cell_type": "code",
   "execution_count": 22,
   "metadata": {},
   "outputs": [
    {
     "data": {
      "text/plain": [
       "2"
      ]
     },
     "execution_count": 22,
     "metadata": {},
     "output_type": "execute_result"
    }
   ],
   "source": [
    "s.count('o')  # cuenta la cantidad de veces que una subcadena aparece en una cadena"
   ]
  },
  {
   "cell_type": "code",
   "execution_count": 23,
   "metadata": {},
   "outputs": [
    {
     "data": {
      "text/plain": [
       "1"
      ]
     },
     "execution_count": 23,
     "metadata": {},
     "output_type": "execute_result"
    }
   ],
   "source": [
    "s.index('o')  # devuelve el índice en el cual una subcadena aparece (por primera vez)"
   ]
  },
  {
   "cell_type": "markdown",
   "metadata": {},
   "source": [
    "Para seguir explorando otras funciones aplicables a cadenas podés usar la sugerencia que ofrece Jupyter al presionar _tab_."
   ]
  },
  {
   "cell_type": "code",
   "execution_count": 24,
   "metadata": {},
   "outputs": [],
   "source": [
    "# s."
   ]
  },
  {
   "cell_type": "markdown",
   "metadata": {},
   "source": [
    "####  Formateado de cadenas"
   ]
  },
  {
   "cell_type": "markdown",
   "metadata": {},
   "source": [
    "En muchas ocasiones es necesario dar algún formato específico a cadenas, por ejemplo al imprimir resultados en pantalla o guardar datos en un archivo. Algunos de los casos más usados son:"
   ]
  },
  {
   "cell_type": "code",
   "execution_count": 25,
   "metadata": {},
   "outputs": [
    {
     "data": {
      "text/plain": [
       "'valor = 42.000 unidades'"
      ]
     },
     "execution_count": 25,
     "metadata": {},
     "output_type": "execute_result"
    }
   ],
   "source": [
    "val = 42\n",
    "\"valor = {:.3f} unidades\".format(val)"
   ]
  },
  {
   "cell_type": "code",
   "execution_count": 26,
   "metadata": {},
   "outputs": [
    {
     "data": {
      "text/plain": [
       "'3.142, 042, abc,        xyz'"
      ]
     },
     "execution_count": 26,
     "metadata": {},
     "output_type": "execute_result"
    }
   ],
   "source": [
    "\"{:.3f}, {:03d}, {}, {:>10}\".format(3.1415, 42, 'abc', 'xyz')"
   ]
  },
  {
   "cell_type": "markdown",
   "metadata": {},
   "source": [
    "A partir de Python 3.6 se incorporó una nueva forma de formatear cadenas, las `f-strings`. Qué es la más usada y recomendada actualmente."
   ]
  },
  {
   "cell_type": "code",
   "execution_count": 27,
   "metadata": {},
   "outputs": [
    {
     "data": {
      "text/plain": [
       "'valor = 42.000 unidades'"
      ]
     },
     "execution_count": 27,
     "metadata": {},
     "output_type": "execute_result"
    }
   ],
   "source": [
    "f\"valor = {val:.3f} unidades\""
   ]
  },
  {
   "cell_type": "markdown",
   "metadata": {},
   "source": [
    "Como pueden ver las f-strings son similares a `.format()`, solo que un poco más directas ya que permiten pasar variables directamente dentro de la cadena. Incluso podemos realizar operaciones con la variable dentro de la cadena."
   ]
  },
  {
   "cell_type": "code",
   "execution_count": 28,
   "metadata": {},
   "outputs": [
    {
     "data": {
      "text/plain": [
       "'valor = 588.000 unidades'"
      ]
     },
     "execution_count": 28,
     "metadata": {},
     "output_type": "execute_result"
    }
   ],
   "source": [
    "f\"valor = {(val**2)/3:.3f} unidades\""
   ]
  },
  {
   "cell_type": "markdown",
   "metadata": {},
   "source": [
    "Podríamos querer que la función `es_palindromo` nos devuelva un mensaje más amigable que True o False. Una opción que la función no devuelva ningún valor si no que imprima un mensaje, por ejemplo"
   ]
  },
  {
   "cell_type": "code",
   "execution_count": 29,
   "metadata": {},
   "outputs": [
    {
     "name": "stdout",
     "output_type": "stream",
     "text": [
      "Luz azul es un palíndromo\n"
     ]
    }
   ],
   "source": [
    "def es_palindromo(palabra):\n",
    "    nueva_palabra = palabra.lower().replace(' ', '')\n",
    "    if nueva_palabra == nueva_palabra[::-1]:\n",
    "        print(f'{palabra} es un palíndromo')\n",
    "    else:\n",
    "        print(f'{palabra} no es un palíndromo')\n",
    "        \n",
    "es_palindromo('Luz azul')"
   ]
  },
  {
   "cell_type": "code",
   "execution_count": 30,
   "metadata": {},
   "outputs": [],
   "source": [
    "def histograma(cadena):\n",
    "    visto = []\n",
    "    cadena_nueva = cadena.lower().replace(' ', '')\n",
    "    for c in cadena_nueva:\n",
    "        if c not in visto:\n",
    "            print(f'{c} aparece {cadena_nueva.count(c)} veces')\n",
    "            visto.append(c)"
   ]
  },
  {
   "cell_type": "code",
   "execution_count": 31,
   "metadata": {},
   "outputs": [
    {
     "name": "stdout",
     "output_type": "stream",
     "text": [
      "a aparece 8 veces\n",
      "q aparece 1 veces\n",
      "u aparece 2 veces\n",
      "e aparece 1 veces\n",
      "l aparece 3 veces\n",
      "s aparece 1 veces\n",
      "o aparece 1 veces\n",
      "i aparece 2 veces\n",
      "t aparece 1 veces\n",
      "r aparece 1 veces\n",
      "v aparece 1 veces\n",
      "c aparece 2 veces\n",
      "b aparece 1 veces\n",
      "n aparece 1 veces\n",
      ". aparece 1 veces\n"
     ]
    }
   ],
   "source": [
    "cadena=\"Aquella solitaria vaca cubana.\"\n",
    "histograma(cadena)"
   ]
  },
  {
   "cell_type": "markdown",
   "metadata": {},
   "source": [
    "Podemos mejorar algunos aspectos de esta función, por ejemplo unificar caracteres con y sin tilde. y eliminar signos de puntuación no solo espacios en blanco. Para ello vamos a usar el método `maketrans` que nos permite crear una tabla de correspondencia entre el primer y segundo argumento. El tercer argumento indica los caracteres que sean reemplazados por nada. Otro truco de la siguiente función es que usa \"vez\" y \"veces\" según corresponda (queda como ejercicio explicar como se logra esto)."
   ]
  },
  {
   "cell_type": "code",
   "execution_count": 32,
   "metadata": {},
   "outputs": [
    {
     "name": "stdout",
     "output_type": "stream",
     "text": [
      "a aparece 8 veces\n",
      "q aparece 1 vez\n",
      "u aparece 2 veces\n",
      "e aparece 1 vez\n",
      "l aparece 3 veces\n",
      "s aparece 1 vez\n",
      "o aparece 1 vez\n",
      "i aparece 2 veces\n",
      "t aparece 1 vez\n",
      "r aparece 1 vez\n",
      "v aparece 1 vez\n",
      "c aparece 2 veces\n",
      "b aparece 1 vez\n",
      "n aparece 1 vez\n"
     ]
    }
   ],
   "source": [
    "def histograma(cadena):\n",
    "    visto = []\n",
    "    trans = str.maketrans('áéíóúü','aeiouu', ':,. ')\n",
    "    cadena_nueva = cadena.lower().translate(trans)\n",
    "    for c in cadena_nueva:\n",
    "        if c not in visto:\n",
    "            cantidad = cadena_nueva.count(c)\n",
    "            d = 'vez' if cantidad == 1  else 'veces'\n",
    "            print(f'{c} aparece {cantidad} {d}')\n",
    "            visto.append(c)\n",
    "            \n",
    "\n",
    "histograma(cadena)"
   ]
  },
  {
   "cell_type": "markdown",
   "metadata": {},
   "source": [
    "### Listas\n",
    "\n",
    "A continuación vamos a extender lo que ya vimos de listas anteriormente. Como ya vimos las listas y las cadenas comparten varias características, como la posibilidad de indexarlas y de tomar rebanadas. La principal diferencia es que las listas pueden contener elementos de distintos tipos, como enteros, cadenas e incluso otras listas.\n"
   ]
  },
  {
   "cell_type": "code",
   "execution_count": 33,
   "metadata": {},
   "outputs": [
    {
     "data": {
      "text/plain": [
       "[1, 'a', 1.0, [42, 7]]"
      ]
     },
     "execution_count": 33,
     "metadata": {},
     "output_type": "execute_result"
    }
   ],
   "source": [
    "lista = [1, 'a', 1.0, [42, 7]]\n",
    "lista"
   ]
  },
  {
   "cell_type": "markdown",
   "metadata": {},
   "source": [
    "Una lista que contiene a una o más listas es llamada _anidada_. Otro ejemplo de lista anidada podría ser:"
   ]
  },
  {
   "cell_type": "code",
   "execution_count": 34,
   "metadata": {},
   "outputs": [
    {
     "data": {
      "text/plain": [
       "[[0, 1], [2, 3]]"
      ]
     },
     "execution_count": 34,
     "metadata": {},
     "output_type": "execute_result"
    }
   ],
   "source": [
    "m = [[0, 1], [2, 3]]\n",
    "m"
   ]
  },
  {
   "cell_type": "markdown",
   "metadata": {},
   "source": [
    "Dado que la lista _m_ es una lista de listas es necesario usar dos indices para acceder a cada entero almacenado en _m_. Veamos.\n"
   ]
  },
  {
   "cell_type": "code",
   "execution_count": 35,
   "metadata": {},
   "outputs": [
    {
     "data": {
      "text/plain": [
       "[2, 3]"
      ]
     },
     "execution_count": 35,
     "metadata": {},
     "output_type": "execute_result"
    }
   ],
   "source": [
    "m[1] # el segundo elemento de la lista m es otra lista."
   ]
  },
  {
   "cell_type": "code",
   "execution_count": 36,
   "metadata": {},
   "outputs": [
    {
     "data": {
      "text/plain": [
       "2"
      ]
     },
     "execution_count": 36,
     "metadata": {},
     "output_type": "execute_result"
    }
   ],
   "source": [
    "m[1][0]  # el primer elemento de la segunda lista"
   ]
  },
  {
   "cell_type": "markdown",
   "metadata": {},
   "source": [
    "###  Métodos de las listas"
   ]
  },
  {
   "cell_type": "markdown",
   "metadata": {},
   "source": [
    "Python provee de varios _métodos_ que permiten operar sobre listas como el _método_ _append_ que permite agregar un elemento al final de una lista."
   ]
  },
  {
   "cell_type": "code",
   "execution_count": 37,
   "metadata": {},
   "outputs": [
    {
     "data": {
      "text/plain": [
       "[]"
      ]
     },
     "execution_count": 37,
     "metadata": {},
     "output_type": "execute_result"
    }
   ],
   "source": [
    "l = [] # crea una lista vacía\n",
    "l"
   ]
  },
  {
   "cell_type": "code",
   "execution_count": 38,
   "metadata": {},
   "outputs": [],
   "source": [
    "l.append(10)\n",
    "l.append(9)\n",
    "l.append(8)"
   ]
  },
  {
   "cell_type": "code",
   "execution_count": 39,
   "metadata": {},
   "outputs": [
    {
     "data": {
      "text/plain": [
       "[10, 9, 8]"
      ]
     },
     "execution_count": 39,
     "metadata": {},
     "output_type": "execute_result"
    }
   ],
   "source": [
    "l"
   ]
  },
  {
   "cell_type": "markdown",
   "metadata": {},
   "source": [
    "O el método _extend_ que permite agregar los elementos de una lista al final de otra lista"
   ]
  },
  {
   "cell_type": "code",
   "execution_count": 40,
   "metadata": {},
   "outputs": [
    {
     "data": {
      "text/plain": [
       "[1, 'a', 1.0, [42, 7], 10, 9, 8]"
      ]
     },
     "execution_count": 40,
     "metadata": {},
     "output_type": "execute_result"
    }
   ],
   "source": [
    "lista.extend(l)\n",
    "lista"
   ]
  },
  {
   "cell_type": "markdown",
   "metadata": {},
   "source": [
    "Ordenar elementos de una lista suele ser una tarea común en programación. En Python encontramos el método _sort_ que ordena los elementos de una lista."
   ]
  },
  {
   "cell_type": "code",
   "execution_count": 41,
   "metadata": {},
   "outputs": [
    {
     "data": {
      "text/plain": [
       "[1000, 100, 10, 1]"
      ]
     },
     "execution_count": 41,
     "metadata": {},
     "output_type": "execute_result"
    }
   ],
   "source": [
    "lista = [1, 10, 100, 1000]\n",
    "lista.sort(reverse=True)\n",
    "lista"
   ]
  },
  {
   "cell_type": "markdown",
   "metadata": {},
   "source": [
    "Otro método comunmente usado es _pop_ que devuelve un valor de una lista y lo elimina. Si no se usa ningún argumento, por defecto devolverá el último valor de la lista."
   ]
  },
  {
   "cell_type": "code",
   "execution_count": 42,
   "metadata": {},
   "outputs": [
    {
     "data": {
      "text/plain": [
       "1"
      ]
     },
     "execution_count": 42,
     "metadata": {},
     "output_type": "execute_result"
    }
   ],
   "source": [
    "lista.pop()"
   ]
  },
  {
   "cell_type": "code",
   "execution_count": 43,
   "metadata": {},
   "outputs": [
    {
     "data": {
      "text/plain": [
       "[1000, 100, 10]"
      ]
     },
     "execution_count": 43,
     "metadata": {},
     "output_type": "execute_result"
    }
   ],
   "source": [
    "lista # ahora lista no contiene el elemento 1"
   ]
  },
  {
   "cell_type": "markdown",
   "metadata": {},
   "source": [
    "Algo similar al método _pop_ es el comando _del_"
   ]
  },
  {
   "cell_type": "code",
   "execution_count": 44,
   "metadata": {},
   "outputs": [
    {
     "data": {
      "text/plain": [
       "[100, 10]"
      ]
     },
     "execution_count": 44,
     "metadata": {},
     "output_type": "execute_result"
    }
   ],
   "source": [
    "del lista[0]\n",
    "lista # el elemento con indice 0, es decir, el número 1000 ya no está en la lista"
   ]
  },
  {
   "cell_type": "markdown",
   "metadata": {},
   "source": [
    "También es posible eliminar elementos, indicando el elemento que se desea borrar y no el índice."
   ]
  },
  {
   "cell_type": "code",
   "execution_count": 45,
   "metadata": {},
   "outputs": [
    {
     "data": {
      "text/plain": [
       "[100]"
      ]
     },
     "execution_count": 45,
     "metadata": {},
     "output_type": "execute_result"
    }
   ],
   "source": [
    "lista.remove(10) # se borró el número 4\n",
    "lista"
   ]
  },
  {
   "cell_type": "markdown",
   "metadata": {},
   "source": [
    "### Tuplas"
   ]
  },
  {
   "cell_type": "markdown",
   "metadata": {},
   "source": [
    "Las tuplas son como las listas, pero son inmutables, es decir una vez creadas no pueden ser modificadas. \n",
    "\n",
    "En Python, las tuplas son creadas usando la sintaxis _(..., ..., ...)_ o _...,...,..._"
   ]
  },
  {
   "cell_type": "code",
   "execution_count": 46,
   "metadata": {},
   "outputs": [
    {
     "data": {
      "text/plain": [
       "((10, 20), tuple)"
      ]
     },
     "execution_count": 46,
     "metadata": {},
     "output_type": "execute_result"
    }
   ],
   "source": [
    "tupla = (10, 20)\n",
    "tupla, type(tupla)"
   ]
  },
  {
   "cell_type": "code",
   "execution_count": 47,
   "metadata": {},
   "outputs": [
    {
     "data": {
      "text/plain": [
       "((10, 20), tuple)"
      ]
     },
     "execution_count": 47,
     "metadata": {},
     "output_type": "execute_result"
    }
   ],
   "source": [
    "tupla = 10, 20\n",
    "tupla, type(tupla)"
   ]
  },
  {
   "cell_type": "markdown",
   "metadata": {},
   "source": [
    "Es posible usar una tupla para asignar más de una variable al mismo tiempo."
   ]
  },
  {
   "cell_type": "code",
   "execution_count": 48,
   "metadata": {},
   "outputs": [
    {
     "data": {
      "text/plain": [
       "(10, 20)"
      ]
     },
     "execution_count": 48,
     "metadata": {},
     "output_type": "execute_result"
    }
   ],
   "source": [
    "x, y = tupla\n",
    "x, y"
   ]
  },
  {
   "cell_type": "markdown",
   "metadata": {},
   "source": [
    "Si intentamos asignar un nuevo valor a un elemento de una tupla obtenemos un error:"
   ]
  },
  {
   "cell_type": "code",
   "execution_count": 49,
   "metadata": {},
   "outputs": [
    {
     "ename": "TypeError",
     "evalue": "'tuple' object does not support item assignment",
     "output_type": "error",
     "traceback": [
      "\u001b[0;31m---------------------------------------------------------------------------\u001b[0m",
      "\u001b[0;31mTypeError\u001b[0m                                 Traceback (most recent call last)",
      "Input \u001b[0;32mIn [49]\u001b[0m, in \u001b[0;36m<cell line: 1>\u001b[0;34m()\u001b[0m\n\u001b[0;32m----> 1\u001b[0m tupla[\u001b[38;5;241m0\u001b[39m] \u001b[38;5;241m=\u001b[39m \u001b[38;5;241m42\u001b[39m\n",
      "\u001b[0;31mTypeError\u001b[0m: 'tuple' object does not support item assignment"
     ]
    }
   ],
   "source": [
    "tupla[0] = 42"
   ]
  },
  {
   "cell_type": "markdown",
   "metadata": {},
   "source": [
    "Aveces suele ser necesario, intercambiar los valores de dos variables. Usando la asignación convencional se requiere de una variable temporaria. "
   ]
  },
  {
   "cell_type": "code",
   "execution_count": 50,
   "metadata": {},
   "outputs": [
    {
     "data": {
      "text/plain": [
       "(2, 1)"
      ]
     },
     "execution_count": 50,
     "metadata": {},
     "output_type": "execute_result"
    }
   ],
   "source": [
    "a, b = 1, 2\n",
    "temp = a\n",
    "a = b\n",
    "b = temp\n",
    "\n",
    "a, b"
   ]
  },
  {
   "cell_type": "markdown",
   "metadata": {},
   "source": [
    "Una version más simple es usar tuplas"
   ]
  },
  {
   "cell_type": "code",
   "execution_count": 51,
   "metadata": {},
   "outputs": [
    {
     "data": {
      "text/plain": [
       "(2, 1)"
      ]
     },
     "execution_count": 51,
     "metadata": {},
     "output_type": "execute_result"
    }
   ],
   "source": [
    "a, b = 1, 2\n",
    "a, b = b, a\n",
    "a, b"
   ]
  },
  {
   "cell_type": "markdown",
   "metadata": {},
   "source": [
    "El número de variables a la izquierda debe coincidir con el número de valores a la derecha."
   ]
  },
  {
   "cell_type": "code",
   "execution_count": 52,
   "metadata": {},
   "outputs": [
    {
     "ename": "ValueError",
     "evalue": "too many values to unpack (expected 2)",
     "output_type": "error",
     "traceback": [
      "\u001b[0;31m---------------------------------------------------------------------------\u001b[0m",
      "\u001b[0;31mValueError\u001b[0m                                Traceback (most recent call last)",
      "Input \u001b[0;32mIn [52]\u001b[0m, in \u001b[0;36m<cell line: 1>\u001b[0;34m()\u001b[0m\n\u001b[0;32m----> 1\u001b[0m a, b \u001b[38;5;241m=\u001b[39m \u001b[38;5;241m1\u001b[39m, \u001b[38;5;241m2\u001b[39m, \u001b[38;5;241m3\u001b[39m\n",
      "\u001b[0;31mValueError\u001b[0m: too many values to unpack (expected 2)"
     ]
    }
   ],
   "source": [
    "a, b = 1, 2, 3"
   ]
  },
  {
   "cell_type": "markdown",
   "metadata": {},
   "source": [
    "Dado que las tuplas y las listas son tan parecidas es común que surga la pregunta ¿Cúando es conveniente usar una y cuando la otra?\n",
    "\n",
    "Al ser las tuplas inmutables, son más eficientes (en términos de memoria y procesador) que la listas. Por lo que si algún problema puede resolverse tanto con listas como por tuplas, entonces las tuplas se prefieren si la eficiencia es importante.\n",
    "\n",
    "Una diferencia que puede resultar algo más sutil es la siguiente. Si bien las listas pueden contener elementos de distinto tipo (heterogéneas) su uso más común es cuando todos los elementos son del mismo tipo (homogéneas). Por otro lado es más común que las tuplas sean heterogéneas. En general en una tupla las posiciones tienen significado, mientras que las listas no. Por ejemplo para representar la localización geográfica de sensores podríamos usar una lista de tuplas, la longitud de la lista sería equivalente a la cantidad de sensores desplegados y usaríamos una tupla de tres elementos para indicar la latitud, longitud y altitud. En este ejemplo se puede ver que el ordenamiento de los sensores en la lista podría ser arbitrario, pero en cambio las posiciones en la tupla tienen un significado algo más preciso (ya sea por convención con nuestros pares o por que podríamos tener alguna función que espera un orden particular). Otro ejemplo es usar una lista de tuplas para guardar los nombres de nuestros contactos (una tupla por contacto), donde el primer elemento de la tupla sería el nombre y el segundo el apellido."
   ]
  },
  {
   "cell_type": "markdown",
   "metadata": {},
   "source": [
    "## Diccionarios"
   ]
  },
  {
   "cell_type": "markdown",
   "metadata": {},
   "source": [
    "Los diccionarios son parecidos a las listas y a las tuplas, excepto que cada elemento es un par clave-valor. Otra diferencia es que los elementos de un diccionario no están ordenados. Es por ello que en vez de usar índices accedemos a un diccionario usando _claves_.\n",
    "\n",
    "La sintaxis de los diccionarios es \n",
    "_{clave1 : valor1, clave2 : valor2, ...}_:"
   ]
  },
  {
   "cell_type": "code",
   "execution_count": 53,
   "metadata": {},
   "outputs": [
    {
     "data": {
      "text/plain": [
       "({'parametro1': 1.0, 'parametro2': 2.0, 'parametro3': 3.0}, dict)"
      ]
     },
     "execution_count": 53,
     "metadata": {},
     "output_type": "execute_result"
    }
   ],
   "source": [
    "parametros = {\"parametro1\" : 1.0,\n",
    "              \"parametro2\" : 2.0,\n",
    "              \"parametro3\" : 3.0,}\n",
    "\n",
    "parametros, type(parametros)"
   ]
  },
  {
   "cell_type": "code",
   "execution_count": 54,
   "metadata": {},
   "outputs": [
    {
     "data": {
      "text/plain": [
       "2.0"
      ]
     },
     "execution_count": 54,
     "metadata": {},
     "output_type": "execute_result"
    }
   ],
   "source": [
    "parametros[\"parametro2\"]"
   ]
  },
  {
   "cell_type": "markdown",
   "metadata": {},
   "source": [
    "Si necesitamos agregar una nueva entrada basta con"
   ]
  },
  {
   "cell_type": "code",
   "execution_count": 55,
   "metadata": {
    "scrolled": true
   },
   "outputs": [
    {
     "data": {
      "text/plain": [
       "{'parametro1': 1.0, 'parametro2': 2.0, 'parametro3': 3.0, 'parametro4': 'D'}"
      ]
     },
     "execution_count": 55,
     "metadata": {},
     "output_type": "execute_result"
    }
   ],
   "source": [
    "parametros[\"parametro4\"] = \"D\"\n",
    "parametros"
   ]
  },
  {
   "cell_type": "code",
   "execution_count": 56,
   "metadata": {},
   "outputs": [
    {
     "data": {
      "text/plain": [
       "{'a': 8,\n",
       " 'q': 1,\n",
       " 'u': 2,\n",
       " 'e': 1,\n",
       " 'l': 3,\n",
       " 's': 1,\n",
       " 'o': 1,\n",
       " 'i': 2,\n",
       " 't': 1,\n",
       " 'r': 1,\n",
       " 'v': 1,\n",
       " 'c': 2,\n",
       " 'b': 1,\n",
       " 'n': 1}"
      ]
     },
     "execution_count": 56,
     "metadata": {},
     "output_type": "execute_result"
    }
   ],
   "source": [
    "def histograma(cadena):\n",
    "    dic = dict()\n",
    "    trans = str.maketrans('áéíóúü','aeiouu', ':,. ')\n",
    "    cadena_nueva = cadena.lower().translate(trans)\n",
    "    \n",
    "    for c in cadena_nueva:\n",
    "        if c not in dic:\n",
    "            dic[c] = 1\n",
    "        else:\n",
    "            dic[c] += 1\n",
    "        \n",
    "            \n",
    "    return dic\n",
    "\n",
    "dic = histograma(cadena)\n",
    "dic"
   ]
  },
  {
   "cell_type": "code",
   "execution_count": 57,
   "metadata": {},
   "outputs": [
    {
     "name": "stdout",
     "output_type": "stream",
     "text": [
      "a aparece 8 veces\n",
      "q aparece 1 vez\n",
      "u aparece 2 veces\n",
      "e aparece 1 vez\n",
      "l aparece 3 veces\n",
      "s aparece 1 vez\n",
      "o aparece 1 vez\n",
      "i aparece 2 veces\n",
      "t aparece 1 vez\n",
      "r aparece 1 vez\n",
      "v aparece 1 vez\n",
      "c aparece 2 veces\n",
      "b aparece 1 vez\n",
      "n aparece 1 vez\n"
     ]
    }
   ],
   "source": [
    "for k, v in dic.items():\n",
    "    d = 'vez' if v == 1  else 'veces'\n",
    "    print(f'{k} aparece {v} {d}')"
   ]
  },
  {
   "cell_type": "code",
   "execution_count": 58,
   "metadata": {},
   "outputs": [
    {
     "data": {
      "text/plain": [
       "{'a': 8,\n",
       " 'q': 1,\n",
       " 'u': 2,\n",
       " 'e': 1,\n",
       " 'l': 3,\n",
       " 's': 1,\n",
       " 'o': 1,\n",
       " 'i': 2,\n",
       " 't': 1,\n",
       " 'r': 1,\n",
       " 'v': 1,\n",
       " 'c': 2,\n",
       " 'b': 1,\n",
       " 'n': 1}"
      ]
     },
     "execution_count": 58,
     "metadata": {},
     "output_type": "execute_result"
    }
   ],
   "source": [
    "histograma(cadena)"
   ]
  },
  {
   "cell_type": "markdown",
   "metadata": {},
   "source": [
    "-------------\n",
    "### Ejercicio\n",
    "\n",
    "1. Los diccionarios tienen un método `get` que toma una clave y un valor predeterminado. Si la clave aparece\n",
    "en el diccionario, `get` devuelve el valor correspondiente, de lo contrario, devuelve el valor predeterminado.\n",
    "Use `get` para escribir una versión más concisa de `histograma`. Debería poder eliminar la declaración `if`.\n",
    "\n",
    "-------------"
   ]
  }
 ],
 "metadata": {
  "kernelspec": {
   "display_name": "Python 3 (ipykernel)",
   "language": "python",
   "name": "python3"
  },
  "language_info": {
   "codemirror_mode": {
    "name": "ipython",
    "version": 3
   },
   "file_extension": ".py",
   "mimetype": "text/x-python",
   "name": "python",
   "nbconvert_exporter": "python",
   "pygments_lexer": "ipython3",
   "version": "3.9.7"
  }
 },
 "nbformat": 4,
 "nbformat_minor": 2
}
