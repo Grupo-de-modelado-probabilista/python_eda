{
 "cells": [
  {
   "cell_type": "markdown",
   "metadata": {},
   "source": [
    "# NumPy\n",
    "\n",
    "NumPy (Numerical Python) es una librería para cómputo científico. Esta librería contiene muchas funciones matemáticas que permiten realizar operaciones de álgebra lineal, generar números pseudo-aleatorios, etc. De forma muy general el computo científico se basa en operar con arreglos (_arrays_) de números: Estos arreglos pueden representar objetos matemáticos como vectores, matrices y tensores; entonces las operaciones necesarias son fundamentalmente las del algebra lineal. Pero los arreglos pueden ser más generales. \n",
    "\n",
    "Los arreglos son muy comunes ya que ofrecen un marco comñun para pensar y trabajar con diversos conjunto de datos. Una imagen se puede representar como un arreglo bidimensional de números donde cada número representa el brillo de un pixel. Un sonido como un arreglo unidimensional que representa intensidad versus tiempo.\n",
    "\n",
    "Además los arreglos proveen de una forma eficiente para almacenar y manipular números, más allá de lo que los números representen. En general trabajar con un arreglo de NumPy permite usar menos memoria y realizar operaciones más rapidamente que con una lista. Además, el código escrito en NumPy suele ser más corto que el código equivalente en *Python puro*. El uso de _loops_ es reducido ya que muchas operaciones se aplican directamente sobre arreglos. Esto se conoce como vectorizar el código, internamente los _loops_ siguen estando presentes pero son ejecutados por rutinas optimizadas escritas en lenguajes como C o Fortran. Además, NumPy provee de muchas funciones matemáticas/científicas listas para usar. Esto reduce la cantidad de código que debemos escribir (reduciendo las chances de cometer errores) y más importante, esas funciones están escritas usando implementaciones eficientes y confiables.\n",
    "\n",
    "Para poder usar NumPy debemos importarlo, la forma más común de importar NumPy es la siguiente:"
   ]
  },
  {
   "cell_type": "code",
   "execution_count": 1,
   "metadata": {},
   "outputs": [],
   "source": [
    "import numpy as np"
   ]
  },
  {
   "cell_type": "markdown",
   "metadata": {},
   "source": [
    "## Arreglos (arrays)\n",
    "\n",
    "NumPy usa una estructura de datos llamada arreglos. Los arreglos de NumPy son similares a las listas de Python, pero son mas eficientes para realizar tareas numéricas. La eficiencia deriva de las siguientes características:\n",
    "\n",
    "* Las listas de Python son muy generales, pudiendo contener objetos de distinto tipo. Además los objetos son asignados dinamicamente, es decir el tamaño de una lista no está predefinido, siempre podemos agregar más y más elementos. \n",
    "\n",
    "* Por el contrario, los arreglos de NumPy son **estáticos**  y **homogéneos**. El tipo de los objetos se determina cuando el array es creado (de forma automática o por el usuario) lo que permite hacer uso eficiente de la memoria.\n",
    "\n",
    "* Otra razón por la cual los arreglos son más eficientes que las listas es que en Python todo es un objeto, incluso los números! Por ejemplo en C un entero es esencialmente un rótulo que conecta un lugar en la memoria de la computadora cuyos _bytes_ se usan para codificar el valor de ese entero. Sin embargo en Python un entero es un objeto más complejo que contiene más información que simplemente el valor de un número. Esto da flexibilidad a Python, pero el costo es que es más lento que un lenguaje como C. Este costo es aún mayor cuando combinamos muchos de estos objetos en un objeto más complejo, por ejemplo cuando combinamos enteros dentro de una lista.\n",
    "\n",
    "Otra ventaja de los arreglos es que se comportan de forma similar a los vectores y matrices usados en matemática."
   ]
  },
  {
   "cell_type": "markdown",
   "metadata": {},
   "source": [
    "## Operando con arreglos"
   ]
  },
  {
   "cell_type": "markdown",
   "metadata": {},
   "source": [
    "Existen muchas formas de crear un arreglo. Una de las más comunes, es a partir de una lista."
   ]
  },
  {
   "cell_type": "code",
   "execution_count": 2,
   "metadata": {},
   "outputs": [
    {
     "data": {
      "text/plain": [
       "(array([1, 2, 3, 4, 5, 6]), numpy.ndarray)"
      ]
     },
     "execution_count": 2,
     "metadata": {},
     "output_type": "execute_result"
    }
   ],
   "source": [
    "v = np.array([1, 2, 3, 4, 5, 6])\n",
    "v, type(v)"
   ]
  },
  {
   "cell_type": "markdown",
   "metadata": {},
   "source": [
    "Una vez que tenemos un array podemos operar con el. Por ejemplo calcular su media"
   ]
  },
  {
   "cell_type": "code",
   "execution_count": 3,
   "metadata": {},
   "outputs": [
    {
     "data": {
      "text/plain": [
       "3.5"
      ]
     },
     "execution_count": 3,
     "metadata": {},
     "output_type": "execute_result"
    }
   ],
   "source": [
    "np.mean(v)  # o cómo método v.mean()"
   ]
  },
  {
   "cell_type": "markdown",
   "metadata": {},
   "source": [
    "O calcular funciones como el seno"
   ]
  },
  {
   "cell_type": "code",
   "execution_count": 4,
   "metadata": {},
   "outputs": [
    {
     "data": {
      "text/plain": [
       "array([ 0.84147098,  0.90929743,  0.14112001, -0.7568025 , -0.95892427,\n",
       "       -0.2794155 ])"
      ]
     },
     "execution_count": 4,
     "metadata": {},
     "output_type": "execute_result"
    }
   ],
   "source": [
    "np.sin(v)"
   ]
  },
  {
   "cell_type": "markdown",
   "metadata": {},
   "source": [
    "Noten como al calcular la media, NumPy entiende que quiere que usemos todos los valores en el array para computar una sola media, es decir que queremos agregar los datos. Pero al calcular la función seno, NumPy entiende que esta esa una operación unaria, por cada valor de entrada obtenemos uno de salida."
   ]
  },
  {
   "cell_type": "markdown",
   "metadata": {},
   "source": [
    "En el modulo anterior vimos como calcular la varianza usando Python *puro*. Veamos ahora como calcularla usando NumPy, una posibilidad es usar la definición:\n",
    "\n",
    "$$\n",
    "\\frac{1}{N}\\sum_i^N (x_i - \\bar x)^2\n",
    "$$\n",
    "\n",
    "La cual la prodriamos implementar como:"
   ]
  },
  {
   "cell_type": "code",
   "execution_count": 5,
   "metadata": {},
   "outputs": [
    {
     "data": {
      "text/plain": [
       "2.9166666666666665"
      ]
     },
     "execution_count": 5,
     "metadata": {},
     "output_type": "execute_result"
    }
   ],
   "source": [
    "np.mean((v - v.mean())**2)"
   ]
  },
  {
   "cell_type": "markdown",
   "metadata": {},
   "source": [
    "Lo primero que notamos es que podemos usar los array directamente sin necesidad de *bucles* cuando restamos dos arrays NumPy entiende que a cada elemento del array `v` le queremos restar un escalar, la media de `v`. "
   ]
  },
  {
   "cell_type": "code",
   "execution_count": 6,
   "metadata": {},
   "outputs": [
    {
     "name": "stdout",
     "output_type": "stream",
     "text": [
      "[1 2 3 4 5 6]\n",
      "3.5\n"
     ]
    },
    {
     "data": {
      "text/plain": [
       "array([-2.5, -1.5, -0.5,  0.5,  1.5,  2.5])"
      ]
     },
     "execution_count": 6,
     "metadata": {},
     "output_type": "execute_result"
    }
   ],
   "source": [
    "print(v)\n",
    "media = v.mean()\n",
    "print(media)\n",
    "v - media"
   ]
  },
  {
   "cell_type": "markdown",
   "metadata": {},
   "source": [
    "NumPy tambien entiende la siguiente operación, es decir aplica la resta elemento a elemento "
   ]
  },
  {
   "cell_type": "code",
   "execution_count": 7,
   "metadata": {},
   "outputs": [
    {
     "data": {
      "text/plain": [
       "array([0, 0, 0, 0, 0, 0])"
      ]
     },
     "execution_count": 7,
     "metadata": {},
     "output_type": "execute_result"
    }
   ],
   "source": [
    "v - v  "
   ]
  },
  {
   "cell_type": "markdown",
   "metadata": {},
   "source": [
    "------------------\n",
    "### Ejercicios\n",
    "\n",
    "1. Como hemos visto hay operaciones en NumPy cuyo resultado dependen de tamaño de los array involucrados. Podría sintetizar cual es la regla usada por NumPy? Podría anticipar el comportamiento de otras operaciones (ej *, +) u otras funciones (ej max, log).\n",
    "------------------"
   ]
  },
  {
   "cell_type": "markdown",
   "metadata": {},
   "source": [
    "Hasta el momento estuvimos calculando medias, varianzas y otras cantidades de forma *manual*. Esto está bien como ejercicio, pero en la práctica es poco común que uno recurra a implementaciones propias de estas funcioens y es más comnun que recurra a funciones predefinidas como las ofecidas por NumPy. Por ejemplo podemos calcular la varianza como"
   ]
  },
  {
   "cell_type": "code",
   "execution_count": 8,
   "metadata": {},
   "outputs": [
    {
     "data": {
      "text/plain": [
       "2.9166666666666665"
      ]
     },
     "execution_count": 8,
     "metadata": {},
     "output_type": "execute_result"
    }
   ],
   "source": [
    "v.var()  # o como función np.var(v)"
   ]
  },
  {
   "cell_type": "markdown",
   "metadata": {},
   "source": [
    "------------------\n",
    "### Ejercicios\n",
    "\n",
    "2. Use la función de autocompletado de Jupyter para explorar otras funciones ofrecidas por NumPy. Identifique al menos 2 y resuma su funcionamiento en pocas palabras.\n",
    "------------------"
   ]
  },
  {
   "cell_type": "markdown",
   "metadata": {},
   "source": [
    "Funciones como _sqrt_, que operan sobre arreglos _elemento-a-elemento_ se conocen como [funciones universales](https://numpy.org/doc/stable/reference/ufuncs.html) (usualmente abreviadas como ufunc).\n",
    "\n",
    "Una de las ventajas de usar ufuncs es que permiten escribir código más breve. Otra ventaja es que los cómputos son más rápidos que usando loops de Python. Detrás de escena NumPy utiliza rutinas escritas en lenguajes compilados como C o Fortran, por lo que hay una ganancia considerable en velocidad, respecto de código en Python puro. Además, el código usado por NumPy es código que suele estar optimizado gracias a los años de labor de programadores y científicos. Al mismo tiempo NumPy busca ser facil de usar y flexible, y esto implica muchas veces renunciar a algo de velocidad, por lo que es posible que rutinas en NumPy NO sean la solución. Pero para la gran mayoría de usuarios la gran mayoría del tiempo NumPy será más que suficiente y esta es una de las razones por las cuales gran parte del ecosistema científico de Python descansa sobre NumPy."
   ]
  },
  {
   "cell_type": "markdown",
   "metadata": {},
   "source": [
    "------------------\n",
    "### Ejercicios\n",
    "\n",
    "3. Escriba una función que a partir de un array devuelva la media, desviación estándard, y la cantidad de elementos\n",
    "------------------"
   ]
  },
  {
   "cell_type": "markdown",
   "metadata": {},
   "source": [
    "## Planilandia y más allá\n",
    "\n",
    "El coeficiente de correlación de Pearson (usualmente abreviado como r) es una medida de correlación lineal entre dos conjuntos de datos. Se define como:\n",
    "\n",
    "$$\n",
    "r_{xy} =\\frac{\\sum ^n _{i=1}(x_i - \\bar{x})(y_i - \\bar{y})}{\\sqrt{\\sum ^n _{i=1}(x_i - \\bar{x})^2} \\sqrt{\\sum ^n _{i=1}(y_i - \\bar{y})^2}} = \\frac{\\operatorname{cov}(X,Y)}{\\sigma_X \\sigma_Y}\n",
    "$$\n",
    "\n",
    "Es decir, es la covarianza entre los dos conjuntos de datos, dividido por el producto de sus desviaciones estandard indivuales. El dividir por las varianzas nos asegura que el resultado final deberá estar entre -1 y 1, siendo -1 anticorrelación perfecta, 0 no correlación y 1 correlación perfecta. En otras palabras el coefficiente de correlación de Pearson es una covarianza normalizada.\n",
    "\n",
    "\n",
    "<img src='imagenes/correlación.png' width=600> \n",
    "    "
   ]
  },
  {
   "cell_type": "markdown",
   "metadata": {},
   "source": [
    "------------------\n",
    "### Ejercicios\n",
    "\n",
    "4. Escriba una función que calcule el coefficiente de correlación de Pearson para dos arrays. Compare con la función `np.corrcoef(a, b)`.\n",
    "------------------"
   ]
  },
  {
   "cell_type": "markdown",
   "metadata": {},
   "source": [
    "## Planilandia y más allá\n",
    "\n",
    "Los arreglos pueden tener más de una dimensión"
   ]
  },
  {
   "cell_type": "code",
   "execution_count": 9,
   "metadata": {},
   "outputs": [
    {
     "data": {
      "text/plain": [
       "array([[1, 2],\n",
       "       [3, 4],\n",
       "       [5, 6]])"
      ]
     },
     "execution_count": 9,
     "metadata": {},
     "output_type": "execute_result"
    }
   ],
   "source": [
    "M = np.array([[1, 2], [3, 4], [5, 6]])\n",
    "M"
   ]
  },
  {
   "cell_type": "markdown",
   "metadata": {},
   "source": [
    "Esto nos brinda mayor número de opciones al realizar operaciones, podemos calcular la media para todos los valores"
   ]
  },
  {
   "cell_type": "code",
   "execution_count": 10,
   "metadata": {},
   "outputs": [
    {
     "data": {
      "text/plain": [
       "3.5"
      ]
     },
     "execution_count": 10,
     "metadata": {},
     "output_type": "execute_result"
    }
   ],
   "source": [
    "np.mean(M) "
   ]
  },
  {
   "cell_type": "markdown",
   "metadata": {},
   "source": [
    "o hacerlo por dimensión"
   ]
  },
  {
   "cell_type": "code",
   "execution_count": 11,
   "metadata": {},
   "outputs": [
    {
     "data": {
      "text/plain": [
       "array([3., 4.])"
      ]
     },
     "execution_count": 11,
     "metadata": {},
     "output_type": "execute_result"
    }
   ],
   "source": [
    "np.mean(M, axis=0)  # a lo largo de las columnas"
   ]
  },
  {
   "cell_type": "code",
   "execution_count": 12,
   "metadata": {},
   "outputs": [
    {
     "data": {
      "text/plain": [
       "array([1.5, 3.5, 5.5])"
      ]
     },
     "execution_count": 12,
     "metadata": {},
     "output_type": "execute_result"
    }
   ],
   "source": [
    "np.mean(M, axis=1)  # a lo largo de las filas"
   ]
  },
  {
   "cell_type": "markdown",
   "metadata": {},
   "source": [
    "------------------\n",
    "### Ejercicios\n",
    "\n",
    "5. Qué sucede si pasamos un valor para `axis` más grande que la cantidad de dimensiones? Y si usamos enteros negativos?\n",
    "------------------"
   ]
  },
  {
   "cell_type": "markdown",
   "metadata": {},
   "source": [
    "Vamos nuevamente con la varianza"
   ]
  },
  {
   "cell_type": "code",
   "execution_count": 13,
   "metadata": {},
   "outputs": [
    {
     "data": {
      "text/plain": [
       "2.9166666666666665"
      ]
     },
     "execution_count": 13,
     "metadata": {},
     "output_type": "execute_result"
    }
   ],
   "source": [
    "np.mean((M - M.mean())**2)"
   ]
  },
  {
   "cell_type": "markdown",
   "metadata": {},
   "source": [
    "A lo largo del eje 0 (columnas)"
   ]
  },
  {
   "cell_type": "code",
   "execution_count": 14,
   "metadata": {},
   "outputs": [
    {
     "data": {
      "text/plain": [
       "array([2.66666667, 2.66666667])"
      ]
     },
     "execution_count": 14,
     "metadata": {},
     "output_type": "execute_result"
    }
   ],
   "source": [
    "np.mean((M - M.mean(axis=0))**2, axis=0)"
   ]
  },
  {
   "cell_type": "markdown",
   "metadata": {},
   "source": [
    "A lo largo del eje 1 (filas)"
   ]
  },
  {
   "cell_type": "code",
   "execution_count": 15,
   "metadata": {},
   "outputs": [
    {
     "data": {
      "text/plain": [
       "array([0.25, 0.25, 0.25])"
      ]
     },
     "execution_count": 15,
     "metadata": {},
     "output_type": "execute_result"
    }
   ],
   "source": [
    "np.mean((M.T - M.mean(axis=1))**2, axis=0)"
   ]
  },
  {
   "cell_type": "markdown",
   "metadata": {},
   "source": [
    "\n",
    "------------------\n",
    "### Ejercicios\n",
    "\n",
    "6. Explicar por que no hicimos simplemente `np.mean((M, M.mean(axis=1))**2, axis=1)`\n",
    "------------------"
   ]
  },
  {
   "cell_type": "markdown",
   "metadata": {},
   "source": [
    "## Broadcasting\n",
    "\n",
    "Un elemento que facilita vectorizar código es la capacidad de operar sobre arreglos que no tienen las mismas dimensiones. Esto se llama _broadcasting_ y no es más que un conjunto de reglas que permiten aplicar operaciones binarias (suma, multiplicación etc) a arreglos de distinto tamaño.\n",
    "\n",
    "Consideremos el siguiente ejemplo."
   ]
  },
  {
   "cell_type": "code",
   "execution_count": 16,
   "metadata": {},
   "outputs": [
    {
     "data": {
      "text/plain": [
       "array([2, 3, 4])"
      ]
     },
     "execution_count": 16,
     "metadata": {},
     "output_type": "execute_result"
    }
   ],
   "source": [
    "a = np.array([0, 1, 2])\n",
    "b = np.array([2, 2, 2])\n",
    "a + b"
   ]
  },
  {
   "cell_type": "markdown",
   "metadata": {},
   "source": [
    "Esto no es nada sorprendente lo que hemos hecho es sumar elemento a elemento. Fijensé que el arreglo `b` contiene 3 veces el número `2`. Gracias al broadcasting es posible obtener el mismo resultado al hacer."
   ]
  },
  {
   "cell_type": "code",
   "execution_count": 17,
   "metadata": {},
   "outputs": [
    {
     "data": {
      "text/plain": [
       "array([2, 3, 4])"
      ]
     },
     "execution_count": 17,
     "metadata": {},
     "output_type": "execute_result"
    }
   ],
   "source": [
    "a + 2"
   ]
  },
  {
   "cell_type": "markdown",
   "metadata": {},
   "source": [
    "Esto no solo funciona para arreglos y números, también funciona para dos arreglos."
   ]
  },
  {
   "cell_type": "code",
   "execution_count": 18,
   "metadata": {},
   "outputs": [
    {
     "ename": "ValueError",
     "evalue": "operands could not be broadcast together with shapes (3,2) (3,) ",
     "output_type": "error",
     "traceback": [
      "\u001b[0;31m---------------------------------------------------------------------------\u001b[0m",
      "\u001b[0;31mValueError\u001b[0m                                Traceback (most recent call last)",
      "Input \u001b[0;32mIn [18]\u001b[0m, in \u001b[0;36m<cell line: 1>\u001b[0;34m()\u001b[0m\n\u001b[0;32m----> 1\u001b[0m \u001b[43mM\u001b[49m\u001b[43m \u001b[49m\u001b[38;5;241;43m+\u001b[39;49m\u001b[43m \u001b[49m\u001b[43mb\u001b[49m\n",
      "\u001b[0;31mValueError\u001b[0m: operands could not be broadcast together with shapes (3,2) (3,) "
     ]
    }
   ],
   "source": [
    "M + b"
   ]
  },
  {
   "cell_type": "markdown",
   "metadata": {},
   "source": [
    "En ambos casos lo que está sucediendo _es como si_ antes de realizar la suma extendieramos una de las partes para que las dimensiones conincidan, por ejemplo repetir 3 veces el número 2 o tres veces el vector b. En realidad tal  _repetición_ no se realiza, pero es una  forma útil de pensar la operación.\n",
    "\n",
    "Es claro que el broadcasting NO puede funcionar para cualquier par de arreglos. La siguiente operación no funciona"
   ]
  },
  {
   "cell_type": "code",
   "execution_count": 19,
   "metadata": {},
   "outputs": [
    {
     "ename": "ValueError",
     "evalue": "operands could not be broadcast together with shapes (3,2) (6,) ",
     "output_type": "error",
     "traceback": [
      "\u001b[0;31m---------------------------------------------------------------------------\u001b[0m",
      "\u001b[0;31mValueError\u001b[0m                                Traceback (most recent call last)",
      "Input \u001b[0;32mIn [19]\u001b[0m, in \u001b[0;36m<cell line: 1>\u001b[0;34m()\u001b[0m\n\u001b[0;32m----> 1\u001b[0m \u001b[43mM\u001b[49m\u001b[43m \u001b[49m\u001b[38;5;241;43m+\u001b[39;49m\u001b[43m \u001b[49m\u001b[43mv\u001b[49m\n",
      "\u001b[0;31mValueError\u001b[0m: operands could not be broadcast together with shapes (3,2) (6,) "
     ]
    }
   ],
   "source": [
    "M + v"
   ]
  },
  {
   "cell_type": "markdown",
   "metadata": {},
   "source": [
    "## Comparaciones y máscaras de booleanos\n",
    "\n",
    "Así como es posible sumar un número a un arreglo, es posible hacer comparaciones elemento-a-elemento."
   ]
  },
  {
   "cell_type": "code",
   "execution_count": 20,
   "metadata": {},
   "outputs": [
    {
     "data": {
      "text/plain": [
       "array([[False, False],\n",
       "       [False,  True],\n",
       "       [ True,  True]])"
      ]
     },
     "execution_count": 20,
     "metadata": {},
     "output_type": "execute_result"
    }
   ],
   "source": [
    "M > 3"
   ]
  },
  {
   "cell_type": "markdown",
   "metadata": {},
   "source": [
    "Es muy común usar el resultado de tal comparación para obtener valores de un arreglo que cumplan con cierto criterio, como:"
   ]
  },
  {
   "cell_type": "code",
   "execution_count": 21,
   "metadata": {},
   "outputs": [
    {
     "data": {
      "text/plain": [
       "array([4, 5, 6])"
      ]
     },
     "execution_count": 21,
     "metadata": {},
     "output_type": "execute_result"
    }
   ],
   "source": [
    "M[M > 3]"
   ]
  },
  {
   "cell_type": "markdown",
   "metadata": {},
   "source": [
    "------------------\n",
    "### Ejercicios\n",
    "\n",
    "6. Escriba la función `contiene_ceros` que indica si un array contiene el valor 0.\n",
    "7. Escriba la función `todos_positivos` que indica si todos los elementos de un array son positivos.\n",
    "8. El estándar del [IEEE para aritmética en punto flotante](https://es.wikipedia.org/wiki/IEEE_754), definió una serie de números especiales, includos infinito negativo (-np.inf, o np.NINF), infinito positivo (np.inf, o np.PINF) y Not a Number (np.nan, o np.NAN). Para las siguientes expresiones, anote cual cree que es el resultado y luego compruebe si sus afirmaciones son correctas.\n",
    "\n",
    "```\n",
    "    0 * np.inf\n",
    "    np.inf - np.inf\n",
    "    np.inf - 1\n",
    "    0 * np.nan\n",
    "    np.nan == np.nan\n",
    "    np.inf > np.nan\n",
    "    np.inf <= np.nan\n",
    "    np.inf > np.inf\n",
    "    np.inf <= np.inf\n",
    "    np.nan - np.nan\n",
    "```\n",
    "9. Demuestre con un ejemplo la diferencia entre `np.mean()` y `np.nanmean()`\n",
    "10. NumPy ofrece varias funciones del tipo `np.nan*` listelas y explique el funcionamiento de 2 de ellas\n",
    "\n",
    "------------------"
   ]
  },
  {
   "cell_type": "markdown",
   "metadata": {},
   "source": [
    "### Creando arreglos\n",
    "\n",
    "Ya vimos que es posible crear arreglos a partir de listas. Existen varias rutinas para [crear](https://numpy.org/doc/stable/reference/routines.array-creation.html) arreglos de NumPy a partir de:\n",
    "\n",
    "* Listas o tuplas de Python\n",
    "* Rangos numéricos\n",
    "* Números aletorios\n",
    "* Ceros, unos y valores arbitrarios\n",
    "* Archivos\n",
    "\n",
    "#### A partir de listas y tuplas\n",
    "\n",
    "Para crear arreglos a partir de listas (o tuplas) podemos usar la funcion **array**."
   ]
  },
  {
   "cell_type": "code",
   "execution_count": 22,
   "metadata": {},
   "outputs": [
    {
     "data": {
      "text/plain": [
       "array([1, 2, 3, 4, 5, 6])"
      ]
     },
     "execution_count": 22,
     "metadata": {},
     "output_type": "execute_result"
    }
   ],
   "source": [
    "v = np.array([1, 2, 3, 4, 5, 6])\n",
    "v"
   ]
  },
  {
   "cell_type": "markdown",
   "metadata": {},
   "source": [
    "Los arreglos pueden tener más de una dimensión"
   ]
  },
  {
   "cell_type": "code",
   "execution_count": 23,
   "metadata": {},
   "outputs": [
    {
     "data": {
      "text/plain": [
       "array([[1, 2],\n",
       "       [3, 4],\n",
       "       [5, 6]])"
      ]
     },
     "execution_count": 23,
     "metadata": {},
     "output_type": "execute_result"
    }
   ],
   "source": [
    "M = np.array([[1, 2], [3, 4], [5, 6]])\n",
    "M"
   ]
  },
  {
   "cell_type": "markdown",
   "metadata": {},
   "source": [
    "Los objetos **v** y **M** son ambos del tipo **ndarray**"
   ]
  },
  {
   "cell_type": "code",
   "execution_count": 24,
   "metadata": {},
   "outputs": [
    {
     "data": {
      "text/plain": [
       "(numpy.ndarray, numpy.ndarray)"
      ]
     },
     "execution_count": 24,
     "metadata": {},
     "output_type": "execute_result"
    }
   ],
   "source": [
    "type(v), type(M)"
   ]
  },
  {
   "cell_type": "markdown",
   "metadata": {},
   "source": [
    "La diferencia entre el arreglo **v** y **M** es la forma. Para obtener la forma de un arreglo podemos usar el método **shape**."
   ]
  },
  {
   "cell_type": "code",
   "execution_count": 25,
   "metadata": {},
   "outputs": [
    {
     "data": {
      "text/plain": [
       "(6,)"
      ]
     },
     "execution_count": 25,
     "metadata": {},
     "output_type": "execute_result"
    }
   ],
   "source": [
    "v.shape  # equivalente a la función np.shape(v)"
   ]
  },
  {
   "cell_type": "code",
   "execution_count": 26,
   "metadata": {},
   "outputs": [
    {
     "data": {
      "text/plain": [
       "(3, 2)"
      ]
     },
     "execution_count": 26,
     "metadata": {},
     "output_type": "execute_result"
    }
   ],
   "source": [
    "M.shape  # equivalente a np.shape(M)"
   ]
  },
  {
   "cell_type": "markdown",
   "metadata": {},
   "source": [
    " **size** nos dice el número de elementos de un arreglo"
   ]
  },
  {
   "cell_type": "code",
   "execution_count": 27,
   "metadata": {},
   "outputs": [
    {
     "data": {
      "text/plain": [
       "(6, 6)"
      ]
     },
     "execution_count": 27,
     "metadata": {},
     "output_type": "execute_result"
    }
   ],
   "source": [
    "v.size, M.size  # o np.size(v), np.size(M) "
   ]
  },
  {
   "cell_type": "markdown",
   "metadata": {},
   "source": [
    "De la misma forma podemos obtener el número de dimensiones de un arreglo usando **ndim**"
   ]
  },
  {
   "cell_type": "code",
   "execution_count": 28,
   "metadata": {},
   "outputs": [
    {
     "data": {
      "text/plain": [
       "(1, 2)"
      ]
     },
     "execution_count": 28,
     "metadata": {},
     "output_type": "execute_result"
    }
   ],
   "source": [
    "v.ndim, M.ndim  # o np.ndim(v), np.ndim(M) "
   ]
  },
  {
   "cell_type": "markdown",
   "metadata": {},
   "source": [
    "Usando el método **dtype**, podemos preguntar sobre el **tipo** (type) de los elementos almacenados en un arreglo."
   ]
  },
  {
   "cell_type": "code",
   "execution_count": 29,
   "metadata": {},
   "outputs": [
    {
     "data": {
      "text/plain": [
       "dtype('int64')"
      ]
     },
     "execution_count": 29,
     "metadata": {},
     "output_type": "execute_result"
    }
   ],
   "source": [
    "M.dtype"
   ]
  },
  {
   "cell_type": "markdown",
   "metadata": {},
   "source": [
    "Si tuvieramos una lista de enteros y quisieramos reemplazar uno de esos enteros por una cadena, Python aceparía la orden sin chistar. En cambio, con los arreglos obtenemos un error."
   ]
  },
  {
   "cell_type": "code",
   "execution_count": 30,
   "metadata": {},
   "outputs": [
    {
     "ename": "ValueError",
     "evalue": "invalid literal for int() with base 10: 'hello world'",
     "output_type": "error",
     "traceback": [
      "\u001b[0;31m---------------------------------------------------------------------------\u001b[0m",
      "\u001b[0;31mValueError\u001b[0m                                Traceback (most recent call last)",
      "Input \u001b[0;32mIn [30]\u001b[0m, in \u001b[0;36m<cell line: 1>\u001b[0;34m()\u001b[0m\n\u001b[0;32m----> 1\u001b[0m v[\u001b[38;5;241m0\u001b[39m] \u001b[38;5;241m=\u001b[39m \u001b[38;5;124m\"\u001b[39m\u001b[38;5;124mhello world\u001b[39m\u001b[38;5;124m\"\u001b[39m\n",
      "\u001b[0;31mValueError\u001b[0m: invalid literal for int() with base 10: 'hello world'"
     ]
    }
   ],
   "source": [
    "v[0] = \"hello world\""
   ]
  },
  {
   "cell_type": "markdown",
   "metadata": {},
   "source": [
    "O podríamos obtener algo distinto a lo que esperábamos!"
   ]
  },
  {
   "cell_type": "code",
   "execution_count": 31,
   "metadata": {},
   "outputs": [
    {
     "data": {
      "text/plain": [
       "(array([0, 2, 3, 4, 5, 6]), array([0.9, 2. , 3. , 4. , 5. , 6. ]))"
      ]
     },
     "execution_count": 31,
     "metadata": {},
     "output_type": "execute_result"
    }
   ],
   "source": [
    "v[0] = 0.9\n",
    "x = np.array([0.9, 2, 3, 4, 5, 6])\n",
    "v, x"
   ]
  },
  {
   "cell_type": "markdown",
   "metadata": {},
   "source": [
    "En el primer caso, al agregar 0.9 a un array de enteros NumPy hace lo que se conoce como _downcast_ y trunca el valor a un entero (0.9 --> 0). En el segundo caso creamos un nuevo array a partir de una lista que contiene tantos enteros como decimales y entonces NumPy decide hacer un _upcast_ y convertir a todos los números a decimales.\n",
    "\n",
    "Si no queremos que NumPy decida por nosotros, es posible definir de forma explícita el tipo al crear un array."
   ]
  },
  {
   "cell_type": "code",
   "execution_count": 32,
   "metadata": {},
   "outputs": [
    {
     "data": {
      "text/plain": [
       "array([[1.+0.j, 2.+0.j],\n",
       "       [3.+0.j, 4.+0.j]])"
      ]
     },
     "execution_count": 32,
     "metadata": {},
     "output_type": "execute_result"
    }
   ],
   "source": [
    "np.array([[1, 2], [3, 4]], dtype=complex)"
   ]
  },
  {
   "cell_type": "markdown",
   "metadata": {},
   "source": [
    "NumPy puede en contener elemenos de distinto tipo. Es solo que de ser posible asume un único tipo ya que esto permite realizar optimizaciones en el cómputo y almacenamiento de el arreglo que no son posibles cuando los valores son de distinto tipo."
   ]
  },
  {
   "cell_type": "code",
   "execution_count": 33,
   "metadata": {},
   "outputs": [
    {
     "data": {
      "text/plain": [
       "array([[1.0, '2'],\n",
       "       [3, 4]], dtype=object)"
      ]
     },
     "execution_count": 33,
     "metadata": {},
     "output_type": "execute_result"
    }
   ],
   "source": [
    "np.array([[1., \"2\"], [3, 4]], dtype=object)"
   ]
  },
  {
   "cell_type": "markdown",
   "metadata": {},
   "source": [
    "#### A partir de un rango numérico\n",
    "\n",
    "Una forma de crear arreglos desde cero es usando rangos. Por ejemplo podemos crear un arreglos conteniendo números igualmente espaciados en el intervalo [desde, hasta), usando **arange**"
   ]
  },
  {
   "cell_type": "code",
   "execution_count": 34,
   "metadata": {},
   "outputs": [
    {
     "data": {
      "text/plain": [
       "array([0, 1, 2, 3, 4, 5, 6, 7, 8, 9])"
      ]
     },
     "execution_count": 34,
     "metadata": {},
     "output_type": "execute_result"
    }
   ],
   "source": [
    "np.arange(0, 10, 1) # desde, hasta (sin incluir), paso"
   ]
  },
  {
   "cell_type": "markdown",
   "metadata": {},
   "source": [
    "_desde_ y _paso_ son argumentos opcionales"
   ]
  },
  {
   "cell_type": "code",
   "execution_count": 35,
   "metadata": {},
   "outputs": [
    {
     "data": {
      "text/plain": [
       "array([0, 1, 2, 3, 4, 5, 6, 7, 8, 9])"
      ]
     },
     "execution_count": 35,
     "metadata": {},
     "output_type": "execute_result"
    }
   ],
   "source": [
    "np.arange(10)"
   ]
  },
  {
   "cell_type": "markdown",
   "metadata": {},
   "source": [
    "A diferencia de la función **range** de Python, **arrange** soporta decimales"
   ]
  },
  {
   "cell_type": "code",
   "execution_count": 36,
   "metadata": {},
   "outputs": [
    {
     "data": {
      "text/plain": [
       "array([-1.  , -0.75, -0.5 , -0.25,  0.  ,  0.25,  0.5 ,  0.75])"
      ]
     },
     "execution_count": 36,
     "metadata": {},
     "output_type": "execute_result"
    }
   ],
   "source": [
    "np.arange(-1, 1, 0.25)"
   ]
  },
  {
   "cell_type": "markdown",
   "metadata": {},
   "source": [
    "Otra función para crear rangos es **linspace** que devuelve numeros igualmente espacios en el intervalo [desde, hasta] (es decir incluyendo el _hasta_). Otra diferencia con **arange** es que no se especifica el _paso_ si no la cantidad total de números que contendrá el arreglo."
   ]
  },
  {
   "cell_type": "code",
   "execution_count": 37,
   "metadata": {},
   "outputs": [
    {
     "data": {
      "text/plain": [
       "array([ 1.   ,  1.375,  1.75 ,  2.125,  2.5  ,  2.875,  3.25 ,  3.625,\n",
       "        4.   ,  4.375,  4.75 ,  5.125,  5.5  ,  5.875,  6.25 ,  6.625,\n",
       "        7.   ,  7.375,  7.75 ,  8.125,  8.5  ,  8.875,  9.25 ,  9.625,\n",
       "       10.   ])"
      ]
     },
     "execution_count": 37,
     "metadata": {},
     "output_type": "execute_result"
    }
   ],
   "source": [
    "np.linspace(1, 10, 25) # desde, hasta, elementos (elementos es opcional)"
   ]
  },
  {
   "cell_type": "markdown",
   "metadata": {},
   "source": [
    "**logspace** es similar a **linspace** pero los números están igualmente espaciados en un escala logarítima."
   ]
  },
  {
   "cell_type": "code",
   "execution_count": 38,
   "metadata": {},
   "outputs": [
    {
     "data": {
      "text/plain": [
       "array([1.        , 1.45499141, 2.11700002, 3.08021685, 4.48168907])"
      ]
     },
     "execution_count": 38,
     "metadata": {},
     "output_type": "execute_result"
    }
   ],
   "source": [
    "np.logspace(0, 1.5, 5, base=np.e) # por defecto usa base 10"
   ]
  },
  {
   "cell_type": "code",
   "execution_count": 39,
   "metadata": {},
   "outputs": [
    {
     "data": {
      "text/plain": [
       "array([0.   , 0.375, 0.75 , 1.125, 1.5  ])"
      ]
     },
     "execution_count": 39,
     "metadata": {},
     "output_type": "execute_result"
    }
   ],
   "source": [
    "np.log(np.logspace(0, 1.5, 5, base=np.e))  # el logaritmo de np.logspace es np.linspace"
   ]
  },
  {
   "cell_type": "markdown",
   "metadata": {},
   "source": [
    "#### A partir de números aleatorios\n",
    "\n",
    "Los números aleatorios son usados en muchos problemas científicos. En la práctica las computadoras son solo capaces de generar números pseudo-aleatorios, _i.e._ números que para los fines prácticos lucen como números aleatorios.\n",
    "\n",
    "Todas las rutinas para generar números aleatorios viven dentro del módulo [random](https://numpy.org/doc/stable/reference/random/index.html). Python usa un algortimo llamado [Mersenne Twister](https://en.wikipedia.org/wiki/Mersenne_twister) para generar números pseudo-aleatorios. Este algorítmo es más que suficiente para fines científicos, pero no es util en caso que necesitemos números pseudo-aleatorios para usar en criptografía.\n",
    "\n",
    "La función mas simple es **rand**. Esta función crea un arreglo a partir de una distribución uniforme en el intervalo [0, 1)."
   ]
  },
  {
   "cell_type": "code",
   "execution_count": 40,
   "metadata": {},
   "outputs": [
    {
     "data": {
      "text/plain": [
       "array([[0.51199647, 0.60918919, 0.26915788, 0.15751548, 0.20966979],\n",
       "       [0.87123566, 0.8612472 , 0.30404539, 0.87051017, 0.43716958]])"
      ]
     },
     "execution_count": 40,
     "metadata": {},
     "output_type": "execute_result"
    }
   ],
   "source": [
    "np.random.rand(2, 5)  # arreglo con forma (2, 5)"
   ]
  },
  {
   "cell_type": "markdown",
   "metadata": {},
   "source": [
    "De forma similar **randn** devuelve muestras a partir de la distribución normal estándar (media = 0, desviación estándard =1)."
   ]
  },
  {
   "cell_type": "code",
   "execution_count": 41,
   "metadata": {},
   "outputs": [
    {
     "data": {
      "text/plain": [
       "array([[ 0.34631068,  0.14351845],\n",
       "       [-0.09220558, -1.83296415],\n",
       "       [-0.20251841, -0.57025616]])"
      ]
     },
     "execution_count": 41,
     "metadata": {},
     "output_type": "execute_result"
    }
   ],
   "source": [
    "np.random.randn(3, 2)"
   ]
  },
  {
   "cell_type": "markdown",
   "metadata": {},
   "source": [
    "Los números aleatorios son útiles en muchas aplicaciones, pero trabajar con ellos puede dificultar tareas como el _debugging_. Una forma de solucionar esto es especificar una semilla fija para el generador de números pseudo-aleatorios. De esta forma cada vez que pidamos una serie de números aleatorios, obtendremos exactamente la misma secuencia."
   ]
  },
  {
   "cell_type": "code",
   "execution_count": 42,
   "metadata": {},
   "outputs": [
    {
     "data": {
      "text/plain": [
       "array([1.36242188, 1.13410818, 2.36307449])"
      ]
     },
     "execution_count": 42,
     "metadata": {},
     "output_type": "execute_result"
    }
   ],
   "source": [
    "np.random.seed(31415)\n",
    "np.random.randn(3)"
   ]
  },
  {
   "cell_type": "markdown",
   "metadata": {},
   "source": [
    "#### A partir de ceros y unos\n",
    "\n",
    "A veces es conveniente llenar arreglos usando simplemente ceros o unos."
   ]
  },
  {
   "cell_type": "code",
   "execution_count": 43,
   "metadata": {},
   "outputs": [
    {
     "data": {
      "text/plain": [
       "array([[0., 0., 0., 0., 0.],\n",
       "       [0., 0., 0., 0., 0.]])"
      ]
     },
     "execution_count": 43,
     "metadata": {},
     "output_type": "execute_result"
    }
   ],
   "source": [
    "np.zeros((2,5))"
   ]
  },
  {
   "cell_type": "code",
   "execution_count": 44,
   "metadata": {},
   "outputs": [
    {
     "data": {
      "text/plain": [
       "array([[1., 1.],\n",
       "       [1., 1.],\n",
       "       [1., 1.]])"
      ]
     },
     "execution_count": 44,
     "metadata": {},
     "output_type": "execute_result"
    }
   ],
   "source": [
    "np.ones((3,2))"
   ]
  },
  {
   "cell_type": "code",
   "execution_count": 45,
   "metadata": {},
   "outputs": [
    {
     "data": {
      "text/plain": [
       "array([[1., 1.],\n",
       "       [1., 1.],\n",
       "       [1., 1.]])"
      ]
     },
     "execution_count": 45,
     "metadata": {},
     "output_type": "execute_result"
    }
   ],
   "source": [
    "np.empty((3,2))  # o simplemente con números sin sentido"
   ]
  },
  {
   "cell_type": "code",
   "execution_count": 46,
   "metadata": {},
   "outputs": [
    {
     "data": {
      "text/plain": [
       "array([[42, 42],\n",
       "       [42, 42],\n",
       "       [42, 42]])"
      ]
     },
     "execution_count": 46,
     "metadata": {},
     "output_type": "execute_result"
    }
   ],
   "source": [
    "np.full((3,2), 42, dtype=int)  # o con algún número en particular"
   ]
  },
  {
   "cell_type": "markdown",
   "metadata": {},
   "source": [
    "#### A partir de archivos\n",
    "\n",
    "Un formato común para almacenar datos es el archivo .csv valores separados por coma (comma separated values). Muchas veces los archivos .csv usan otros separadores como espacios o tabulaciones (tab). Para cargar esos archivos en un arreglo de NumPy podemos usar la función ``genfromtxt`. Por ejemplo,"
   ]
  },
  {
   "cell_type": "code",
   "execution_count": 47,
   "metadata": {},
   "outputs": [
    {
     "name": "stdout",
     "output_type": "stream",
     "text": [
      "   X       Y       Z     occ  b-f\r\n",
      "45.885  29.085  -0.349  1.00 27.21\r\n",
      "45.402  28.249  -1.361  1.00 25.24\r\n",
      "44.792  26.870  -1.153  1.00 23.54\r\n",
      "45.647  25.988  -1.415  1.00 20.94\r\n",
      "46.415  28.104  -2.539  1.00 26.89\r\n",
      "47.432  29.136  -2.674  1.00 27.10\r\n",
      "43.440  26.778  -0.893  1.00 20.65\r\n",
      "43.049  25.297  -0.723  1.00 18.63\r\n",
      "42.868  24.450  -1.968  1.00 16.36\r\n"
     ]
    }
   ],
   "source": [
    "!head datos/muestra.dat  # Este es un comando de Linux que nos permite ver las primeras lineas de un archivo"
   ]
  },
  {
   "cell_type": "code",
   "execution_count": 48,
   "metadata": {},
   "outputs": [
    {
     "data": {
      "text/plain": [
       "array([[45.885, 29.085, -0.349,  1.   , 27.21 ],\n",
       "       [45.402, 28.249, -1.361,  1.   , 25.24 ],\n",
       "       [44.792, 26.87 , -1.153,  1.   , 23.54 ],\n",
       "       [45.647, 25.988, -1.415,  1.   , 20.94 ],\n",
       "       [46.415, 28.104, -2.539,  1.   , 26.89 ],\n",
       "       [47.432, 29.136, -2.674,  1.   , 27.1  ],\n",
       "       [43.44 , 26.778, -0.893,  1.   , 20.65 ],\n",
       "       [43.049, 25.297, -0.723,  1.   , 18.63 ],\n",
       "       [42.868, 24.45 , -1.968,  1.   , 16.36 ],\n",
       "       [41.96 , 24.535, -2.773,  1.   , 15.9  ],\n",
       "       [41.931, 25.472,  0.263,  1.   , 17.29 ],\n",
       "       [41.735, 24.893,  1.591,  1.   , 17.13 ],\n",
       "       [40.229, 24.874,  1.889,  1.   , 15.26 ]])"
      ]
     },
     "execution_count": 48,
     "metadata": {},
     "output_type": "execute_result"
    }
   ],
   "source": [
    "data = np.genfromtxt('datos/muestra.dat', skip_header=True)\n",
    "data"
   ]
  },
  {
   "cell_type": "code",
   "execution_count": 49,
   "metadata": {},
   "outputs": [
    {
     "data": {
      "text/plain": [
       "(13, 5)"
      ]
     },
     "execution_count": 49,
     "metadata": {},
     "output_type": "execute_result"
    }
   ],
   "source": [
    "data.shape"
   ]
  },
  {
   "cell_type": "markdown",
   "metadata": {},
   "source": [
    "Si queremos guardar un arreglo a un archivo de texto podemos usar **numpy.savetxt** "
   ]
  },
  {
   "cell_type": "code",
   "execution_count": 50,
   "metadata": {},
   "outputs": [
    {
     "data": {
      "text/plain": [
       "array([[0.64351246, 0.40036957, 0.87521911],\n",
       "       [0.60860645, 0.10669999, 0.25430889],\n",
       "       [0.03547   , 0.50116423, 0.6174447 ]])"
      ]
     },
     "execution_count": 50,
     "metadata": {},
     "output_type": "execute_result"
    }
   ],
   "source": [
    "M = np.random.rand(3,3)\n",
    "M"
   ]
  },
  {
   "cell_type": "code",
   "execution_count": 51,
   "metadata": {},
   "outputs": [],
   "source": [
    "np.savetxt(\"datos/matriz_aleatoria.csv\", M, fmt='%.2f')"
   ]
  },
  {
   "cell_type": "code",
   "execution_count": 52,
   "metadata": {},
   "outputs": [
    {
     "name": "stdout",
     "output_type": "stream",
     "text": [
      "0.64 0.40 0.88\r\n",
      "0.61 0.11 0.25\r\n",
      "0.04 0.50 0.62\r\n"
     ]
    }
   ],
   "source": [
    "!head datos/matriz_aleatoria.csv"
   ]
  },
  {
   "cell_type": "markdown",
   "metadata": {},
   "source": [
    "Otra opción, es guardar un arreglo en el formato _npy_. Esto es útil cuando necesitamos guardar datos que luego leeremos usando NumPy."
   ]
  },
  {
   "cell_type": "code",
   "execution_count": 53,
   "metadata": {},
   "outputs": [
    {
     "name": "stdout",
     "output_type": "stream",
     "text": [
      "datos/matriz_aleatoria.npy\r\n"
     ]
    }
   ],
   "source": [
    "np.save(\"datos/matriz_aleatoria.npy\", M)\n",
    "!ls datos/*.npy"
   ]
  },
  {
   "cell_type": "markdown",
   "metadata": {},
   "source": [
    "Para cargar los resultados de vuelta en NumPy usamos la función **load**."
   ]
  },
  {
   "cell_type": "code",
   "execution_count": 54,
   "metadata": {},
   "outputs": [
    {
     "data": {
      "text/plain": [
       "array([[0.64351246, 0.40036957, 0.87521911],\n",
       "       [0.60860645, 0.10669999, 0.25430889],\n",
       "       [0.03547   , 0.50116423, 0.6174447 ]])"
      ]
     },
     "execution_count": 54,
     "metadata": {},
     "output_type": "execute_result"
    }
   ],
   "source": [
    "np.load(\"datos/matriz_aleatoria.npy\")"
   ]
  },
  {
   "cell_type": "markdown",
   "metadata": {},
   "source": [
    " ------------------\n",
    "### Ejercicios\n",
    "\n",
    "11. Crear un arreglo con valores de 10 a 49\n",
    "\n",
    "12. Crear un arreglo unidimensional conteniendo ceros, pero que el primer elemento sea 1\n",
    "\n",
    "13. Crear un arreglo con números aleatorios tomados de una distribución normal, con media 0 y desviación estándard 1. Luego calcule la media y desviación estándard.\n",
    "------------------"
   ]
  },
  {
   "cell_type": "markdown",
   "metadata": {},
   "source": [
    "## Método de Monte Carlo\n",
    "\n",
    "Este es un intermedio, no directamente vinculado a Análisis Exploratorio de Datos. Pero es un tema que suele estar ausente en los cursos típicos de estadística, lo cual es lamentable ya que es un método muy usado en estadística y relativamente fácil de implementar en Python y lenguages similares.\n",
    "\n",
    "El método de Montecarlo es un método númérico no-determinista, es decir usa números (seudo)aleatorios. Es usado para aproximar expresiones matemáticas complejas y costosas de evaluar con exactitud. El método se llama así en referencia al Casino de Montecarlo (Mónaco) por ser “la capital del juego de azar”. El nombre y el desarrollo sistemático de los métodos de Monte Carlo datan aproximadamente de 1944. Es considerado por muchas personas como una de las grandes ideas del siglo XX. No existe un único método de Monte Carlo, si no una familia de métodos de Monte Carlo.\n",
    "\n",
    "El siguiente ejemplo es un clásico. Nuestro objetivo es aproximar el valor del número $\\pi$ usando un método de Monte Carlo. Para ello seguimos el siguiente procedimiento.\n",
    "\n",
    "1. Arrojar $N$ puntos al azar dentro deun cuadrado de radio 1.\n",
    "2. Calcular $M$ como la cantidad de puntos que caen dentro de un cuarto de circulo de radio 1. \n",
    "3. Calcular $\\pi=\\frac{M}{4N}$ \n",
    "\n",
    "<img src=\"imagenes/pi.png\" width=300>\n",
    "\n",
    "\n",
    "Notas:\n",
    "\n",
    "* Sabemos que un punto está dentro del cuarto de círculo si $\\sqrt{x^2 + y^2} <= R$, para $R=1$ esto se simplifica a $x^2 + y^2 <= 1$.\n",
    "\n",
    "* El área del cuadrado es $R^2$ (que es proporcional a $N$) y la del cuarto de círculo $\\frac{\\pi R^2}{4}$ (que es proporcional a $M$).\n",
    "\n",
    "* Por lo tanto $\\frac{M}{N} \\approx  \\frac{\\pi R^2}{4 R^2}$, reordenando $\\pi \\approx 4\\frac{M}{N}$"
   ]
  },
  {
   "cell_type": "code",
   "execution_count": 55,
   "metadata": {},
   "outputs": [
    {
     "name": "stdout",
     "output_type": "stream",
     "text": [
      "𝜋≈ 3.14276\n"
     ]
    }
   ],
   "source": [
    "def mcpi(N=1_000):\n",
    "    # evitamos un número demasiado grande de iteraciones\n",
    "    if N > 1E7:\n",
    "        print('elija un número menor de iteraciones')\n",
    "    else:\n",
    "        M = 0\n",
    "        for ite in range(N):\n",
    "            # genero puntos dentro de una cuadrado de lado 1\n",
    "            x = np.random.uniform(0, 1)\n",
    "            y = np.random.uniform(0, 1)\n",
    "            # reviso si los puntos caen dentro del cuarto de círculo\n",
    "            c =  x**2 + y**2 \n",
    "            if c <= 1:\n",
    "                M += 1\n",
    "        # estimo pi como la cantidad de puntos adentro del círculo sobre la cantidad total de puntos por cuatro\n",
    "        pi = 4*M/N\n",
    "        print(f'𝜋≈ {pi:.5f}')\n",
    "\n",
    "mcpi(100000)"
   ]
  },
  {
   "cell_type": "markdown",
   "metadata": {},
   "source": [
    "Si bien `mcpi` es una implementación correcta, es decir calcula el valor de $\\pi$ de forma adecuada (dentro de los límites del método). No estamos usando el potencial de NumPy de vectorizar el código y por lo tanto de escribir una versión más corta y más rápida."
   ]
  },
  {
   "cell_type": "code",
   "execution_count": 56,
   "metadata": {},
   "outputs": [
    {
     "name": "stdout",
     "output_type": "stream",
     "text": [
      "𝜋≈ 3.14284\n"
     ]
    }
   ],
   "source": [
    "def mcpi_vec(N=1_000):\n",
    "    if N > 1E7:\n",
    "        print('elija un número menor de iteraciones')\n",
    "    else:\n",
    "        x, y = np.random.uniform(0, 1, size=(2, N))\n",
    "        c =  x**2 + y**2\n",
    "        M = c <= 1\n",
    "        pi = 4*M.sum()/N\n",
    "        print(f'𝜋≈ {pi:.5f}')\n",
    "\n",
    "mcpi_vec(100000)"
   ]
  },
  {
   "cell_type": "code",
   "execution_count": 57,
   "metadata": {},
   "outputs": [],
   "source": [
    "# comentar los prints antes de correr\n",
    "#%timeit mcpi(100000)\n",
    "#%timeit mcpi_vec(100000)"
   ]
  },
  {
   "cell_type": "code",
   "execution_count": 58,
   "metadata": {},
   "outputs": [
    {
     "data": {
      "text/plain": [
       "0.06485698017489402"
      ]
     },
     "execution_count": 58,
     "metadata": {},
     "output_type": "execute_result"
    }
   ],
   "source": [
    "coords = np.random.uniform(0, 2, size=(10, 2))\n",
    "min_n = []\n",
    "for i in range(len(coords)):\n",
    "    distancias = []\n",
    "    for j in range(0, len(coords)):\n",
    "        if i != j:\n",
    "            #print(i, j)\n",
    "            distancias.append(np.sum(coords[i]-coords[j])**2)\n",
    "    min_n.append(np.min(distancias))\n",
    "    \n",
    "np.mean(min_n)"
   ]
  },
  {
   "cell_type": "markdown",
   "metadata": {},
   "source": [
    "Vamos con otro ejemplo. Estudiamos la distribución espacial de una especie de planta en particular y queremos entender los factores que la determinación. Para 19 plantas observamos la siguiente distribución en una parcela de 2 x 2.\n",
    "\n",
    "<img src=\"imagenes/plantas.png\" width=450>\n",
    "\n",
    "Sospechamos que la distribución no es azaroza y sigue en cambio un patrón. Antes de realiar estudios más profundos sobre los factores queremos ver si en realidad el patrón observado podría haber sido propducido de forma completamente aleatoria. \n",
    "\n",
    "Usándo un método de Monte Carlo podemos generar cientos o miles de muestras de tamaño 19 con distribución uniforme. A esas muestras podemos calcularle un sinfin de \"estadísticos\", por ej podríamos calcular la distancia promedio al primer vecino. \n",
    "\n",
    "Podesmos empezar por calcualar esta cantidad para los datos observados."
   ]
  },
  {
   "cell_type": "code",
   "execution_count": 61,
   "metadata": {},
   "outputs": [
    {
     "data": {
      "text/plain": [
       "0.106246121742485"
      ]
     },
     "execution_count": 61,
     "metadata": {},
     "output_type": "execute_result"
    }
   ],
   "source": [
    "obs = np.array([[1.7       , 1.7       ],\n",
    "               [1.55182999, 1.82548345],\n",
    "               [1.49113702, 1.61873161],\n",
    "               [1.68795178, 1.46840598],\n",
    "               [1.5104354 , 1.37730697],\n",
    "               [1.65748696, 1.39060324],\n",
    "               [1.2851486 , 1.6872971 ],\n",
    "               [1.29116369, 1.6051917 ],\n",
    "               [0.84954872, 1.60474196],\n",
    "               [0.85840104, 1.80068965],\n",
    "               [1.30023925, 1.59893887],\n",
    "               [1.21218006, 1.59641302],\n",
    "               [0.98245123, 1.35352719],\n",
    "               [0.89819884, 1.24584694],\n",
    "               [1.03480692, 1.35352674],\n",
    "               [0.65133482, 0.56332029],\n",
    "               [0.659122  , 0.47913197],\n",
    "               [0.17057758, 0.10220133],\n",
    "               [0.10614136, 0.07896026]])\n",
    "\n",
    "min_n = []\n",
    "for i in range(len(obs)):\n",
    "    distancias = []\n",
    "    for j in range(len(obs)):\n",
    "        if i != j:  # la distancia de una planta consigo misma es siempre 0\n",
    "            distancias.append(np.sum((obs[i]-obs[j])**2)**0.5)\n",
    "    min_n.append(np.min(distancias))\n",
    "\n",
    "obs_min_n = np.mean(min_n)\n",
    "obs_min_n"
   ]
  },
  {
   "cell_type": "markdown",
   "metadata": {},
   "source": [
    "Ahora simulemos esta cantidad para 1000 distribuciones uniformes."
   ]
  },
  {
   "cell_type": "code",
   "execution_count": 62,
   "metadata": {},
   "outputs": [],
   "source": [
    "def mcplantas(N=1_000, n_plantas=19):\n",
    "    if N > 1E7:\n",
    "        print('elija un número menor de iteraciones')\n",
    "    else:\n",
    "        muestra = np.zeros(N)\n",
    "        coords = np.random.uniform(0, 2, size=(N, n_plantas, 2))\n",
    "        for ite in range(N):\n",
    "            min_n = []\n",
    "            # existe una forma más eficiente de calcular distancias, pero por ahora hagamos esto\n",
    "            for i in range(n_plantas):\n",
    "                distancias = []\n",
    "                for j in range(n_plantas):\n",
    "                    if i !=j:\n",
    "                        distancias.append(np.sum((coords[ite, i]-coords[ite, j])**2)**0.5)\n",
    "                min_n.append(np.min(distancias)) \n",
    "            muestra[ite] = np.mean(min_n)\n",
    "    return muestra\n",
    "\n",
    "sim_min_n = mcplantas()"
   ]
  },
  {
   "cell_type": "markdown",
   "metadata": {},
   "source": [
    "Y ahora comparamos. En principio podemos hacer varias comparaciones. En promedio cuanto más grande es la distancia simulada? Alredero de 2 veces."
   ]
  },
  {
   "cell_type": "code",
   "execution_count": 65,
   "metadata": {},
   "outputs": [
    {
     "data": {
      "text/plain": [
       "2.4124388710473443"
      ]
     },
     "execution_count": 65,
     "metadata": {},
     "output_type": "execute_result"
    }
   ],
   "source": [
    "sim_min_n.mean() / obs_min_n "
   ]
  },
  {
   "cell_type": "markdown",
   "metadata": {},
   "source": [
    "Si asumimos la hipotesis nula, cual es la probabilidad de obtener una distancia promedio al primer vecino igual o menor a la observada?"
   ]
  },
  {
   "cell_type": "code",
   "execution_count": 66,
   "metadata": {},
   "outputs": [
    {
     "data": {
      "text/plain": [
       "1.0"
      ]
     },
     "execution_count": 66,
     "metadata": {},
     "output_type": "execute_result"
    }
   ],
   "source": [
    "(obs_min_n <= sim_min_n).mean()"
   ]
  },
  {
   "cell_type": "markdown",
   "metadata": {},
   "source": [
    "También podríamos reportar el valor medio $\\pm$ 3 (o 2 o 1 o lo que sea) desviaciones estándard"
   ]
  },
  {
   "cell_type": "code",
   "execution_count": 67,
   "metadata": {},
   "outputs": [
    {
     "name": "stdout",
     "output_type": "stream",
     "text": [
      "0.160-0.256-0.353\n"
     ]
    }
   ],
   "source": [
    "sim_mean = sim_min_n.mean()\n",
    "sim_std = sim_min_n.std()\n",
    "print(f\"{sim_mean-sim_std*3:.3f}-{sim_mean:.3f}-{sim_mean+sim_std*3:.3f}\")"
   ]
  },
  {
   "cell_type": "markdown",
   "metadata": {},
   "source": [
    "## Bootstrapping\n",
    "\n",
    "Bootstrapping es un método que puede considerarse un tipo particular de método de Monte Carlo. La idea central es que en ausencia de información sobre una población en particular, una muestra aletoria es la mejor guía para obtener información de la distribución en la población. Por lo tanto, para aproximar lo que\n",
    "observariamos si tomaramos muestras repetidas de una misma población, es totalmente sensato re-muestrear\n",
    "la muestra! El procedimiento general es el siguiente.\n",
    "\n",
    "Dada una muestra $m$ de tamaño $n$\n",
    "\n",
    "1. Generar una muestra de tamaño $n$ a partir de muestrear con remplazo $m$.\n",
    "2. Calcular el estadístico de interés (media, mediana, varianza, etc)\n",
    "3. Guardar el estadístico calculado en $b$\n",
    "4. Repetir desde 1 _muchas veces_\n",
    "5. Si nuestro objetivo es calcular una estimación puntual y un intervalo de confianza entonces, calculamos la media de $b$ y los percentiles, 2.5 y 97.5."
   ]
  },
  {
   "cell_type": "code",
   "execution_count": 68,
   "metadata": {},
   "outputs": [
    {
     "data": {
      "text/plain": [
       "(-0.148614883821165, array([-0.33677028,  0.03283933]))"
      ]
     },
     "execution_count": 68,
     "metadata": {},
     "output_type": "execute_result"
    }
   ],
   "source": [
    "muestra = np.random.normal(0, 1, 97) # en la realidad desconocemos la distribución desde la cual se genera la muestra\n",
    "t_sim = [np.random.choice(muestra, size=muestra.size).mean() for i in range(10000)]\n",
    "np.mean(t_sim), np.percentile(t_sim, [2.5, 97.5])"
   ]
  },
  {
   "cell_type": "markdown",
   "metadata": {},
   "source": [
    "Según la teoría el error estándard de la media, es $\\frac{\\sigma}{\\sqrt{n}}$. Es decir"
   ]
  },
  {
   "cell_type": "code",
   "execution_count": 69,
   "metadata": {},
   "outputs": [
    {
     "data": {
      "text/plain": [
       "0.09501001828212861"
      ]
     },
     "execution_count": 69,
     "metadata": {},
     "output_type": "execute_result"
    }
   ],
   "source": [
    "ee = muestra.std() / muestra.size**0.5\n",
    "ee"
   ]
  },
  {
   "cell_type": "code",
   "execution_count": 70,
   "metadata": {},
   "outputs": [
    {
     "data": {
      "text/plain": [
       "0.09413176106633052"
      ]
     },
     "execution_count": 70,
     "metadata": {},
     "output_type": "execute_result"
    }
   ],
   "source": [
    "bee = np.std(t_sim)\n",
    "bee"
   ]
  },
  {
   "cell_type": "markdown",
   "metadata": {},
   "source": [
    "Es decir un error relativo de alrededor de menos del 1%, nada mál para un par de lineas en Python!"
   ]
  },
  {
   "cell_type": "code",
   "execution_count": 71,
   "metadata": {},
   "outputs": [
    {
     "data": {
      "text/plain": [
       "-0.9243837983381329"
      ]
     },
     "execution_count": 71,
     "metadata": {},
     "output_type": "execute_result"
    }
   ],
   "source": [
    "(bee - ee ) / ee * 100"
   ]
  },
  {
   "cell_type": "markdown",
   "metadata": {},
   "source": [
    "Lo interesante del bootstapping como de otros métodos de remuestreo y de Monte Carlo. Es que pueden aplicarse facilmente a una gran cantidad de problemas para los cuales los metodos tradicionales (como la gran mayoría de los resultados de la teoría clásica/frecuentista) no son aplicables o son engorrosos de derivar.\n",
    "\n",
    "En estos ejemplos somos hemos tocado la superficie de lo que estos métodos puede hacer."
   ]
  },
  {
   "cell_type": "markdown",
   "metadata": {},
   "source": [
    " ------------------\n",
    "### Ejercicios\n",
    "\n",
    "14. Piense un problema de su dominio para el cual se podría aplicar un método de Monte Carlo. Describa con palabras cual sería el procedimiento a seguir\n",
    "\n",
    "15. Escriba un método de bootstrapping para estimar la mediana y para estimar la desviación estándard.  \n",
    "\n",
    "16. Asuma una distribución distinta de la normal y calcule el error estándard teórico y mediante bootstrapping\n",
    "\n",
    "------------------"
   ]
  },
  {
   "cell_type": "markdown",
   "metadata": {},
   "source": [
    "### Indexado (Indexing)\n",
    "\n",
    "El indexado de arreglos funciona de forma similar al indexado de listas de Python. Con algunas mejoras para el idexado de arrays multidimensionales."
   ]
  },
  {
   "cell_type": "code",
   "execution_count": 72,
   "metadata": {},
   "outputs": [
    {
     "name": "stdout",
     "output_type": "stream",
     "text": [
      "[1 2 3 4 5 6]\n",
      "[[1 2]\n",
      " [3 4]\n",
      " [5 6]]\n"
     ]
    }
   ],
   "source": [
    "v = np.array([1, 2, 3, 4, 5, 6])\n",
    "M = np.array([[1, 2], [3, 4], [5, 6]])\n",
    "print(v)\n",
    "print(M)"
   ]
  },
  {
   "cell_type": "markdown",
   "metadata": {},
   "source": [
    "**v** es un arreglo unidimensional (como un vector) y por lo tanto basta un número para indexarlo."
   ]
  },
  {
   "cell_type": "code",
   "execution_count": 73,
   "metadata": {},
   "outputs": [
    {
     "data": {
      "text/plain": [
       "1"
      ]
     },
     "execution_count": 73,
     "metadata": {},
     "output_type": "execute_result"
    }
   ],
   "source": [
    "v[0]"
   ]
  },
  {
   "cell_type": "markdown",
   "metadata": {},
   "source": [
    "En cambio **M** es un arreglo bi-dimensional (como una matriz) y por lo tanto hacen falta dos números para obtener un elemento específico."
   ]
  },
  {
   "cell_type": "code",
   "execution_count": 74,
   "metadata": {},
   "outputs": [
    {
     "data": {
      "text/plain": [
       "4"
      ]
     },
     "execution_count": 74,
     "metadata": {},
     "output_type": "execute_result"
    }
   ],
   "source": [
    "M[1,1]  # esto es equivalente a M[1][1]"
   ]
  },
  {
   "cell_type": "markdown",
   "metadata": {},
   "source": [
    "Si omitimos uno de los índices al indexar un arreglo multidimensional, NumPy devolverá la fila completa (o, en general, el arreglo de dimensión N-1 correspondiente)"
   ]
  },
  {
   "cell_type": "code",
   "execution_count": 75,
   "metadata": {},
   "outputs": [
    {
     "data": {
      "text/plain": [
       "array([3, 4])"
      ]
     },
     "execution_count": 75,
     "metadata": {},
     "output_type": "execute_result"
    }
   ],
   "source": [
    "M[1]"
   ]
  },
  {
   "cell_type": "markdown",
   "metadata": {},
   "source": [
    "El mismo resultado se obtiene usando **:**"
   ]
  },
  {
   "cell_type": "code",
   "execution_count": 76,
   "metadata": {},
   "outputs": [
    {
     "data": {
      "text/plain": [
       "array([3, 4])"
      ]
     },
     "execution_count": 76,
     "metadata": {},
     "output_type": "execute_result"
    }
   ],
   "source": [
    "M[1,:]  # fila 1"
   ]
  },
  {
   "cell_type": "code",
   "execution_count": 77,
   "metadata": {},
   "outputs": [
    {
     "data": {
      "text/plain": [
       "array([2, 4, 6])"
      ]
     },
     "execution_count": 77,
     "metadata": {},
     "output_type": "execute_result"
    }
   ],
   "source": [
    "M[:,1]  # columna 1"
   ]
  },
  {
   "cell_type": "markdown",
   "metadata": {},
   "source": [
    "También podemos asignar elementos especificando el índice adecuado."
   ]
  },
  {
   "cell_type": "code",
   "execution_count": 78,
   "metadata": {},
   "outputs": [
    {
     "data": {
      "text/plain": [
       "array([[-1,  2],\n",
       "       [ 3,  4],\n",
       "       [ 5,  6]])"
      ]
     },
     "execution_count": 78,
     "metadata": {},
     "output_type": "execute_result"
    }
   ],
   "source": [
    "M[0, 0] = -1\n",
    "M"
   ]
  },
  {
   "cell_type": "markdown",
   "metadata": {},
   "source": [
    "Incluso esto funciona para filas y columnas enteras"
   ]
  },
  {
   "cell_type": "code",
   "execution_count": 79,
   "metadata": {},
   "outputs": [
    {
     "data": {
      "text/plain": [
       "array([[-1,  2],\n",
       "       [ 0,  0],\n",
       "       [ 5,  6]])"
      ]
     },
     "execution_count": 79,
     "metadata": {},
     "output_type": "execute_result"
    }
   ],
   "source": [
    "M[1,:] = 0\n",
    "M"
   ]
  },
  {
   "cell_type": "code",
   "execution_count": 80,
   "metadata": {},
   "outputs": [
    {
     "data": {
      "text/plain": [
       "array([[-1, -2],\n",
       "       [ 0, -2],\n",
       "       [ 5, -2]])"
      ]
     },
     "execution_count": 80,
     "metadata": {},
     "output_type": "execute_result"
    }
   ],
   "source": [
    "M[:,1] = -2\n",
    "M"
   ]
  },
  {
   "cell_type": "markdown",
   "metadata": {},
   "source": [
    "### Rebanado (Slicing)\n",
    "\n",
    "Al igual que con las listas los arreglos pueden ser rebanados."
   ]
  },
  {
   "cell_type": "code",
   "execution_count": 81,
   "metadata": {},
   "outputs": [
    {
     "name": "stdout",
     "output_type": "stream",
     "text": [
      "[1 2 3 4 5 6]\n"
     ]
    },
    {
     "data": {
      "text/plain": [
       "array([2, 3])"
      ]
     },
     "execution_count": 81,
     "metadata": {},
     "output_type": "execute_result"
    }
   ],
   "source": [
    "print(v)\n",
    "v[1:3]"
   ]
  },
  {
   "cell_type": "markdown",
   "metadata": {},
   "source": [
    "El rebanado también puede ser usado para asignar nuevos valores"
   ]
  },
  {
   "cell_type": "code",
   "execution_count": 82,
   "metadata": {},
   "outputs": [
    {
     "data": {
      "text/plain": [
       "array([ 1, -2, -3,  4,  5,  6])"
      ]
     },
     "execution_count": 82,
     "metadata": {},
     "output_type": "execute_result"
    }
   ],
   "source": [
    "v[1:3] = -2,-3\n",
    "v"
   ]
  },
  {
   "cell_type": "markdown",
   "metadata": {},
   "source": [
    "También es posible usar rebanadas _de a pasos_."
   ]
  },
  {
   "cell_type": "code",
   "execution_count": 83,
   "metadata": {},
   "outputs": [
    {
     "data": {
      "text/plain": [
       "array([ 1, -3,  5])"
      ]
     },
     "execution_count": 83,
     "metadata": {},
     "output_type": "execute_result"
    }
   ],
   "source": [
    "v[::2]"
   ]
  },
  {
   "cell_type": "markdown",
   "metadata": {},
   "source": [
    "O tomar los primer **N** elementos"
   ]
  },
  {
   "cell_type": "code",
   "execution_count": 84,
   "metadata": {},
   "outputs": [
    {
     "data": {
      "text/plain": [
       "array([ 1, -2, -3])"
      ]
     },
     "execution_count": 84,
     "metadata": {},
     "output_type": "execute_result"
    }
   ],
   "source": [
    "v[:3]"
   ]
  },
  {
   "cell_type": "markdown",
   "metadata": {},
   "source": [
    "o empezar desde el iésimo elemento"
   ]
  },
  {
   "cell_type": "code",
   "execution_count": 85,
   "metadata": {},
   "outputs": [
    {
     "data": {
      "text/plain": [
       "array([4, 5, 6])"
      ]
     },
     "execution_count": 85,
     "metadata": {},
     "output_type": "execute_result"
    }
   ],
   "source": [
    "v[3:]"
   ]
  },
  {
   "cell_type": "markdown",
   "metadata": {},
   "source": [
    "o los últimos **N** elementos"
   ]
  },
  {
   "cell_type": "code",
   "execution_count": 86,
   "metadata": {},
   "outputs": [
    {
     "data": {
      "text/plain": [
       "array([4, 5, 6])"
      ]
     },
     "execution_count": 86,
     "metadata": {},
     "output_type": "execute_result"
    }
   ],
   "source": [
    "v[-3:]"
   ]
  },
  {
   "cell_type": "markdown",
   "metadata": {},
   "source": [
    "Los arreglos no tienen por que estar restringido a 1 o 2 dimensiones. A medida que las dimensiones aumentan la complejidad del rebanado se incrementa junto con la posibilidad de cometer errores o al menos confundirse un poco."
   ]
  },
  {
   "cell_type": "code",
   "execution_count": 87,
   "metadata": {},
   "outputs": [
    {
     "data": {
      "text/plain": [
       "array([[[ 0,  1,  2,  3],\n",
       "        [ 4,  5,  6,  7],\n",
       "        [ 8,  9, 10, 11]],\n",
       "\n",
       "       [[12, 13, 14, 15],\n",
       "        [16, 17, 18, 19],\n",
       "        [20, 21, 22, 23]]])"
      ]
     },
     "execution_count": 87,
     "metadata": {},
     "output_type": "execute_result"
    }
   ],
   "source": [
    "c = np.array([[[ 0,  1,  2,  3], [ 4,  5,  6,  7], [ 8,  9, 10, 11]],\n",
    "       [[12, 13, 14, 15], [16, 17, 18, 19], [20, 21, 22, 23]]])\n",
    "c"
   ]
  },
  {
   "cell_type": "code",
   "execution_count": 88,
   "metadata": {},
   "outputs": [
    {
     "data": {
      "text/plain": [
       "(2, 3, 4)"
      ]
     },
     "execution_count": 88,
     "metadata": {},
     "output_type": "execute_result"
    }
   ],
   "source": [
    "np.shape(c)"
   ]
  },
  {
   "cell_type": "code",
   "execution_count": 89,
   "metadata": {},
   "outputs": [
    {
     "data": {
      "text/plain": [
       "array([[ 0,  1,  2,  3],\n",
       "       [ 4,  5,  6,  7],\n",
       "       [ 8,  9, 10, 11]])"
      ]
     },
     "execution_count": 89,
     "metadata": {},
     "output_type": "execute_result"
    }
   ],
   "source": [
    "c[0]"
   ]
  },
  {
   "cell_type": "code",
   "execution_count": 90,
   "metadata": {},
   "outputs": [
    {
     "data": {
      "text/plain": [
       "array([ 8,  9, 10, 11])"
      ]
     },
     "execution_count": 90,
     "metadata": {},
     "output_type": "execute_result"
    }
   ],
   "source": [
    "c[0, 2]"
   ]
  },
  {
   "cell_type": "markdown",
   "metadata": {},
   "source": [
    "Podemos extraer el 0ésimo elemento de la segunda dimensión (axis=1)"
   ]
  },
  {
   "cell_type": "code",
   "execution_count": 91,
   "metadata": {},
   "outputs": [
    {
     "data": {
      "text/plain": [
       "array([[ 0,  1,  2,  3],\n",
       "       [12, 13, 14, 15]])"
      ]
     },
     "execution_count": 91,
     "metadata": {},
     "output_type": "execute_result"
    }
   ],
   "source": [
    "c[:,0]  # equivalente a c[:,0,:]"
   ]
  },
  {
   "cell_type": "markdown",
   "metadata": {},
   "source": [
    "O los primeros elementos de la tercer dimensión (axis=2)"
   ]
  },
  {
   "cell_type": "code",
   "execution_count": 92,
   "metadata": {},
   "outputs": [
    {
     "data": {
      "text/plain": [
       "array([[ 1,  5,  9],\n",
       "       [13, 17, 21]])"
      ]
     },
     "execution_count": 92,
     "metadata": {},
     "output_type": "execute_result"
    }
   ],
   "source": [
    "c[:,:,1]"
   ]
  },
  {
   "cell_type": "code",
   "execution_count": 93,
   "metadata": {},
   "outputs": [
    {
     "data": {
      "text/plain": [
       "array([1, 5, 9])"
      ]
     },
     "execution_count": 93,
     "metadata": {},
     "output_type": "execute_result"
    }
   ],
   "source": [
    "c[0,:,1]"
   ]
  },
  {
   "cell_type": "markdown",
   "metadata": {},
   "source": [
    "Cualquier subconjunto de elementos pueden ser obtenidos desde un arreglo, por ejemplo\n",
    "\n",
    "* Tomemos el 0ésimo elemento de la primer dimensión\n",
    "* Luego, el primer elemento de la segunda dimensión \n",
    "* Finalmente, todos los elementos en la tercer dimensión con un paso de a 2 elementos"
   ]
  },
  {
   "cell_type": "code",
   "execution_count": 94,
   "metadata": {},
   "outputs": [
    {
     "data": {
      "text/plain": [
       "array([4, 6])"
      ]
     },
     "execution_count": 94,
     "metadata": {},
     "output_type": "execute_result"
    }
   ],
   "source": [
    "c[0,1,::2]"
   ]
  },
  {
   "cell_type": "markdown",
   "metadata": {},
   "source": [
    "O invertir el orden"
   ]
  },
  {
   "cell_type": "code",
   "execution_count": 95,
   "metadata": {},
   "outputs": [
    {
     "data": {
      "text/plain": [
       "array([[[12, 13, 14, 15],\n",
       "        [16, 17, 18, 19],\n",
       "        [20, 21, 22, 23]],\n",
       "\n",
       "       [[ 0,  1,  2,  3],\n",
       "        [ 4,  5,  6,  7],\n",
       "        [ 8,  9, 10, 11]]])"
      ]
     },
     "execution_count": 95,
     "metadata": {},
     "output_type": "execute_result"
    }
   ],
   "source": [
    "c[::-1]"
   ]
  },
  {
   "cell_type": "markdown",
   "metadata": {},
   "source": [
    "Otro ejemplo de un rebanado complejo:\n",
    "\n",
    "* Tomemos el 0ésimo elemento de la primer dimensión\n",
    "* Luego, los elementos de la segunda dimension en orden inverso\n",
    "* Finalmente, el ultimo elemento de la tercer dimensión"
   ]
  },
  {
   "cell_type": "code",
   "execution_count": 96,
   "metadata": {},
   "outputs": [
    {
     "data": {
      "text/plain": [
       "array([11,  7,  3])"
      ]
     },
     "execution_count": 96,
     "metadata": {},
     "output_type": "execute_result"
    }
   ],
   "source": [
    "c[0,::-1, -1]"
   ]
  },
  {
   "cell_type": "markdown",
   "metadata": {},
   "source": [
    "Al hacer un slice de un array NO estamos creando una copia del arreglo, si no que tenemos una representación de una porción del arreglo original. En el siguiente ejemplo creamos un arreglo llamado _d_ a partir del arreglo _c_, luego modificamos _d_ y como resultamos obtenemos que _c_ también se modifica. "
   ]
  },
  {
   "cell_type": "code",
   "execution_count": 97,
   "metadata": {},
   "outputs": [
    {
     "name": "stdout",
     "output_type": "stream",
     "text": [
      "[[ 0  1  2  3]\n",
      " [ 4  5  6  7]\n",
      " [ 8  9 10 11]]\n",
      "[[  0 999   2   3]\n",
      " [  4   5   6   7]\n",
      " [  8   9  10  11]]\n",
      "[[[  0 999   2   3]\n",
      "  [  4   5   6   7]\n",
      "  [  8   9  10  11]]\n",
      "\n",
      " [[ 12  13  14  15]\n",
      "  [ 16  17  18  19]\n",
      "  [ 20  21  22  23]]]\n"
     ]
    }
   ],
   "source": [
    "d = c[0]\n",
    "print(d)\n",
    "d[0,1] = 999\n",
    "print(d)\n",
    "print(c)"
   ]
  },
  {
   "cell_type": "markdown",
   "metadata": {},
   "source": [
    "En caso de que realmente necesitemos realizar una copia del array, podremos hacerlo usando el método _copy()_."
   ]
  },
  {
   "cell_type": "code",
   "execution_count": 98,
   "metadata": {},
   "outputs": [
    {
     "name": "stdout",
     "output_type": "stream",
     "text": [
      "[[  0 999   2   3]\n",
      " [  4   5   6   7]\n",
      " [  8   9  10  11]]\n",
      "[[  0 -10   2   3]\n",
      " [  4   5   6   7]\n",
      " [  8   9  10  11]]\n",
      "[[[  0 999   2   3]\n",
      "  [  4   5   6   7]\n",
      "  [  8   9  10  11]]\n",
      "\n",
      " [[ 12  13  14  15]\n",
      "  [ 16  17  18  19]\n",
      "  [ 20  21  22  23]]]\n"
     ]
    }
   ],
   "source": [
    "d = c[0].copy()\n",
    "print(d)\n",
    "d[0,1] = -10\n",
    "print(d)\n",
    "print(c)"
   ]
  },
  {
   "cell_type": "markdown",
   "metadata": {},
   "source": [
    "## Manipulación de Arreglos\n",
    "\n",
    "A veces es conveniente cambiar la forma de los arreglos or combinar dos o más arreglos, para ello existen varias funciones:"
   ]
  },
  {
   "cell_type": "code",
   "execution_count": 99,
   "metadata": {},
   "outputs": [
    {
     "data": {
      "text/plain": [
       "array([[[ 0,  1,  2,  3],\n",
       "        [ 4,  5,  6,  7],\n",
       "        [ 8,  9, 10, 11]],\n",
       "\n",
       "       [[12, 13, 14, 15],\n",
       "        [16, 17, 18, 19],\n",
       "        [20, 21, 22, 23]]])"
      ]
     },
     "execution_count": 99,
     "metadata": {},
     "output_type": "execute_result"
    }
   ],
   "source": [
    "c = np.arange(24).reshape(2,3,4)\n",
    "c"
   ]
  },
  {
   "cell_type": "markdown",
   "metadata": {},
   "source": [
    "Quizá necesitamos borrar parte de un arreglo"
   ]
  },
  {
   "cell_type": "code",
   "execution_count": 100,
   "metadata": {},
   "outputs": [
    {
     "data": {
      "text/plain": [
       "array([[[ 1,  3],\n",
       "        [ 5,  7],\n",
       "        [ 9, 11]],\n",
       "\n",
       "       [[13, 15],\n",
       "        [17, 19],\n",
       "        [21, 23]]])"
      ]
     },
     "execution_count": 100,
     "metadata": {},
     "output_type": "execute_result"
    }
   ],
   "source": [
    "np.delete(c, (0,2), axis=2)"
   ]
  },
  {
   "cell_type": "markdown",
   "metadata": {},
   "source": [
    "O necesitamos _aplanar_ un arreglo (hacerlo unidimensional), para ello podemos usar **flatten** o **ravel**."
   ]
  },
  {
   "cell_type": "code",
   "execution_count": 101,
   "metadata": {},
   "outputs": [
    {
     "data": {
      "text/plain": [
       "array([ 0,  1,  2,  3,  4,  5,  6,  7,  8,  9, 10, 11, 12, 13, 14, 15, 16,\n",
       "       17, 18, 19, 20, 21, 22, 23])"
      ]
     },
     "execution_count": 101,
     "metadata": {},
     "output_type": "execute_result"
    }
   ],
   "source": [
    "c.flatten()  # flatten es un método no una función"
   ]
  },
  {
   "cell_type": "code",
   "execution_count": 102,
   "metadata": {},
   "outputs": [
    {
     "data": {
      "text/plain": [
       "array([ 0,  1,  2,  3,  4,  5,  6,  7,  8,  9, 10, 11, 12, 13, 14, 15, 16,\n",
       "       17, 18, 19, 20, 21, 22, 23])"
      ]
     },
     "execution_count": 102,
     "metadata": {},
     "output_type": "execute_result"
    }
   ],
   "source": [
    "c.ravel() # equivale a np.ravel(c)"
   ]
  },
  {
   "cell_type": "markdown",
   "metadata": {},
   "source": [
    "A veces suele ser necesario convertir un array unidimensional en uno bidimensional, pero con una de las dimensiones _vacías_."
   ]
  },
  {
   "cell_type": "code",
   "execution_count": 103,
   "metadata": {},
   "outputs": [
    {
     "data": {
      "text/plain": [
       "array([1, 2, 3])"
      ]
     },
     "execution_count": 103,
     "metadata": {},
     "output_type": "execute_result"
    }
   ],
   "source": [
    "e = np.array([1, 2, 3])\n",
    "e"
   ]
  },
  {
   "cell_type": "code",
   "execution_count": 104,
   "metadata": {},
   "outputs": [
    {
     "data": {
      "text/plain": [
       "array([[1, 2, 3]])"
      ]
     },
     "execution_count": 104,
     "metadata": {},
     "output_type": "execute_result"
    }
   ],
   "source": [
    "e.reshape((1, 3)) # equivalente a x[np.newaxis, :]"
   ]
  },
  {
   "cell_type": "code",
   "execution_count": 105,
   "metadata": {},
   "outputs": [
    {
     "data": {
      "text/plain": [
       "array([[1],\n",
       "       [2],\n",
       "       [3]])"
      ]
     },
     "execution_count": 105,
     "metadata": {},
     "output_type": "execute_result"
    }
   ],
   "source": [
    "e.reshape((3, 1)) # equivalente a x[:, np.newaxis]"
   ]
  },
  {
   "cell_type": "markdown",
   "metadata": {},
   "source": [
    "### Apilando (Stacking)\n",
    "\n",
    "Generemos dos arreglos"
   ]
  },
  {
   "cell_type": "code",
   "execution_count": 106,
   "metadata": {},
   "outputs": [
    {
     "name": "stdout",
     "output_type": "stream",
     "text": [
      "[[ 0  1  2  3]\n",
      " [ 4  5  6  7]\n",
      " [ 8  9 10 11]\n",
      " [12 13 14 15]]\n",
      "[[ 0  2  4  6]\n",
      " [ 8 10 12 14]\n",
      " [16 18 20 22]\n",
      " [24 26 28 30]]\n"
     ]
    }
   ],
   "source": [
    "f = np.arange(16).reshape(4, 4)\n",
    "g = f * 2\n",
    "print(f)\n",
    "print(g)"
   ]
  },
  {
   "cell_type": "markdown",
   "metadata": {},
   "source": [
    "Es posible obtener un tercer arreglo a partir de apilar `f` y `g`. Existen distintas opcioenes para apilar."
   ]
  },
  {
   "cell_type": "code",
   "execution_count": 107,
   "metadata": {},
   "outputs": [
    {
     "data": {
      "text/plain": [
       "array([[[ 0,  1,  2,  3],\n",
       "        [ 4,  5,  6,  7],\n",
       "        [ 8,  9, 10, 11],\n",
       "        [12, 13, 14, 15]],\n",
       "\n",
       "       [[ 0,  2,  4,  6],\n",
       "        [ 8, 10, 12, 14],\n",
       "        [16, 18, 20, 22],\n",
       "        [24, 26, 28, 30]]])"
      ]
     },
     "execution_count": 107,
     "metadata": {},
     "output_type": "execute_result"
    }
   ],
   "source": [
    "np.stack((f, g))"
   ]
  },
  {
   "cell_type": "code",
   "execution_count": 108,
   "metadata": {},
   "outputs": [
    {
     "data": {
      "text/plain": [
       "array([[[ 0,  1,  2,  3],\n",
       "        [ 0,  2,  4,  6]],\n",
       "\n",
       "       [[ 4,  5,  6,  7],\n",
       "        [ 8, 10, 12, 14]],\n",
       "\n",
       "       [[ 8,  9, 10, 11],\n",
       "        [16, 18, 20, 22]],\n",
       "\n",
       "       [[12, 13, 14, 15],\n",
       "        [24, 26, 28, 30]]])"
      ]
     },
     "execution_count": 108,
     "metadata": {},
     "output_type": "execute_result"
    }
   ],
   "source": [
    "np.stack((f, g), axis=1)"
   ]
  },
  {
   "cell_type": "code",
   "execution_count": 109,
   "metadata": {},
   "outputs": [
    {
     "data": {
      "text/plain": [
       "array([[ 0,  1,  2,  3],\n",
       "       [ 4,  5,  6,  7],\n",
       "       [ 8,  9, 10, 11],\n",
       "       [12, 13, 14, 15],\n",
       "       [ 0,  2,  4,  6],\n",
       "       [ 8, 10, 12, 14],\n",
       "       [16, 18, 20, 22],\n",
       "       [24, 26, 28, 30]])"
      ]
     },
     "execution_count": 109,
     "metadata": {},
     "output_type": "execute_result"
    }
   ],
   "source": [
    "np.vstack((f, g))"
   ]
  },
  {
   "cell_type": "code",
   "execution_count": 110,
   "metadata": {},
   "outputs": [
    {
     "data": {
      "text/plain": [
       "array([[ 0,  1,  2,  3,  0,  2,  4,  6],\n",
       "       [ 4,  5,  6,  7,  8, 10, 12, 14],\n",
       "       [ 8,  9, 10, 11, 16, 18, 20, 22],\n",
       "       [12, 13, 14, 15, 24, 26, 28, 30]])"
      ]
     },
     "execution_count": 110,
     "metadata": {},
     "output_type": "execute_result"
    }
   ],
   "source": [
    "np.hstack((f, g))"
   ]
  },
  {
   "cell_type": "code",
   "execution_count": 111,
   "metadata": {},
   "outputs": [
    {
     "data": {
      "text/plain": [
       "array([[ 0,  1,  2,  3],\n",
       "       [ 4,  5,  6,  7],\n",
       "       [ 8,  9, 10, 11],\n",
       "       [12, 13, 14, 15],\n",
       "       [ 0,  2,  4,  6],\n",
       "       [ 8, 10, 12, 14],\n",
       "       [16, 18, 20, 22],\n",
       "       [24, 26, 28, 30]])"
      ]
     },
     "execution_count": 111,
     "metadata": {},
     "output_type": "execute_result"
    }
   ],
   "source": [
    "np.concatenate((f, g), axis=0) # equivalent to np.vstack((f, g))"
   ]
  },
  {
   "cell_type": "code",
   "execution_count": 112,
   "metadata": {},
   "outputs": [
    {
     "data": {
      "text/plain": [
       "array([[ 0,  1,  2,  3,  0,  2,  4,  6],\n",
       "       [ 4,  5,  6,  7,  8, 10, 12, 14],\n",
       "       [ 8,  9, 10, 11, 16, 18, 20, 22],\n",
       "       [12, 13, 14, 15, 24, 26, 28, 30]])"
      ]
     },
     "execution_count": 112,
     "metadata": {},
     "output_type": "execute_result"
    }
   ],
   "source": [
    "np.concatenate((f, g), axis=1)  # equivalent to np.hstack((f, g))"
   ]
  },
  {
   "cell_type": "markdown",
   "metadata": {},
   "source": [
    "### Escindiendo (Splitting)\n",
    "\n",
    "La operación contraria al _stacking_ es el _splitting_."
   ]
  },
  {
   "cell_type": "code",
   "execution_count": 113,
   "metadata": {},
   "outputs": [
    {
     "data": {
      "text/plain": [
       "[array([[0, 1, 2, 3],\n",
       "        [4, 5, 6, 7]]),\n",
       " array([[ 8,  9, 10, 11],\n",
       "        [12, 13, 14, 15]])]"
      ]
     },
     "execution_count": 113,
     "metadata": {},
     "output_type": "execute_result"
    }
   ],
   "source": [
    "np.split(f, 2, axis=0)"
   ]
  },
  {
   "cell_type": "code",
   "execution_count": 114,
   "metadata": {},
   "outputs": [
    {
     "data": {
      "text/plain": [
       "[array([[ 0,  1],\n",
       "        [ 4,  5],\n",
       "        [ 8,  9],\n",
       "        [12, 13]]),\n",
       " array([[ 2,  3],\n",
       "        [ 6,  7],\n",
       "        [10, 11],\n",
       "        [14, 15]])]"
      ]
     },
     "execution_count": 114,
     "metadata": {},
     "output_type": "execute_result"
    }
   ],
   "source": [
    "np.split(f, 2, axis=1)"
   ]
  },
  {
   "cell_type": "markdown",
   "metadata": {},
   "source": [
    "### Indexado Avanzado (Fancy indexing)\n",
    "\n",
    "Además del indexado usando entereos y rebanadas (_slices_) que ya hemos visto, es posible idexar arrays usando arrays conteniendo enteros o booleanos."
   ]
  },
  {
   "cell_type": "code",
   "execution_count": 115,
   "metadata": {},
   "outputs": [
    {
     "data": {
      "text/plain": [
       "array([ 0,  1,  4,  9, 16, 25, 36, 49, 64, 81])"
      ]
     },
     "execution_count": 115,
     "metadata": {},
     "output_type": "execute_result"
    }
   ],
   "source": [
    "i = np.arange(10)**2 \n",
    "i"
   ]
  },
  {
   "cell_type": "code",
   "execution_count": 116,
   "metadata": {},
   "outputs": [
    {
     "data": {
      "text/plain": [
       "array([0, 4, 9, 9])"
      ]
     },
     "execution_count": 116,
     "metadata": {},
     "output_type": "execute_result"
    }
   ],
   "source": [
    "idx = np.array([0, 2, 3, 3])\n",
    "i[idx]"
   ]
  },
  {
   "cell_type": "code",
   "execution_count": 117,
   "metadata": {},
   "outputs": [
    {
     "data": {
      "text/plain": [
       "array([[0, 1, 2],\n",
       "       [3, 4, 5],\n",
       "       [6, 7, 8]])"
      ]
     },
     "execution_count": 117,
     "metadata": {},
     "output_type": "execute_result"
    }
   ],
   "source": [
    "j = np.arange(9).reshape(3, 3)\n",
    "j"
   ]
  },
  {
   "cell_type": "code",
   "execution_count": 118,
   "metadata": {},
   "outputs": [
    {
     "data": {
      "text/plain": [
       "array([1, 7])"
      ]
     },
     "execution_count": 118,
     "metadata": {},
     "output_type": "execute_result"
    }
   ],
   "source": [
    "idx_fila = np.array([0,2])\n",
    "idx_col = np.array([1])\n",
    "\n",
    "j[idx_fila, idx_col]"
   ]
  },
  {
   "cell_type": "markdown",
   "metadata": {},
   "source": [
    "También podemos usar in arreglo de booleanos, por ejemplo si quisieramos obtener todos los números pares contenidos en un arreglo podríamos hacer lo siguiente."
   ]
  },
  {
   "cell_type": "code",
   "execution_count": 119,
   "metadata": {},
   "outputs": [
    {
     "data": {
      "text/plain": [
       "array([0, 2, 4, 6, 8])"
      ]
     },
     "execution_count": 119,
     "metadata": {},
     "output_type": "execute_result"
    }
   ],
   "source": [
    "j[j % 2 == 0]"
   ]
  },
  {
   "cell_type": "markdown",
   "metadata": {},
   "source": [
    "Si la expresión en la celda anterior te parece confusa, podés revisar y ver que la expresión entre corchetes (la que indexa al arreglo _j_), es un arreglo de booleanos."
   ]
  },
  {
   "cell_type": "code",
   "execution_count": 120,
   "metadata": {},
   "outputs": [
    {
     "data": {
      "text/plain": [
       "array([[ True, False,  True],\n",
       "       [False,  True, False],\n",
       "       [ True, False,  True]])"
      ]
     },
     "execution_count": 120,
     "metadata": {},
     "output_type": "execute_result"
    }
   ],
   "source": [
    "j % 2 == 0"
   ]
  },
  {
   "cell_type": "markdown",
   "metadata": {},
   "source": [
    "## Constantes\n",
    "\n",
    "Algunas constantes como $\\pi$ y $e$ puede ser accedidas desde NumPy. Un número mayor de constantes está disponible en [scipy.constants](https://docs.scipy.org/doc/scipy/reference/constants.html)"
   ]
  },
  {
   "cell_type": "code",
   "execution_count": 121,
   "metadata": {},
   "outputs": [
    {
     "data": {
      "text/plain": [
       "3.141592653589793"
      ]
     },
     "execution_count": 121,
     "metadata": {},
     "output_type": "execute_result"
    }
   ],
   "source": [
    "np.pi"
   ]
  },
  {
   "cell_type": "code",
   "execution_count": 122,
   "metadata": {},
   "outputs": [
    {
     "data": {
      "text/plain": [
       "2.718281828459045"
      ]
     },
     "execution_count": 122,
     "metadata": {},
     "output_type": "execute_result"
    }
   ],
   "source": [
    "np.e"
   ]
  },
  {
   "cell_type": "markdown",
   "metadata": {},
   "source": [
    "## SciPy\n",
    "\n",
    "NumPy es una muy buena librería para computación numérica y en este capítulo apenas hemos empezado a arañar la superficie de lo que es posible hacer con ella. Al trabajar con computación científica muchas veces necesitarás acceso a rutinas numéricas para la interpolación, integración, optimización, análisis estadístico, procesamiento de audio, procesamiento de imágenes, etc. Las probabilidades son realmente altas de que esas funciones ya hayan sido implementadas y estén disponibles en SciPy. [SciPy](https://docs.scipy.org/doc/scipy/) es una librería de computación científica construida encima de NumPy. Al igual que como sucede con NumPy, SciPy cuenta con muchas rutinas rápidas y confiables facilmente disponibles y es siempre una buena idea buscar si la rutina que uno necesita está disponible en SciPy (¡no pierdas el tiempo reinventando la rueda, a menos que necesites una rueda muy especial!). SciPy es también el nombre de un grupo de conferencias donde participan usuarios y desarrolladores de herramientas de computación científica en Python. En los siguientes capitulos haremos uso de algunas de las muchas funcionalidades ofrecidas por SciPy."
   ]
  },
  {
   "cell_type": "markdown",
   "metadata": {},
   "source": [
    "## Distribuciones de probabilidad\n",
    "\n",
    "Las variables aleatorias y las distribuciones de probabildiad asociadas a ellas son objetos centrales en estadística. Las distribuciones de probabilidad tienen formulas matemáticas precisas, de forma similar a como las circunferencias tienen una definición matemática precisa.\n",
    "\n",
    "> Una circunferencia es el lugar geométrico de los puntos de un plano que equidistan a otro punto llamado centro.\n",
    "\n",
    "Dado el parámetro `radio` una circunferencia queda perfectamente definida. Si necesitáramos ubicar la circunferencia respecto de otros objetos en el plano, necesitaríamos además las coordenadas del centro, pero omitamos ese _detalle_ por el momento.\n",
    "\n",
    "Podríamos decir que no existe una sola circunferencia, sino una familia de circunferencias donde cada miembro se diferencia del resto solo por el valor del parámetro `radio`, ya que una vez definido este parámetro la circunferencia queda definida.\n",
    "\n",
    "De forma similar las distribuciones de probabilidad vienen en familias cuyos miembros quedan definidos por uno o más parámetros.\n",
    "\n",
    "Quizá la distribución de probabilidad más conocida sea la distribución normal. Esta distribución queda definidad por dos parámetros la media (usualmente $\\mu$) y la desviacion estándard (usualmente $\\sigma$). Otras parametrizaciones comunmente usadadas reemplazan la desviación estándard por la varianza ($\\sigma^2$) o por la precisión $\\left(\\frac{1}{\\sigma^2}\\right)$.\n",
    "\n",
    "La típica curva de campana, que se asocia a la distribución Gaussiana es tan solo una de sus propiedades que se conoce formalmente como función de densidad de probabilidad (pdf en inglés) y se define como:\n",
    "\n",
    "$$\n",
    "p(x \\mid \\mu,\\sigma) = \\frac{1}{\\sigma \\sqrt{ 2 \\pi}} e^{ - \\frac{ (x - \\mu)^2 } {2 \\sigma^2}} \\tag {0.11}\n",
    "$$\n",
    "\n",
    "Por el momento no nos interesa esta formula en particular, solo nos interesa reconocer que tiene una definición matemática precisa. Además de la pdf existen otras propiedades de las distribuciones que son muy usadas como la distribución de densidad acumulada (cdf en inflés). Si la pdf responde a la pregunta cual es la densidad probabilidad para un valor $x$,la cdf nos dice cuanto de la probabilidad total (1) está por debajo de un valor $x$."
   ]
  },
  {
   "cell_type": "markdown",
   "metadata": {},
   "source": [
    "<img src='imagenes/pdf_cdf.png' width=800 >"
   ]
  },
  {
   "cell_type": "markdown",
   "metadata": {},
   "source": [
    "Veamos como scipy por permite trabajar con algunas de estas propiedades de las distribucione de probabilidad sin mucho esfuerzo. Dado que SciPy es una colección de herramientas dispares es común importar solo los submodulos o funciones que vamos a usar y no toda la librería, por ej"
   ]
  },
  {
   "cell_type": "code",
   "execution_count": 123,
   "metadata": {},
   "outputs": [],
   "source": [
    "from scipy import stats  # importamos el modulo stats\n",
    "from scipy.integrate import quad  # importamos la función quad del modulo integrate"
   ]
  },
  {
   "cell_type": "markdown",
   "metadata": {},
   "source": [
    "Podemos definir una normal con media 0 y desviación estandard 1 de la siguiente manera"
   ]
  },
  {
   "cell_type": "code",
   "execution_count": 124,
   "metadata": {},
   "outputs": [],
   "source": [
    "dist = stats.norm(0, 1)"
   ]
  },
  {
   "cell_type": "markdown",
   "metadata": {},
   "source": [
    "Ahora podemos averiguar la densidad de probabilidad para el valor $x=1$."
   ]
  },
  {
   "cell_type": "code",
   "execution_count": 125,
   "metadata": {},
   "outputs": [
    {
     "data": {
      "text/plain": [
       "0.24197072451914337"
      ]
     },
     "execution_count": 125,
     "metadata": {},
     "output_type": "execute_result"
    }
   ],
   "source": [
    "dist.pdf(1)"
   ]
  },
  {
   "cell_type": "markdown",
   "metadata": {},
   "source": [
    "Este número por si solo no nos dice mucho ya que no es una probabilidad, por ejemplo podemos ver que si tomamos varios de $x$ y sumamos sus densidades no obtenemos 1, ni cerca! "
   ]
  },
  {
   "cell_type": "code",
   "execution_count": 126,
   "metadata": {},
   "outputs": [
    {
     "data": {
      "text/plain": [
       "83.24999984173607"
      ]
     },
     "execution_count": 126,
     "metadata": {},
     "output_type": "execute_result"
    }
   ],
   "source": [
    "x = np.linspace(-6, 6, 1000)\n",
    "dist.pdf(x).sum()"
   ]
  },
  {
   "cell_type": "markdown",
   "metadata": {},
   "source": [
    "Esto se debe a que la probabilidad de obtener exactamente 1, es decir $1.000...$ con infinitos ceros es nula. De hecho la probabilidad de cualquier valor es nula. Aunque es posible calcular probabilidades a partir de la pdf integrando (calculando el área bajo la curva)."
   ]
  },
  {
   "cell_type": "code",
   "execution_count": 127,
   "metadata": {},
   "outputs": [
    {
     "data": {
      "text/plain": [
       "0.9989999981008328"
      ]
     },
     "execution_count": 127,
     "metadata": {},
     "output_type": "execute_result"
    }
   ],
   "source": [
    "# aproximamos la integral como una suma de rectangulos de alto pdf y base rango/n.\n",
    "dist.pdf(x).sum() * (12/1000)  "
   ]
  },
  {
   "cell_type": "markdown",
   "metadata": {},
   "source": [
    "De todas formas si podemos hacer preguntas como cuanto más probable es observar el valor 1 que el -1"
   ]
  },
  {
   "cell_type": "code",
   "execution_count": 128,
   "metadata": {},
   "outputs": [
    {
     "data": {
      "text/plain": [
       "1.0"
      ]
     },
     "execution_count": 128,
     "metadata": {},
     "output_type": "execute_result"
    }
   ],
   "source": [
    "dist.pdf(1) / dist.pdf(-1)"
   ]
  },
  {
   "cell_type": "markdown",
   "metadata": {},
   "source": [
    "Lo cual tiene sentido ya que la distribución Normal(0, 1) es simétrica respecto de 0. La cdf es la integral de la pdf.\n",
    "\n",
    "Sigamos con otras preguntas. Si tomaramos un muestra al azar de una distribución normal con media 0 y desviación estándard 1, cual es la probabilidad que fuese menor a 0? esto es fácil de responder con la cdf"
   ]
  },
  {
   "cell_type": "code",
   "execution_count": 129,
   "metadata": {},
   "outputs": [
    {
     "data": {
      "text/plain": [
       "0.5"
      ]
     },
     "execution_count": 129,
     "metadata": {},
     "output_type": "execute_result"
    }
   ],
   "source": [
    "dist.cdf(0)"
   ]
  },
  {
   "cell_type": "markdown",
   "metadata": {},
   "source": [
    "y mayor a 2?"
   ]
  },
  {
   "cell_type": "code",
   "execution_count": 130,
   "metadata": {},
   "outputs": [
    {
     "data": {
      "text/plain": [
       "0.02275013194817921"
      ]
     },
     "execution_count": 130,
     "metadata": {},
     "output_type": "execute_result"
    }
   ],
   "source": [
    "1 - dist.cdf(2)"
   ]
  },
  {
   "cell_type": "markdown",
   "metadata": {},
   "source": [
    "Una forma alternativa de contestar estar preguntas es generando número aleatorios"
   ]
  },
  {
   "cell_type": "code",
   "execution_count": 131,
   "metadata": {},
   "outputs": [
    {
     "data": {
      "text/plain": [
       "0.514"
      ]
     },
     "execution_count": 131,
     "metadata": {},
     "output_type": "execute_result"
    }
   ],
   "source": [
    "np.mean(dist.rvs(1000) < 0)"
   ]
  },
  {
   "cell_type": "code",
   "execution_count": 132,
   "metadata": {},
   "outputs": [
    {
     "data": {
      "text/plain": [
       "0.022"
      ]
     },
     "execution_count": 132,
     "metadata": {},
     "output_type": "execute_result"
    }
   ],
   "source": [
    "np.mean(dist.rvs(1000) > 2)"
   ]
  },
  {
   "cell_type": "markdown",
   "metadata": {},
   "source": [
    "También podrías hacer preguntas del estilo. Cuál es la mediana, o lo que es lo mismo cual es el valor para el cual la mitad de las observaciones están por debajo y la otra mitad por encima. Para una distribución Gaussiana este valor coincide con la media y la moda."
   ]
  },
  {
   "cell_type": "code",
   "execution_count": 133,
   "metadata": {},
   "outputs": [
    {
     "data": {
      "text/plain": [
       "array([0.])"
      ]
     },
     "execution_count": 133,
     "metadata": {},
     "output_type": "execute_result"
    }
   ],
   "source": [
    "dist.ppf([0.5])  # está función es la inversa de la cdf"
   ]
  },
  {
   "cell_type": "markdown",
   "metadata": {},
   "source": [
    "### La regla 68-95-99.7  \n",
    "\n",
    "Alrededor del 68% de los valores extraídos de una distribución normal están dentro de una desviación estándar σ de la media; alrededor del 95% de los valores se encuentran dentro de dos desviaciones estándar; y alrededor del 99,7 % están dentro de tres desviaciones estándar. Este hecho se conoce como la regla 68-95-99.7.\n",
    "\n",
    "\n",
    " <img src=\"imagenes/Standard_deviation_diagram.png\" width=\"450\">\n",
    "\n"
   ]
  },
  {
   "cell_type": "markdown",
   "metadata": {},
   "source": [
    "En el siguiente ejemplo usamos SciPy para evaluar esta regla. Para ello usaremos dos submodulos `stats` e `integrate`. El primero define varias funciones estadísticas y el segundo rutinas para integrar. Usando `stats`, definimos una distribucion normal `stats.norm` y le computamos su funcion de densidad de probabilidad `pdf`. De integrate empleamos `quad`, que nos permite integrar una función unidimensional entre dos puntos."
   ]
  },
  {
   "cell_type": "code",
   "execution_count": 134,
   "metadata": {},
   "outputs": [
    {
     "name": "stdout",
     "output_type": "stream",
     "text": [
      "1 68.3%\n",
      "2 95.4%\n",
      "3 99.7%\n"
     ]
    }
   ],
   "source": [
    "from scipy import stats\n",
    "from scipy.integrate import quad\n",
    "\n",
    "def integrand(x, media, std):\n",
    "    return stats.norm(media, std).pdf(x)\n",
    "\n",
    "media = 0\n",
    "std = 1\n",
    "\n",
    "for sd in [1, 2, 3]:\n",
    "    I = quad(integrand, -sd, sd, args=(media, std))\n",
    "    print(sd, f\"{I[0]:.1%}\")"
   ]
  },
  {
   "cell_type": "markdown",
   "metadata": {},
   "source": [
    "Estos son solo algunos ejemplos de las funciones disponibles en SciPy. Para mayor información puede consultar la [documentación](https://scipy.org/)."
   ]
  },
  {
   "cell_type": "markdown",
   "metadata": {},
   "source": [
    "-------------\n",
    "### Ejercicio\n",
    "\n",
    "17. Scipy cuenta con varios métodos especiales para calcular distancias. Uno de ellos es [KDTree](https://docs.scipy.org/doc/scipy/reference/generated/scipy.spatial.KDTree.html). Use este método para reemplezar en `mcplantas` el calculo de la distancia al primer vecino más cercano. Ayuda: Hacen falta 2 pasos primero crear un objeto kdtree y luego pedirle la distancia a los vecinos más cercanos. Compare la velocidad de `mcplantas`con y sin el KDtree.\n",
    "\n",
    "\n",
    "18. Use `np.genfromtxt` para levantar datos desde un archivo propio (como un `.csv`) y calcule algunos estadísticos sumarios de interes.\n",
    "\n",
    "\n",
    "19. Evalue empíricamente la política óptima para el [problema de la secretaria/o](https://en.wikipedia.org/wiki/Secretary_problem).\n",
    "\n",
    "El problema de la secretaria/o es el siguiente: imagine que usted está buscando a una candidata para una posición en su organización y tiene que elegir a la mejor de $n$ que se presentan. Las personas son entrevistadas una a una en orden aleatorio. Al finalizar cada entrevista se debe notificar la decisión a la candidata. Una vez que se descarta una candidata, no se puede cambiar de opinión. Durante la entrevista, usted obtiene información suficiente para clasificar a la candidata entre todos los entrevistados hasta el momento, pero desconoce la calidad de los candidatos que aún no ha visto. La pregunta es sobre la estrategia óptima (regla de parada) para maximizar la probabilidad de seleccionar a la mejor candidata. Si la decisión se puede aplazar hasta el final, esto se puede resolver mediante el simple algoritmo de seleccionar el máximo actual (y quién lo logró). La dificultad es que la decisión debe tomarse inmediatamente.\n",
    "\n",
    "Puede ser demostrado que la política óptima de parada para cualquier valor de $n$ es: siempre rechazar a los primeros $\\sim n/e$ (donde $e$ es la base del logaritmo natural) candidatos que son entrevistados y luego deteniéndose en la primer candidata que es mejor que todos los candidatos entrevistados hasta ahora (o continuar hasta el último candidato si esto nunca ocurre). A veces, esta estrategia se denomina regla de parada $1 / e$, porque la probabilidad de detenerse en la mejor candidata con esta estrategia es de aproximadamente $1 / e$ para valores moderados de $n$.\n",
    "\n",
    "Aunque hay muchas variaciones, el problema básico se puede enunciar de la siguiente manera:\n",
    "\n",
    "- Hay una sola posición para cubrir.\n",
    "- Hay $n$ candidatos para el puesto y se conoce el valor de $n$.\n",
    "- Los candidatos, si se ven en conjunto, se pueden ordenar de mejor a peor sin ambigüedades.\n",
    "- Los candidatos son entrevistados secuencialmente en orden aleatorio, siendo cada orden igualmente probable.\n",
    "- Inmediatamente después de una entrevista, la candidata entrevistado es aceptada o rechazada y la decisión es irrevocable.\n",
    "- La decisión de aceptar o rechazar a un candidato puede basarse únicamente en los _rankings_ relativos de los candidatos entrevistados hasta el momento.\n",
    "- El objetivo de la solución general es tener la mayor probabilidad de seleccionar a la mejor candidata de todo el grupo. Esto es lo mismo que maximizar el pago esperado, con el pago definido como uno para la mejor candidata y cero en caso contrario.\n",
    "\n",
    "Pruebe, para distintos valores de $n$ que la probabilidad de encontrar a la mejor candidata con esta regla es $1/e$.\n",
    "\n",
    "-------------"
   ]
  },
  {
   "cell_type": "markdown",
   "metadata": {},
   "source": [
    "## Para seguir leyendo\n",
    "\n",
    "* [scientific-python-lectures](https://github.com/jrjohansson/scientific-python-lectures).\n",
    "* [Numpy](https://numpy.org/)\n",
    "* [100 NumPy exercises](http://www.labri.fr/perso/nrougier/teaching/numpy.100)\n",
    "* [NumPy Quickstart](https://numpy.org/doc/stable/user/quickstart.html)\n",
    "* [Python Data Science Hand Book](http://shop.oreilly.com/product/0636920034919.do)"
   ]
  }
 ],
 "metadata": {
  "kernelspec": {
   "display_name": "Python 3 (ipykernel)",
   "language": "python",
   "name": "python3"
  },
  "language_info": {
   "codemirror_mode": {
    "name": "ipython",
    "version": 3
   },
   "file_extension": ".py",
   "mimetype": "text/x-python",
   "name": "python",
   "nbconvert_exporter": "python",
   "pygments_lexer": "ipython3",
   "version": "3.9.13"
  }
 },
 "nbformat": 4,
 "nbformat_minor": 1
}
