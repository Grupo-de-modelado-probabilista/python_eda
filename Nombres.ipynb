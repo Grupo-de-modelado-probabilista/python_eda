{
 "cells": [
  {
   "cell_type": "code",
   "execution_count": 1,
   "id": "5f458a07",
   "metadata": {},
   "outputs": [],
   "source": [
    "import pandas as pd\n",
    "import matplotlib.pyplot as plt\n",
    "import numpy as np"
   ]
  },
  {
   "cell_type": "markdown",
   "id": "6bfe8180",
   "metadata": {},
   "source": [
    "En este caso de estudio analizaremos la distribución de nombres en Argentina desde 1912 a 2015. Los datos fueron tomados de [datos.gob.ar](https://datos.gob.ar/dataset/otros-nombres-personas-fisicas/archivo/otros_2.1).\n",
    "\n",
    "El set de datos contiene el listado histórico de los nombres registrados ante el Registro Nacional de las Personas agrupados por nombre y año. Por ejemplo \"Maria\" y \"Maria Luisa\" son entradas diferentes."
   ]
  },
  {
   "cell_type": "code",
   "execution_count": 2,
   "id": "9937465b",
   "metadata": {},
   "outputs": [
    {
     "data": {
      "text/html": [
       "<div>\n",
       "<style scoped>\n",
       "    .dataframe tbody tr th:only-of-type {\n",
       "        vertical-align: middle;\n",
       "    }\n",
       "\n",
       "    .dataframe tbody tr th {\n",
       "        vertical-align: top;\n",
       "    }\n",
       "\n",
       "    .dataframe thead th {\n",
       "        text-align: right;\n",
       "    }\n",
       "</style>\n",
       "<table border=\"1\" class=\"dataframe\">\n",
       "  <thead>\n",
       "    <tr style=\"text-align: right;\">\n",
       "      <th></th>\n",
       "      <th>nombre</th>\n",
       "      <th>cantidad</th>\n",
       "      <th>año</th>\n",
       "    </tr>\n",
       "  </thead>\n",
       "  <tbody>\n",
       "    <tr>\n",
       "      <th>0</th>\n",
       "      <td>Maria</td>\n",
       "      <td>314</td>\n",
       "      <td>1922</td>\n",
       "    </tr>\n",
       "    <tr>\n",
       "      <th>1</th>\n",
       "      <td>Rosa</td>\n",
       "      <td>203</td>\n",
       "      <td>1922</td>\n",
       "    </tr>\n",
       "    <tr>\n",
       "      <th>2</th>\n",
       "      <td>Jose</td>\n",
       "      <td>163</td>\n",
       "      <td>1922</td>\n",
       "    </tr>\n",
       "    <tr>\n",
       "      <th>3</th>\n",
       "      <td>Maria Luisa</td>\n",
       "      <td>127</td>\n",
       "      <td>1922</td>\n",
       "    </tr>\n",
       "    <tr>\n",
       "      <th>4</th>\n",
       "      <td>Carmen</td>\n",
       "      <td>117</td>\n",
       "      <td>1922</td>\n",
       "    </tr>\n",
       "  </tbody>\n",
       "</table>\n",
       "</div>"
      ],
      "text/plain": [
       "        nombre  cantidad   año\n",
       "0        Maria       314  1922\n",
       "1         Rosa       203  1922\n",
       "2         Jose       163  1922\n",
       "3  Maria Luisa       127  1922\n",
       "4       Carmen       117  1922"
      ]
     },
     "execution_count": 2,
     "metadata": {},
     "output_type": "execute_result"
    }
   ],
   "source": [
    "df = pd.read_csv('datos/nombres.zip')\n",
    "df.head()"
   ]
  },
  {
   "cell_type": "markdown",
   "id": "5b7235d7",
   "metadata": {},
   "source": [
    "Podemos usar describe para obtener un resúmen de los datos, como por ejemplo que tenemos más de 9.7 millones de entradas. Y que el nombre más popular, en un año, fue registrado 7939 veces."
   ]
  },
  {
   "cell_type": "code",
   "execution_count": 3,
   "id": "09b3e7bb",
   "metadata": {},
   "outputs": [
    {
     "data": {
      "text/html": [
       "<div>\n",
       "<style scoped>\n",
       "    .dataframe tbody tr th:only-of-type {\n",
       "        vertical-align: middle;\n",
       "    }\n",
       "\n",
       "    .dataframe tbody tr th {\n",
       "        vertical-align: top;\n",
       "    }\n",
       "\n",
       "    .dataframe thead th {\n",
       "        text-align: right;\n",
       "    }\n",
       "</style>\n",
       "<table border=\"1\" class=\"dataframe\">\n",
       "  <thead>\n",
       "    <tr style=\"text-align: right;\">\n",
       "      <th></th>\n",
       "      <th>cantidad</th>\n",
       "      <th>año</th>\n",
       "    </tr>\n",
       "  </thead>\n",
       "  <tbody>\n",
       "    <tr>\n",
       "      <th>count</th>\n",
       "      <td>9.761609e+06</td>\n",
       "      <td>9.761609e+06</td>\n",
       "    </tr>\n",
       "    <tr>\n",
       "      <th>mean</th>\n",
       "      <td>6.177199e+00</td>\n",
       "      <td>1.980137e+03</td>\n",
       "    </tr>\n",
       "    <tr>\n",
       "      <th>std</th>\n",
       "      <td>4.336806e+01</td>\n",
       "      <td>2.429556e+01</td>\n",
       "    </tr>\n",
       "    <tr>\n",
       "      <th>min</th>\n",
       "      <td>1.000000e+00</td>\n",
       "      <td>1.922000e+03</td>\n",
       "    </tr>\n",
       "    <tr>\n",
       "      <th>25%</th>\n",
       "      <td>1.000000e+00</td>\n",
       "      <td>1.961000e+03</td>\n",
       "    </tr>\n",
       "    <tr>\n",
       "      <th>50%</th>\n",
       "      <td>2.000000e+00</td>\n",
       "      <td>1.985000e+03</td>\n",
       "    </tr>\n",
       "    <tr>\n",
       "      <th>75%</th>\n",
       "      <td>3.000000e+00</td>\n",
       "      <td>2.001000e+03</td>\n",
       "    </tr>\n",
       "    <tr>\n",
       "      <th>max</th>\n",
       "      <td>7.939000e+03</td>\n",
       "      <td>2.015000e+03</td>\n",
       "    </tr>\n",
       "  </tbody>\n",
       "</table>\n",
       "</div>"
      ],
      "text/plain": [
       "           cantidad           año\n",
       "count  9.761609e+06  9.761609e+06\n",
       "mean   6.177199e+00  1.980137e+03\n",
       "std    4.336806e+01  2.429556e+01\n",
       "min    1.000000e+00  1.922000e+03\n",
       "25%    1.000000e+00  1.961000e+03\n",
       "50%    2.000000e+00  1.985000e+03\n",
       "75%    3.000000e+00  2.001000e+03\n",
       "max    7.939000e+03  2.015000e+03"
      ]
     },
     "execution_count": 3,
     "metadata": {},
     "output_type": "execute_result"
    }
   ],
   "source": [
    "df.describe()"
   ]
  },
  {
   "cell_type": "markdown",
   "id": "a89cb3d8",
   "metadata": {},
   "source": [
    "Veamos cual fue ese nombre y en que año se dio el registro"
   ]
  },
  {
   "cell_type": "code",
   "execution_count": 4,
   "id": "33fe2d32",
   "metadata": {},
   "outputs": [
    {
     "data": {
      "text/html": [
       "<div>\n",
       "<style scoped>\n",
       "    .dataframe tbody tr th:only-of-type {\n",
       "        vertical-align: middle;\n",
       "    }\n",
       "\n",
       "    .dataframe tbody tr th {\n",
       "        vertical-align: top;\n",
       "    }\n",
       "\n",
       "    .dataframe thead th {\n",
       "        text-align: right;\n",
       "    }\n",
       "</style>\n",
       "<table border=\"1\" class=\"dataframe\">\n",
       "  <thead>\n",
       "    <tr style=\"text-align: right;\">\n",
       "      <th></th>\n",
       "      <th>nombre</th>\n",
       "      <th>cantidad</th>\n",
       "      <th>año</th>\n",
       "    </tr>\n",
       "  </thead>\n",
       "  <tbody>\n",
       "    <tr>\n",
       "      <th>3673344</th>\n",
       "      <td>Leonel Hernan</td>\n",
       "      <td>7939</td>\n",
       "      <td>1975</td>\n",
       "    </tr>\n",
       "  </tbody>\n",
       "</table>\n",
       "</div>"
      ],
      "text/plain": [
       "                nombre  cantidad   año\n",
       "3673344  Leonel Hernan      7939  1975"
      ]
     },
     "execution_count": 4,
     "metadata": {},
     "output_type": "execute_result"
    }
   ],
   "source": [
    "df[df[\"cantidad\"] == 7939]"
   ]
  },
  {
   "cell_type": "markdown",
   "id": "c040418e",
   "metadata": {},
   "source": [
    "Antes de continuar nos vamos a asegurar de unificar nombres con y sin tilde y vamos a asegurarnos que solo la primer letra de cada nombre es mayúscula."
   ]
  },
  {
   "cell_type": "code",
   "execution_count": 5,
   "id": "5d17fb71",
   "metadata": {},
   "outputs": [],
   "source": [
    "trans = str.maketrans('áéíóúäëïöüâêîôûàèìòùãẽĩõũ', 'aeiou'*5) # this can be done with the unidecode library\n",
    "\n",
    "\n",
    "df[\"nombre\"] = (df[\"nombre\"].str.replace(\"[\\(].*?[\\)]\", \"\", regex=True)\n",
    "                            .str.lower()\n",
    "                            .str.translate(trans)\n",
    "                            .str.title()\n",
    "                            .str.rstrip()\n",
    "               )"
   ]
  },
  {
   "cell_type": "markdown",
   "id": "394def91",
   "metadata": {},
   "source": [
    "Vamos a quedarnos solo con los datos cuyos nombres tengan una longitud mayor a 2."
   ]
  },
  {
   "cell_type": "code",
   "execution_count": 6,
   "id": "5a197970",
   "metadata": {},
   "outputs": [],
   "source": [
    "df = df[df[\"nombre\"].str.len() > 2]"
   ]
  },
  {
   "cell_type": "markdown",
   "id": "5d865e07",
   "metadata": {},
   "source": [
    "Y vamos a revisar si tenemos entradas marcadas como datos perdidos"
   ]
  },
  {
   "cell_type": "code",
   "execution_count": 7,
   "id": "1e968841",
   "metadata": {},
   "outputs": [
    {
     "data": {
      "text/plain": [
       "nombre      0\n",
       "cantidad    0\n",
       "año         0\n",
       "dtype: int64"
      ]
     },
     "execution_count": 7,
     "metadata": {},
     "output_type": "execute_result"
    }
   ],
   "source": [
    "df.isna().sum()"
   ]
  },
  {
   "cell_type": "markdown",
   "id": "2b421cec",
   "metadata": {},
   "source": [
    "El set de datos original contenía algunos valores, pero estos fueron eliminados en la liempieza que hicimos anterioremente. Si todavía tuvieramos datos faltantes podríamos haberlos esliminado haciendo\n",
    "\n",
    "```python\n",
    "df.dropna(inplace=True)\n",
    "```"
   ]
  },
  {
   "cell_type": "markdown",
   "id": "d956fbf1",
   "metadata": {},
   "source": [
    "Es posible seguir normalizando y limpiando estos datos, ya que hay varias anomalías en los nombres. Cómo números, nombres incompletos etc. A los fines de este ejemplo consideraremos que todas esas anomalías ocurren con suficiente baja probabilidad como para no afectar el resultado de nuestro análisis."
   ]
  },
  {
   "cell_type": "markdown",
   "id": "d712b239",
   "metadata": {},
   "source": [
    "## Algunos nombres con patrones particulares"
   ]
  },
  {
   "cell_type": "markdown",
   "id": "d64a49bc",
   "metadata": {},
   "source": [
    "Es común que la mayoría de los nombres sean populares durante solo un periodo relativamente corto de tiempo. Muchas veces la popularidad de los nombres se relaciona con eventos históricos o de la cultura popular.\n",
    "\n",
    "Veamos por ejemplo como cambio la frecuencia del nombre \"Diego Armando\""
   ]
  },
  {
   "cell_type": "code",
   "execution_count": 8,
   "id": "3eff4241",
   "metadata": {},
   "outputs": [],
   "source": [
    "df_diego = df[df[\"nombre\"] == \"Diego Armando\"]"
   ]
  },
  {
   "cell_type": "code",
   "execution_count": 9,
   "id": "5e938eec",
   "metadata": {},
   "outputs": [
    {
     "data": {
      "image/png": "[encoded data removed]",
      "text/plain": [
       "<Figure size 432x288 with 1 Axes>"
      ]
     },
     "metadata": {
      "needs_background": "light"
     },
     "output_type": "display_data"
    }
   ],
   "source": [
    "df_diego.plot(x=\"año\", y=\"cantidad\");"
   ]
  },
  {
   "cell_type": "markdown",
   "id": "60a43d1c",
   "metadata": {},
   "source": [
    "No es sorpresa que la popularidad de este nombre esté estrechamente vinculada a la popularidad de Diego Armándo Maradona y a su trayectoria profesional como futbolísta, por ejemplo vemos como el primer pico se vincula con su entrada al equipo de Boca Juniors (1981-1982) y el segundo pico al mundial de fútbol celebrado en México en el año 1986."
   ]
  },
  {
   "cell_type": "code",
   "execution_count": 10,
   "id": "63d9050b",
   "metadata": {},
   "outputs": [
    {
     "data": {
      "text/html": [
       "<div>\n",
       "<style scoped>\n",
       "    .dataframe tbody tr th:only-of-type {\n",
       "        vertical-align: middle;\n",
       "    }\n",
       "\n",
       "    .dataframe tbody tr th {\n",
       "        vertical-align: top;\n",
       "    }\n",
       "\n",
       "    .dataframe thead th {\n",
       "        text-align: right;\n",
       "    }\n",
       "</style>\n",
       "<table border=\"1\" class=\"dataframe\">\n",
       "  <thead>\n",
       "    <tr style=\"text-align: right;\">\n",
       "      <th></th>\n",
       "      <th>nombre</th>\n",
       "      <th>cantidad</th>\n",
       "      <th>año</th>\n",
       "    </tr>\n",
       "  </thead>\n",
       "  <tbody>\n",
       "    <tr>\n",
       "      <th>4331462</th>\n",
       "      <td>Diego Armando</td>\n",
       "      <td>1699</td>\n",
       "      <td>1981</td>\n",
       "    </tr>\n",
       "    <tr>\n",
       "      <th>4989636</th>\n",
       "      <td>Diego Armando</td>\n",
       "      <td>1496</td>\n",
       "      <td>1986</td>\n",
       "    </tr>\n",
       "    <tr>\n",
       "      <th>4259954</th>\n",
       "      <td>Diego Armando</td>\n",
       "      <td>1133</td>\n",
       "      <td>1980</td>\n",
       "    </tr>\n",
       "    <tr>\n",
       "      <th>4458306</th>\n",
       "      <td>Diego Armando</td>\n",
       "      <td>1078</td>\n",
       "      <td>1982</td>\n",
       "    </tr>\n",
       "    <tr>\n",
       "      <th>4135435</th>\n",
       "      <td>Diego Armando</td>\n",
       "      <td>991</td>\n",
       "      <td>1979</td>\n",
       "    </tr>\n",
       "  </tbody>\n",
       "</table>\n",
       "</div>"
      ],
      "text/plain": [
       "                nombre  cantidad   año\n",
       "4331462  Diego Armando      1699  1981\n",
       "4989636  Diego Armando      1496  1986\n",
       "4259954  Diego Armando      1133  1980\n",
       "4458306  Diego Armando      1078  1982\n",
       "4135435  Diego Armando       991  1979"
      ]
     },
     "execution_count": 10,
     "metadata": {},
     "output_type": "execute_result"
    }
   ],
   "source": [
    "df_diego_sorted = df_diego.sort_values(\"cantidad\", ascending=False)\n",
    "df_diego_sorted.head()"
   ]
  },
  {
   "cell_type": "markdown",
   "id": "1c4d4397",
   "metadata": {},
   "source": [
    "Otro nombre que muestra un perfil muy particular es \"Malvina\". En este caso en vez de buscar exactamente el nombre \"Malvina\", vamos a buscar cualquier nombre que lo contenga, es decir contaremos como válida \"Malvina\" pero tambien nombres como \"Maria Malvina\"."
   ]
  },
  {
   "cell_type": "code",
   "execution_count": 11,
   "id": "89b89d7c",
   "metadata": {},
   "outputs": [
    {
     "data": {
      "text/html": [
       "<div>\n",
       "<style scoped>\n",
       "    .dataframe tbody tr th:only-of-type {\n",
       "        vertical-align: middle;\n",
       "    }\n",
       "\n",
       "    .dataframe tbody tr th {\n",
       "        vertical-align: top;\n",
       "    }\n",
       "\n",
       "    .dataframe thead th {\n",
       "        text-align: right;\n",
       "    }\n",
       "</style>\n",
       "<table border=\"1\" class=\"dataframe\">\n",
       "  <thead>\n",
       "    <tr style=\"text-align: right;\">\n",
       "      <th></th>\n",
       "      <th>nombre</th>\n",
       "      <th>cantidad</th>\n",
       "      <th>año</th>\n",
       "    </tr>\n",
       "  </thead>\n",
       "  <tbody>\n",
       "    <tr>\n",
       "      <th>1489</th>\n",
       "      <td>Maria Malvina</td>\n",
       "      <td>2</td>\n",
       "      <td>1922</td>\n",
       "    </tr>\n",
       "    <tr>\n",
       "      <th>4072</th>\n",
       "      <td>Malvina Maria Gracia</td>\n",
       "      <td>1</td>\n",
       "      <td>1922</td>\n",
       "    </tr>\n",
       "    <tr>\n",
       "      <th>8944</th>\n",
       "      <td>Malvina</td>\n",
       "      <td>1</td>\n",
       "      <td>1922</td>\n",
       "    </tr>\n",
       "    <tr>\n",
       "      <th>16978</th>\n",
       "      <td>Erminda Malvina</td>\n",
       "      <td>1</td>\n",
       "      <td>1923</td>\n",
       "    </tr>\n",
       "    <tr>\n",
       "      <th>17099</th>\n",
       "      <td>Malvina Olga</td>\n",
       "      <td>1</td>\n",
       "      <td>1923</td>\n",
       "    </tr>\n",
       "  </tbody>\n",
       "</table>\n",
       "</div>"
      ],
      "text/plain": [
       "                     nombre  cantidad   año\n",
       "1489          Maria Malvina         2  1922\n",
       "4072   Malvina Maria Gracia         1  1922\n",
       "8944                Malvina         1  1922\n",
       "16978       Erminda Malvina         1  1923\n",
       "17099          Malvina Olga         1  1923"
      ]
     },
     "execution_count": 11,
     "metadata": {},
     "output_type": "execute_result"
    }
   ],
   "source": [
    "df_malvina = df[df[\"nombre\"].str.contains(\"Malvina\")]\n",
    "df_malvina.head()"
   ]
  },
  {
   "cell_type": "markdown",
   "id": "26268294",
   "metadata": {},
   "source": [
    "Como en cada año tenemos más de una instancia de \"Malvina\", necesitamos agrupar por año y sumar las cantidades"
   ]
  },
  {
   "cell_type": "code",
   "execution_count": 12,
   "id": "2bcbc86f",
   "metadata": {},
   "outputs": [
    {
     "data": {
      "image/png": "[encoded data removed]",
      "text/plain": [
       "<Figure size 432x288 with 1 Axes>"
      ]
     },
     "metadata": {
      "needs_background": "light"
     },
     "output_type": "display_data"
    }
   ],
   "source": [
    "df_malvina = df_malvina.groupby(\"año\").sum().reset_index()\n",
    "df_malvina.plot(x=\"año\", y=\"cantidad\");"
   ]
  },
  {
   "cell_type": "markdown",
   "id": "07c86a6f",
   "metadata": {},
   "source": [
    "## Cuáles han sido los nombres más populares por año?"
   ]
  },
  {
   "cell_type": "markdown",
   "id": "02670e12",
   "metadata": {},
   "source": [
    "Ahora veremos cual es el nombre más popular en cada año, para ello creamos una función que ordena las cantidades de forma descendente y luego toma los primeros `num` elementos.\n",
    "\n",
    "Luego agrupamos por año y aplicamos la función. Por último reseteamos el índice (hacemos que vuelva a ser de 0 a la cantidad de años -1)."
   ]
  },
  {
   "cell_type": "code",
   "execution_count": 13,
   "id": "233b88da",
   "metadata": {},
   "outputs": [],
   "source": [
    "def top_n(group, num):\n",
    "    return group.sort_values(\"cantidad\", ascending=False)[:num]\n",
    "\n",
    "top1 = df.groupby([\"año\"]).apply(top_n, 1).reset_index(drop=True)"
   ]
  },
  {
   "cell_type": "markdown",
   "id": "44005a0b",
   "metadata": {},
   "source": [
    "A fin de facilitar la visualización del resultado omitimos la columna `cantidad`, transponemos el DataFrame (cambiamos filas por columnas) y ocultamos las columnas (que antes era el índice)."
   ]
  },
  {
   "cell_type": "code",
   "execution_count": 14,
   "id": "19062fc4",
   "metadata": {},
   "outputs": [
    {
     "data": {
      "text/html": [
       "<style type=\"text/css\">\n",
       "</style>\n",
       "<table id=\"T_b212a\">\n",
       "  <thead>\n",
       "  </thead>\n",
       "  <tbody>\n",
       "    <tr>\n",
       "      <th id=\"T_b212a_level0_row0\" class=\"row_heading level0 row0\" >nombre</th>\n",
       "      <td id=\"T_b212a_row0_col0\" class=\"data row0 col0\" >Maria</td>\n",
       "      <td id=\"T_b212a_row0_col1\" class=\"data row0 col1\" >Maria</td>\n",
       "      <td id=\"T_b212a_row0_col2\" class=\"data row0 col2\" >Maria</td>\n",
       "      <td id=\"T_b212a_row0_col3\" class=\"data row0 col3\" >Maria</td>\n",
       "      <td id=\"T_b212a_row0_col4\" class=\"data row0 col4\" >Maria</td>\n",
       "      <td id=\"T_b212a_row0_col5\" class=\"data row0 col5\" >Maria</td>\n",
       "      <td id=\"T_b212a_row0_col6\" class=\"data row0 col6\" >Maria</td>\n",
       "      <td id=\"T_b212a_row0_col7\" class=\"data row0 col7\" >Maria</td>\n",
       "      <td id=\"T_b212a_row0_col8\" class=\"data row0 col8\" >Maria</td>\n",
       "      <td id=\"T_b212a_row0_col9\" class=\"data row0 col9\" >Maria</td>\n",
       "      <td id=\"T_b212a_row0_col10\" class=\"data row0 col10\" >Maria</td>\n",
       "      <td id=\"T_b212a_row0_col11\" class=\"data row0 col11\" >Juan Carlos</td>\n",
       "      <td id=\"T_b212a_row0_col12\" class=\"data row0 col12\" >Juan Carlos</td>\n",
       "      <td id=\"T_b212a_row0_col13\" class=\"data row0 col13\" >Juan Carlos</td>\n",
       "      <td id=\"T_b212a_row0_col14\" class=\"data row0 col14\" >Juan Carlos</td>\n",
       "      <td id=\"T_b212a_row0_col15\" class=\"data row0 col15\" >Juan Carlos</td>\n",
       "      <td id=\"T_b212a_row0_col16\" class=\"data row0 col16\" >Juan Carlos</td>\n",
       "      <td id=\"T_b212a_row0_col17\" class=\"data row0 col17\" >Juan Carlos</td>\n",
       "      <td id=\"T_b212a_row0_col18\" class=\"data row0 col18\" >Juan Carlos</td>\n",
       "      <td id=\"T_b212a_row0_col19\" class=\"data row0 col19\" >Juan Carlos</td>\n",
       "      <td id=\"T_b212a_row0_col20\" class=\"data row0 col20\" >Juan Carlos</td>\n",
       "      <td id=\"T_b212a_row0_col21\" class=\"data row0 col21\" >Juan Carlos</td>\n",
       "      <td id=\"T_b212a_row0_col22\" class=\"data row0 col22\" >Juan Carlos</td>\n",
       "      <td id=\"T_b212a_row0_col23\" class=\"data row0 col23\" >Juan Carlos</td>\n",
       "      <td id=\"T_b212a_row0_col24\" class=\"data row0 col24\" >Juan Carlos</td>\n",
       "      <td id=\"T_b212a_row0_col25\" class=\"data row0 col25\" >Juan Carlos</td>\n",
       "      <td id=\"T_b212a_row0_col26\" class=\"data row0 col26\" >Juan Carlos</td>\n",
       "      <td id=\"T_b212a_row0_col27\" class=\"data row0 col27\" >Juan Carlos</td>\n",
       "      <td id=\"T_b212a_row0_col28\" class=\"data row0 col28\" >Juan Carlos</td>\n",
       "      <td id=\"T_b212a_row0_col29\" class=\"data row0 col29\" >Juan Carlos</td>\n",
       "      <td id=\"T_b212a_row0_col30\" class=\"data row0 col30\" >Juan Carlos</td>\n",
       "      <td id=\"T_b212a_row0_col31\" class=\"data row0 col31\" >Juan Carlos</td>\n",
       "      <td id=\"T_b212a_row0_col32\" class=\"data row0 col32\" >Juan Carlos</td>\n",
       "      <td id=\"T_b212a_row0_col33\" class=\"data row0 col33\" >Juan Carlos</td>\n",
       "      <td id=\"T_b212a_row0_col34\" class=\"data row0 col34\" >Juan Carlos</td>\n",
       "      <td id=\"T_b212a_row0_col35\" class=\"data row0 col35\" >Juan Carlos</td>\n",
       "      <td id=\"T_b212a_row0_col36\" class=\"data row0 col36\" >Juan Carlos</td>\n",
       "      <td id=\"T_b212a_row0_col37\" class=\"data row0 col37\" >Juan Carlos</td>\n",
       "      <td id=\"T_b212a_row0_col38\" class=\"data row0 col38\" >Juan Carlos</td>\n",
       "      <td id=\"T_b212a_row0_col39\" class=\"data row0 col39\" >Juan Carlos</td>\n",
       "      <td id=\"T_b212a_row0_col40\" class=\"data row0 col40\" >Juan Carlos</td>\n",
       "      <td id=\"T_b212a_row0_col41\" class=\"data row0 col41\" >Norma Beatriz</td>\n",
       "      <td id=\"T_b212a_row0_col42\" class=\"data row0 col42\" >Juan Carlos</td>\n",
       "      <td id=\"T_b212a_row0_col43\" class=\"data row0 col43\" >Juan Carlos</td>\n",
       "      <td id=\"T_b212a_row0_col44\" class=\"data row0 col44\" >Juan Carlos</td>\n",
       "      <td id=\"T_b212a_row0_col45\" class=\"data row0 col45\" >Juan Carlos</td>\n",
       "      <td id=\"T_b212a_row0_col46\" class=\"data row0 col46\" >Juan Carlos</td>\n",
       "      <td id=\"T_b212a_row0_col47\" class=\"data row0 col47\" >Juan Carlos</td>\n",
       "      <td id=\"T_b212a_row0_col48\" class=\"data row0 col48\" >Juan Carlos</td>\n",
       "      <td id=\"T_b212a_row0_col49\" class=\"data row0 col49\" >Miguel Angel</td>\n",
       "      <td id=\"T_b212a_row0_col50\" class=\"data row0 col50\" >Juan Carlos</td>\n",
       "      <td id=\"T_b212a_row0_col51\" class=\"data row0 col51\" >Miguel Angel</td>\n",
       "      <td id=\"T_b212a_row0_col52\" class=\"data row0 col52\" >Miguel Angel</td>\n",
       "      <td id=\"T_b212a_row0_col53\" class=\"data row0 col53\" >Leonel Hernan</td>\n",
       "      <td id=\"T_b212a_row0_col54\" class=\"data row0 col54\" >Miguel Angel</td>\n",
       "      <td id=\"T_b212a_row0_col55\" class=\"data row0 col55\" >Miguel Angel</td>\n",
       "      <td id=\"T_b212a_row0_col56\" class=\"data row0 col56\" >Miguel Angel</td>\n",
       "      <td id=\"T_b212a_row0_col57\" class=\"data row0 col57\" >Maria Laura</td>\n",
       "      <td id=\"T_b212a_row0_col58\" class=\"data row0 col58\" >Maria Laura</td>\n",
       "      <td id=\"T_b212a_row0_col59\" class=\"data row0 col59\" >Maria Laura</td>\n",
       "      <td id=\"T_b212a_row0_col60\" class=\"data row0 col60\" >Juan Pablo</td>\n",
       "      <td id=\"T_b212a_row0_col61\" class=\"data row0 col61\" >Maria Laura</td>\n",
       "      <td id=\"T_b212a_row0_col62\" class=\"data row0 col62\" >Maria Laura</td>\n",
       "      <td id=\"T_b212a_row0_col63\" class=\"data row0 col63\" >Juan Manuel</td>\n",
       "      <td id=\"T_b212a_row0_col64\" class=\"data row0 col64\" >Maria Belen</td>\n",
       "      <td id=\"T_b212a_row0_col65\" class=\"data row0 col65\" >Maria Belen</td>\n",
       "      <td id=\"T_b212a_row0_col66\" class=\"data row0 col66\" >Maria Belen</td>\n",
       "      <td id=\"T_b212a_row0_col67\" class=\"data row0 col67\" >Maria Florencia</td>\n",
       "      <td id=\"T_b212a_row0_col68\" class=\"data row0 col68\" >Maria Belen</td>\n",
       "      <td id=\"T_b212a_row0_col69\" class=\"data row0 col69\" >Maria Belen</td>\n",
       "      <td id=\"T_b212a_row0_col70\" class=\"data row0 col70\" >Maria Belen</td>\n",
       "      <td id=\"T_b212a_row0_col71\" class=\"data row0 col71\" >Maria Belen</td>\n",
       "      <td id=\"T_b212a_row0_col72\" class=\"data row0 col72\" >Maria Belen</td>\n",
       "      <td id=\"T_b212a_row0_col73\" class=\"data row0 col73\" >Maria Belen</td>\n",
       "      <td id=\"T_b212a_row0_col74\" class=\"data row0 col74\" >Maria Belen</td>\n",
       "      <td id=\"T_b212a_row0_col75\" class=\"data row0 col75\" >Maria Belen</td>\n",
       "      <td id=\"T_b212a_row0_col76\" class=\"data row0 col76\" >Agustin</td>\n",
       "      <td id=\"T_b212a_row0_col77\" class=\"data row0 col77\" >Valentina</td>\n",
       "      <td id=\"T_b212a_row0_col78\" class=\"data row0 col78\" >Valentina</td>\n",
       "      <td id=\"T_b212a_row0_col79\" class=\"data row0 col79\" >Valentina</td>\n",
       "      <td id=\"T_b212a_row0_col80\" class=\"data row0 col80\" >Valentina</td>\n",
       "      <td id=\"T_b212a_row0_col81\" class=\"data row0 col81\" >Valentina</td>\n",
       "      <td id=\"T_b212a_row0_col82\" class=\"data row0 col82\" >Valentina</td>\n",
       "      <td id=\"T_b212a_row0_col83\" class=\"data row0 col83\" >Valentina</td>\n",
       "      <td id=\"T_b212a_row0_col84\" class=\"data row0 col84\" >Valentina</td>\n",
       "      <td id=\"T_b212a_row0_col85\" class=\"data row0 col85\" >Valentina</td>\n",
       "      <td id=\"T_b212a_row0_col86\" class=\"data row0 col86\" >Valentina</td>\n",
       "      <td id=\"T_b212a_row0_col87\" class=\"data row0 col87\" >Benjamin</td>\n",
       "      <td id=\"T_b212a_row0_col88\" class=\"data row0 col88\" >Benjamin</td>\n",
       "      <td id=\"T_b212a_row0_col89\" class=\"data row0 col89\" >Benjamin</td>\n",
       "      <td id=\"T_b212a_row0_col90\" class=\"data row0 col90\" >Benjamin</td>\n",
       "      <td id=\"T_b212a_row0_col91\" class=\"data row0 col91\" >Benjamin</td>\n",
       "      <td id=\"T_b212a_row0_col92\" class=\"data row0 col92\" >Benjamin</td>\n",
       "      <td id=\"T_b212a_row0_col93\" class=\"data row0 col93\" >Benjamin</td>\n",
       "    </tr>\n",
       "    <tr>\n",
       "      <th id=\"T_b212a_level0_row1\" class=\"row_heading level0 row1\" >año</th>\n",
       "      <td id=\"T_b212a_row1_col0\" class=\"data row1 col0\" >1922</td>\n",
       "      <td id=\"T_b212a_row1_col1\" class=\"data row1 col1\" >1923</td>\n",
       "      <td id=\"T_b212a_row1_col2\" class=\"data row1 col2\" >1924</td>\n",
       "      <td id=\"T_b212a_row1_col3\" class=\"data row1 col3\" >1925</td>\n",
       "      <td id=\"T_b212a_row1_col4\" class=\"data row1 col4\" >1926</td>\n",
       "      <td id=\"T_b212a_row1_col5\" class=\"data row1 col5\" >1927</td>\n",
       "      <td id=\"T_b212a_row1_col6\" class=\"data row1 col6\" >1928</td>\n",
       "      <td id=\"T_b212a_row1_col7\" class=\"data row1 col7\" >1929</td>\n",
       "      <td id=\"T_b212a_row1_col8\" class=\"data row1 col8\" >1930</td>\n",
       "      <td id=\"T_b212a_row1_col9\" class=\"data row1 col9\" >1931</td>\n",
       "      <td id=\"T_b212a_row1_col10\" class=\"data row1 col10\" >1932</td>\n",
       "      <td id=\"T_b212a_row1_col11\" class=\"data row1 col11\" >1933</td>\n",
       "      <td id=\"T_b212a_row1_col12\" class=\"data row1 col12\" >1934</td>\n",
       "      <td id=\"T_b212a_row1_col13\" class=\"data row1 col13\" >1935</td>\n",
       "      <td id=\"T_b212a_row1_col14\" class=\"data row1 col14\" >1936</td>\n",
       "      <td id=\"T_b212a_row1_col15\" class=\"data row1 col15\" >1937</td>\n",
       "      <td id=\"T_b212a_row1_col16\" class=\"data row1 col16\" >1938</td>\n",
       "      <td id=\"T_b212a_row1_col17\" class=\"data row1 col17\" >1939</td>\n",
       "      <td id=\"T_b212a_row1_col18\" class=\"data row1 col18\" >1940</td>\n",
       "      <td id=\"T_b212a_row1_col19\" class=\"data row1 col19\" >1941</td>\n",
       "      <td id=\"T_b212a_row1_col20\" class=\"data row1 col20\" >1942</td>\n",
       "      <td id=\"T_b212a_row1_col21\" class=\"data row1 col21\" >1943</td>\n",
       "      <td id=\"T_b212a_row1_col22\" class=\"data row1 col22\" >1944</td>\n",
       "      <td id=\"T_b212a_row1_col23\" class=\"data row1 col23\" >1945</td>\n",
       "      <td id=\"T_b212a_row1_col24\" class=\"data row1 col24\" >1946</td>\n",
       "      <td id=\"T_b212a_row1_col25\" class=\"data row1 col25\" >1947</td>\n",
       "      <td id=\"T_b212a_row1_col26\" class=\"data row1 col26\" >1948</td>\n",
       "      <td id=\"T_b212a_row1_col27\" class=\"data row1 col27\" >1949</td>\n",
       "      <td id=\"T_b212a_row1_col28\" class=\"data row1 col28\" >1950</td>\n",
       "      <td id=\"T_b212a_row1_col29\" class=\"data row1 col29\" >1951</td>\n",
       "      <td id=\"T_b212a_row1_col30\" class=\"data row1 col30\" >1952</td>\n",
       "      <td id=\"T_b212a_row1_col31\" class=\"data row1 col31\" >1953</td>\n",
       "      <td id=\"T_b212a_row1_col32\" class=\"data row1 col32\" >1954</td>\n",
       "      <td id=\"T_b212a_row1_col33\" class=\"data row1 col33\" >1955</td>\n",
       "      <td id=\"T_b212a_row1_col34\" class=\"data row1 col34\" >1956</td>\n",
       "      <td id=\"T_b212a_row1_col35\" class=\"data row1 col35\" >1957</td>\n",
       "      <td id=\"T_b212a_row1_col36\" class=\"data row1 col36\" >1958</td>\n",
       "      <td id=\"T_b212a_row1_col37\" class=\"data row1 col37\" >1959</td>\n",
       "      <td id=\"T_b212a_row1_col38\" class=\"data row1 col38\" >1960</td>\n",
       "      <td id=\"T_b212a_row1_col39\" class=\"data row1 col39\" >1961</td>\n",
       "      <td id=\"T_b212a_row1_col40\" class=\"data row1 col40\" >1962</td>\n",
       "      <td id=\"T_b212a_row1_col41\" class=\"data row1 col41\" >1963</td>\n",
       "      <td id=\"T_b212a_row1_col42\" class=\"data row1 col42\" >1964</td>\n",
       "      <td id=\"T_b212a_row1_col43\" class=\"data row1 col43\" >1965</td>\n",
       "      <td id=\"T_b212a_row1_col44\" class=\"data row1 col44\" >1966</td>\n",
       "      <td id=\"T_b212a_row1_col45\" class=\"data row1 col45\" >1967</td>\n",
       "      <td id=\"T_b212a_row1_col46\" class=\"data row1 col46\" >1968</td>\n",
       "      <td id=\"T_b212a_row1_col47\" class=\"data row1 col47\" >1969</td>\n",
       "      <td id=\"T_b212a_row1_col48\" class=\"data row1 col48\" >1970</td>\n",
       "      <td id=\"T_b212a_row1_col49\" class=\"data row1 col49\" >1971</td>\n",
       "      <td id=\"T_b212a_row1_col50\" class=\"data row1 col50\" >1972</td>\n",
       "      <td id=\"T_b212a_row1_col51\" class=\"data row1 col51\" >1973</td>\n",
       "      <td id=\"T_b212a_row1_col52\" class=\"data row1 col52\" >1974</td>\n",
       "      <td id=\"T_b212a_row1_col53\" class=\"data row1 col53\" >1975</td>\n",
       "      <td id=\"T_b212a_row1_col54\" class=\"data row1 col54\" >1976</td>\n",
       "      <td id=\"T_b212a_row1_col55\" class=\"data row1 col55\" >1977</td>\n",
       "      <td id=\"T_b212a_row1_col56\" class=\"data row1 col56\" >1978</td>\n",
       "      <td id=\"T_b212a_row1_col57\" class=\"data row1 col57\" >1979</td>\n",
       "      <td id=\"T_b212a_row1_col58\" class=\"data row1 col58\" >1980</td>\n",
       "      <td id=\"T_b212a_row1_col59\" class=\"data row1 col59\" >1981</td>\n",
       "      <td id=\"T_b212a_row1_col60\" class=\"data row1 col60\" >1982</td>\n",
       "      <td id=\"T_b212a_row1_col61\" class=\"data row1 col61\" >1983</td>\n",
       "      <td id=\"T_b212a_row1_col62\" class=\"data row1 col62\" >1984</td>\n",
       "      <td id=\"T_b212a_row1_col63\" class=\"data row1 col63\" >1985</td>\n",
       "      <td id=\"T_b212a_row1_col64\" class=\"data row1 col64\" >1986</td>\n",
       "      <td id=\"T_b212a_row1_col65\" class=\"data row1 col65\" >1987</td>\n",
       "      <td id=\"T_b212a_row1_col66\" class=\"data row1 col66\" >1988</td>\n",
       "      <td id=\"T_b212a_row1_col67\" class=\"data row1 col67\" >1989</td>\n",
       "      <td id=\"T_b212a_row1_col68\" class=\"data row1 col68\" >1990</td>\n",
       "      <td id=\"T_b212a_row1_col69\" class=\"data row1 col69\" >1991</td>\n",
       "      <td id=\"T_b212a_row1_col70\" class=\"data row1 col70\" >1992</td>\n",
       "      <td id=\"T_b212a_row1_col71\" class=\"data row1 col71\" >1993</td>\n",
       "      <td id=\"T_b212a_row1_col72\" class=\"data row1 col72\" >1994</td>\n",
       "      <td id=\"T_b212a_row1_col73\" class=\"data row1 col73\" >1995</td>\n",
       "      <td id=\"T_b212a_row1_col74\" class=\"data row1 col74\" >1996</td>\n",
       "      <td id=\"T_b212a_row1_col75\" class=\"data row1 col75\" >1997</td>\n",
       "      <td id=\"T_b212a_row1_col76\" class=\"data row1 col76\" >1998</td>\n",
       "      <td id=\"T_b212a_row1_col77\" class=\"data row1 col77\" >1999</td>\n",
       "      <td id=\"T_b212a_row1_col78\" class=\"data row1 col78\" >2000</td>\n",
       "      <td id=\"T_b212a_row1_col79\" class=\"data row1 col79\" >2001</td>\n",
       "      <td id=\"T_b212a_row1_col80\" class=\"data row1 col80\" >2002</td>\n",
       "      <td id=\"T_b212a_row1_col81\" class=\"data row1 col81\" >2003</td>\n",
       "      <td id=\"T_b212a_row1_col82\" class=\"data row1 col82\" >2004</td>\n",
       "      <td id=\"T_b212a_row1_col83\" class=\"data row1 col83\" >2005</td>\n",
       "      <td id=\"T_b212a_row1_col84\" class=\"data row1 col84\" >2006</td>\n",
       "      <td id=\"T_b212a_row1_col85\" class=\"data row1 col85\" >2007</td>\n",
       "      <td id=\"T_b212a_row1_col86\" class=\"data row1 col86\" >2008</td>\n",
       "      <td id=\"T_b212a_row1_col87\" class=\"data row1 col87\" >2009</td>\n",
       "      <td id=\"T_b212a_row1_col88\" class=\"data row1 col88\" >2010</td>\n",
       "      <td id=\"T_b212a_row1_col89\" class=\"data row1 col89\" >2011</td>\n",
       "      <td id=\"T_b212a_row1_col90\" class=\"data row1 col90\" >2012</td>\n",
       "      <td id=\"T_b212a_row1_col91\" class=\"data row1 col91\" >2013</td>\n",
       "      <td id=\"T_b212a_row1_col92\" class=\"data row1 col92\" >2014</td>\n",
       "      <td id=\"T_b212a_row1_col93\" class=\"data row1 col93\" >2015</td>\n",
       "    </tr>\n",
       "  </tbody>\n",
       "</table>\n"
      ],
      "text/plain": [
       "<pandas.io.formats.style.Styler at 0x7f21b907fc10>"
      ]
     },
     "execution_count": 14,
     "metadata": {},
     "output_type": "execute_result"
    }
   ],
   "source": [
    "top1[[\"nombre\", \"año\"]].T.style.hide(axis=\"columns\")"
   ]
  },
  {
   "cell_type": "markdown",
   "id": "f598dbc0",
   "metadata": {},
   "source": [
    "Ahora vamos a agregar una columna \"prop\" a nuestro DataFrame, indicando la proporción que cada nombre representa del total de nombres por año."
   ]
  },
  {
   "cell_type": "code",
   "execution_count": 15,
   "id": "65a2138c",
   "metadata": {},
   "outputs": [],
   "source": [
    "def add_prop(grupo):\n",
    "    grupo[\"prop\"] = grupo[\"cantidad\"] / grupo[\"cantidad\"].sum()\n",
    "    return grupo\n",
    "\n",
    "df = df.groupby(\"año\").apply(add_prop)"
   ]
  },
  {
   "cell_type": "markdown",
   "id": "a282701f",
   "metadata": {},
   "source": [
    "Revisamos que las proporciones den 1 por año, para todos los años"
   ]
  },
  {
   "cell_type": "code",
   "execution_count": 16,
   "id": "8802c830",
   "metadata": {},
   "outputs": [
    {
     "data": {
      "text/plain": [
       "1.0"
      ]
     },
     "execution_count": 16,
     "metadata": {},
     "output_type": "execute_result"
    }
   ],
   "source": [
    "(df.groupby(\"año\").sum()[\"prop\"] == 1).mean()"
   ]
  },
  {
   "cell_type": "markdown",
   "id": "483eef24",
   "metadata": {},
   "source": [
    "Ahora vamos a graficar la distribución a los largo del tiempo de 4 de los nombres más populares, \"Maria\", \"Juan Carlos\", \"Valentina\" y \"Benjamin\"."
   ]
  },
  {
   "cell_type": "code",
   "execution_count": 17,
   "id": "6a3c0337",
   "metadata": {},
   "outputs": [
    {
     "data": {
      "image/png": "[encoded data removed]",
      "text/plain": [
       "<Figure size 864x432 with 4 Axes>"
      ]
     },
     "metadata": {
      "needs_background": "light"
     },
     "output_type": "display_data"
    }
   ],
   "source": [
    "nombres = [\"Maria\", \"Juan Carlos\", \"Valentina\", \"Benjamin\"]\n",
    "_, axes = plt.subplots(len(nombres), sharex=True, sharey=True, figsize=(12, 6), constrained_layout=True)\n",
    "\n",
    "for nombre, ax in zip(nombres, axes):\n",
    "    (df[df[\"nombre\"].str.contains(nombre)].groupby(\"año\")\n",
    "                                          .sum()\n",
    "                                          .reset_index()\n",
    "                                          .plot(\"año\", \n",
    "                                                \"prop\", ax=ax, legend=False, title=nombre))"
   ]
  },
  {
   "cell_type": "markdown",
   "id": "924ca4b4",
   "metadata": {},
   "source": [
    "En la figura anterior hemos indicado que queremos compartir el `eje-y` entre los distintos subplots. Esto tiene la ventaja de simplificar la comparación entre subplots. Pero hay veces que puede ser preferible dejar que cada subplot tenga sus propios valores para el `eje-y`. En esos casos es conveniente indicar que la escala no es compartida."
   ]
  },
  {
   "cell_type": "markdown",
   "id": "63da9047",
   "metadata": {},
   "source": [
    "## Diversidad de nombres"
   ]
  },
  {
   "cell_type": "markdown",
   "id": "3c570351",
   "metadata": {},
   "source": [
    "No solo la popularidad de cada nombre sigue modas y refleja cambios culturales. La diversidad de los nombres también puede variar en el tiempo. Hay mayor diversidad de nombres ahora que hace un siglo? \n",
    "\n",
    "Para responder a este interrogante empecemos por calcular la proporción de cada nombre por año"
   ]
  },
  {
   "cell_type": "code",
   "execution_count": 18,
   "id": "4012c0b7",
   "metadata": {},
   "outputs": [],
   "source": [
    "def add_prop(group):\n",
    "    group[\"prop\"] = group[\"cantidad\"] / group[\"cantidad\"].sum()\n",
    "    return group\n",
    "\n",
    "df = df.groupby([\"año\"]).apply(add_prop)"
   ]
  },
  {
   "cell_type": "markdown",
   "id": "6d0fcbdb",
   "metadata": {},
   "source": [
    "Podemos corroborar que para cada año la suma da 1"
   ]
  },
  {
   "cell_type": "code",
   "execution_count": 19,
   "id": "fc81f836",
   "metadata": {},
   "outputs": [
    {
     "data": {
      "text/plain": [
       "count    94.0\n",
       "mean      1.0\n",
       "std       0.0\n",
       "min       1.0\n",
       "25%       1.0\n",
       "50%       1.0\n",
       "75%       1.0\n",
       "max       1.0\n",
       "Name: prop, dtype: float64"
      ]
     },
     "execution_count": 19,
     "metadata": {},
     "output_type": "execute_result"
    }
   ],
   "source": [
    "df.groupby([\"año\"])[\"prop\"].sum().describe()"
   ]
  },
  {
   "cell_type": "code",
   "execution_count": 20,
   "id": "86cba9ce",
   "metadata": {},
   "outputs": [
    {
     "data": {
      "text/html": [
       "<div>\n",
       "<style scoped>\n",
       "    .dataframe tbody tr th:only-of-type {\n",
       "        vertical-align: middle;\n",
       "    }\n",
       "\n",
       "    .dataframe tbody tr th {\n",
       "        vertical-align: top;\n",
       "    }\n",
       "\n",
       "    .dataframe thead th {\n",
       "        text-align: right;\n",
       "    }\n",
       "</style>\n",
       "<table border=\"1\" class=\"dataframe\">\n",
       "  <thead>\n",
       "    <tr style=\"text-align: right;\">\n",
       "      <th></th>\n",
       "      <th>nombre</th>\n",
       "      <th>cantidad</th>\n",
       "      <th>año</th>\n",
       "      <th>prop</th>\n",
       "    </tr>\n",
       "  </thead>\n",
       "  <tbody>\n",
       "    <tr>\n",
       "      <th>0</th>\n",
       "      <td>Maria</td>\n",
       "      <td>314</td>\n",
       "      <td>1922</td>\n",
       "      <td>0.013269</td>\n",
       "    </tr>\n",
       "    <tr>\n",
       "      <th>1</th>\n",
       "      <td>Rosa</td>\n",
       "      <td>203</td>\n",
       "      <td>1922</td>\n",
       "      <td>0.008578</td>\n",
       "    </tr>\n",
       "    <tr>\n",
       "      <th>2</th>\n",
       "      <td>Jose</td>\n",
       "      <td>163</td>\n",
       "      <td>1922</td>\n",
       "      <td>0.006888</td>\n",
       "    </tr>\n",
       "    <tr>\n",
       "      <th>3</th>\n",
       "      <td>Maria Luisa</td>\n",
       "      <td>127</td>\n",
       "      <td>1922</td>\n",
       "      <td>0.005367</td>\n",
       "    </tr>\n",
       "    <tr>\n",
       "      <th>4</th>\n",
       "      <td>Carmen</td>\n",
       "      <td>117</td>\n",
       "      <td>1922</td>\n",
       "      <td>0.004944</td>\n",
       "    </tr>\n",
       "  </tbody>\n",
       "</table>\n",
       "</div>"
      ],
      "text/plain": [
       "        nombre  cantidad   año      prop\n",
       "0        Maria       314  1922  0.013269\n",
       "1         Rosa       203  1922  0.008578\n",
       "2         Jose       163  1922  0.006888\n",
       "3  Maria Luisa       127  1922  0.005367\n",
       "4       Carmen       117  1922  0.004944"
      ]
     },
     "execution_count": 20,
     "metadata": {},
     "output_type": "execute_result"
    }
   ],
   "source": [
    "df.head()"
   ]
  },
  {
   "cell_type": "markdown",
   "id": "c753fcf3",
   "metadata": {},
   "source": [
    "Ahora calcularemos cuales son los 1000 nombres más populares por año."
   ]
  },
  {
   "cell_type": "code",
   "execution_count": 21,
   "id": "9f33cd75",
   "metadata": {},
   "outputs": [
    {
     "data": {
      "text/html": [
       "<div>\n",
       "<style scoped>\n",
       "    .dataframe tbody tr th:only-of-type {\n",
       "        vertical-align: middle;\n",
       "    }\n",
       "\n",
       "    .dataframe tbody tr th {\n",
       "        vertical-align: top;\n",
       "    }\n",
       "\n",
       "    .dataframe thead th {\n",
       "        text-align: right;\n",
       "    }\n",
       "</style>\n",
       "<table border=\"1\" class=\"dataframe\">\n",
       "  <thead>\n",
       "    <tr style=\"text-align: right;\">\n",
       "      <th></th>\n",
       "      <th>nombre</th>\n",
       "      <th>cantidad</th>\n",
       "      <th>año</th>\n",
       "      <th>prop</th>\n",
       "    </tr>\n",
       "  </thead>\n",
       "  <tbody>\n",
       "    <tr>\n",
       "      <th>0</th>\n",
       "      <td>Maria</td>\n",
       "      <td>314</td>\n",
       "      <td>1922</td>\n",
       "      <td>0.013269</td>\n",
       "    </tr>\n",
       "    <tr>\n",
       "      <th>1</th>\n",
       "      <td>Rosa</td>\n",
       "      <td>203</td>\n",
       "      <td>1922</td>\n",
       "      <td>0.008578</td>\n",
       "    </tr>\n",
       "    <tr>\n",
       "      <th>2</th>\n",
       "      <td>Jose</td>\n",
       "      <td>163</td>\n",
       "      <td>1922</td>\n",
       "      <td>0.006888</td>\n",
       "    </tr>\n",
       "    <tr>\n",
       "      <th>3</th>\n",
       "      <td>Maria Luisa</td>\n",
       "      <td>127</td>\n",
       "      <td>1922</td>\n",
       "      <td>0.005367</td>\n",
       "    </tr>\n",
       "    <tr>\n",
       "      <th>4</th>\n",
       "      <td>Carmen</td>\n",
       "      <td>117</td>\n",
       "      <td>1922</td>\n",
       "      <td>0.004944</td>\n",
       "    </tr>\n",
       "    <tr>\n",
       "      <th>...</th>\n",
       "      <td>...</td>\n",
       "      <td>...</td>\n",
       "      <td>...</td>\n",
       "      <td>...</td>\n",
       "    </tr>\n",
       "    <tr>\n",
       "      <th>93995</th>\n",
       "      <td>Martin Ezequiel</td>\n",
       "      <td>71</td>\n",
       "      <td>2015</td>\n",
       "      <td>0.000090</td>\n",
       "    </tr>\n",
       "    <tr>\n",
       "      <th>93996</th>\n",
       "      <td>Ian Maximiliano</td>\n",
       "      <td>71</td>\n",
       "      <td>2015</td>\n",
       "      <td>0.000090</td>\n",
       "    </tr>\n",
       "    <tr>\n",
       "      <th>93997</th>\n",
       "      <td>Zoe Yazmin</td>\n",
       "      <td>71</td>\n",
       "      <td>2015</td>\n",
       "      <td>0.000090</td>\n",
       "    </tr>\n",
       "    <tr>\n",
       "      <th>93998</th>\n",
       "      <td>Isabella Francesca</td>\n",
       "      <td>71</td>\n",
       "      <td>2015</td>\n",
       "      <td>0.000090</td>\n",
       "    </tr>\n",
       "    <tr>\n",
       "      <th>93999</th>\n",
       "      <td>Zaira</td>\n",
       "      <td>71</td>\n",
       "      <td>2015</td>\n",
       "      <td>0.000090</td>\n",
       "    </tr>\n",
       "  </tbody>\n",
       "</table>\n",
       "<p>94000 rows × 4 columns</p>\n",
       "</div>"
      ],
      "text/plain": [
       "                   nombre  cantidad   año      prop\n",
       "0                   Maria       314  1922  0.013269\n",
       "1                    Rosa       203  1922  0.008578\n",
       "2                    Jose       163  1922  0.006888\n",
       "3             Maria Luisa       127  1922  0.005367\n",
       "4                  Carmen       117  1922  0.004944\n",
       "...                   ...       ...   ...       ...\n",
       "93995     Martin Ezequiel        71  2015  0.000090\n",
       "93996     Ian Maximiliano        71  2015  0.000090\n",
       "93997          Zoe Yazmin        71  2015  0.000090\n",
       "93998  Isabella Francesca        71  2015  0.000090\n",
       "93999               Zaira        71  2015  0.000090\n",
       "\n",
       "[94000 rows x 4 columns]"
      ]
     },
     "execution_count": 21,
     "metadata": {},
     "output_type": "execute_result"
    }
   ],
   "source": [
    "top1000 = df.groupby([\"año\"]).apply(top_n, 1000).reset_index(drop=True)\n",
    "top1000  # podemos ver que la cantidad total de filas es 94 * 1000"
   ]
  },
  {
   "cell_type": "code",
   "execution_count": 22,
   "id": "daadfdb0",
   "metadata": {},
   "outputs": [
    {
     "data": {
      "image/png": "[encoded data removed]",
      "text/plain": [
       "<Figure size 432x288 with 1 Axes>"
      ]
     },
     "metadata": {
      "needs_background": "light"
     },
     "output_type": "display_data"
    }
   ],
   "source": [
    "prop_año = top1000.groupby(\"año\")[\"prop\"].sum()\n",
    "prop_año.plot(title=\"Proporción anual de los 1000 nombres más comunes\",\n",
    "           #yticks=np.linspace(0, 0.5, 5)\n",
    "          );"
   ]
  },
  {
   "cell_type": "markdown",
   "id": "202e507b",
   "metadata": {},
   "source": [
    "Una forma alternativa de explorar esta pregunta es calcular cual es la cantidad mínima de nombres para obtener el 50% de la proporción total de nombres por año.\n",
    "\n",
    "\n",
    "Para calcular esta cantidad, primero tenemos que ordenar las proporciones en orden descendente. Luego calculamos la suma acumulada de la proporción (que va de 0 a 1 siempre creciendo). Por último contamos cuantos valores de la suma acumulada son menores o iguales a 0.5 y los sumamos."
   ]
  },
  {
   "cell_type": "code",
   "execution_count": 23,
   "id": "b2bcfab1",
   "metadata": {},
   "outputs": [],
   "source": [
    "def cum_count(grupo, q=0.5):\n",
    "    grupo = grupo.sort_values(\"prop\", ascending=False)\n",
    "    return (grupo.prop.cumsum() <= 0.5).sum() \n",
    "\n",
    "diversidad = df.groupby([\"año\"]).apply(cum_count)"
   ]
  },
  {
   "cell_type": "code",
   "execution_count": 24,
   "id": "eb96ed08",
   "metadata": {},
   "outputs": [
    {
     "data": {
      "image/png": "[encoded data removed]",
      "text/plain": [
       "<Figure size 432x288 with 1 Axes>"
      ]
     },
     "metadata": {
      "needs_background": "light"
     },
     "output_type": "display_data"
    }
   ],
   "source": [
    "diversidad.plot(title=\"Cantidad de nombres para obtener el 50%\");"
   ]
  },
  {
   "cell_type": "markdown",
   "id": "4ba670a0",
   "metadata": {},
   "source": [
    "## Longitud de los nombres\n",
    "\n",
    "Ahora exploraremos la longitud de los nombres y su cambio con lo años"
   ]
  },
  {
   "cell_type": "code",
   "execution_count": 25,
   "id": "32c9a3b1",
   "metadata": {},
   "outputs": [],
   "source": [
    "def longitud(group):\n",
    "    group[\"len\"] = group[\"nombre\"].str.len()\n",
    "    return group\n",
    "\n",
    "df = df.groupby([\"año\"]).apply(longitud)"
   ]
  },
  {
   "cell_type": "markdown",
   "id": "3b34f2dc",
   "metadata": {},
   "source": [
    "Y el nombre más largo registrado en Argentina es..."
   ]
  },
  {
   "cell_type": "code",
   "execution_count": 26,
   "id": "41c25c7e",
   "metadata": {},
   "outputs": [
    {
     "data": {
      "text/plain": [
       "array(['Josina Livina Dolores Lucia Carmen Balduina Yolanda Maria Inmaculada Gislena Javiera'],\n",
       "      dtype=object)"
      ]
     },
     "execution_count": 26,
     "metadata": {},
     "output_type": "execute_result"
    }
   ],
   "source": [
    "df[df[\"len\"] == df[\"len\"].max()][\"nombre\"].values"
   ]
  },
  {
   "cell_type": "markdown",
   "id": "07760287",
   "metadata": {},
   "source": [
    "Ahora veamos cual es la distribución de la longitud de nombres, para esto usaremos un histograma junto un con \"rug plot\" (o gráfico de alfombra). Hacemos esto para ayudar a destacar la larga cola de la distribución de nombres. Dado que las longitudes son discretas hemos decidido usar un bin para cada longitud observada."
   ]
  },
  {
   "cell_type": "code",
   "execution_count": 27,
   "id": "63e56d9e",
   "metadata": {},
   "outputs": [
    {
     "data": {
      "image/png": "[encoded data removed]",
      "text/plain": [
       "<Figure size 432x288 with 1 Axes>"
      ]
     },
     "metadata": {
      "needs_background": "light"
     },
     "output_type": "display_data"
    }
   ],
   "source": [
    "longitudes = df[\"len\"].values\n",
    "plt.hist(\"len\", data=df, bins=np.unique(longitudes))\n",
    "plt.plot(longitudes, np.zeros_like(longitudes), \"k|\", ms=20);"
   ]
  },
  {
   "cell_type": "markdown",
   "id": "32ac7a36",
   "metadata": {},
   "source": [
    "Ahora vemos el cambio en el tiempo"
   ]
  },
  {
   "cell_type": "code",
   "execution_count": 28,
   "id": "3cf88422",
   "metadata": {},
   "outputs": [
    {
     "data": {
      "text/html": [
       "<div>\n",
       "<style scoped>\n",
       "    .dataframe tbody tr th:only-of-type {\n",
       "        vertical-align: middle;\n",
       "    }\n",
       "\n",
       "    .dataframe tbody tr th {\n",
       "        vertical-align: top;\n",
       "    }\n",
       "\n",
       "    .dataframe thead th {\n",
       "        text-align: right;\n",
       "    }\n",
       "</style>\n",
       "<table border=\"1\" class=\"dataframe\">\n",
       "  <thead>\n",
       "    <tr style=\"text-align: right;\">\n",
       "      <th></th>\n",
       "      <th>año</th>\n",
       "      <th>mean</th>\n",
       "      <th>std</th>\n",
       "    </tr>\n",
       "  </thead>\n",
       "  <tbody>\n",
       "    <tr>\n",
       "      <th>0</th>\n",
       "      <td>1922</td>\n",
       "      <td>12.850658</td>\n",
       "      <td>3.766880</td>\n",
       "    </tr>\n",
       "    <tr>\n",
       "      <th>1</th>\n",
       "      <td>1923</td>\n",
       "      <td>12.932770</td>\n",
       "      <td>3.763134</td>\n",
       "    </tr>\n",
       "    <tr>\n",
       "      <th>2</th>\n",
       "      <td>1924</td>\n",
       "      <td>13.045494</td>\n",
       "      <td>3.778390</td>\n",
       "    </tr>\n",
       "    <tr>\n",
       "      <th>3</th>\n",
       "      <td>1925</td>\n",
       "      <td>13.079113</td>\n",
       "      <td>3.707827</td>\n",
       "    </tr>\n",
       "    <tr>\n",
       "      <th>4</th>\n",
       "      <td>1926</td>\n",
       "      <td>13.185431</td>\n",
       "      <td>3.648110</td>\n",
       "    </tr>\n",
       "  </tbody>\n",
       "</table>\n",
       "</div>"
      ],
      "text/plain": [
       "    año       mean       std\n",
       "0  1922  12.850658  3.766880\n",
       "1  1923  12.932770  3.763134\n",
       "2  1924  13.045494  3.778390\n",
       "3  1925  13.079113  3.707827\n",
       "4  1926  13.185431  3.648110"
      ]
     },
     "execution_count": 28,
     "metadata": {},
     "output_type": "execute_result"
    }
   ],
   "source": [
    "df_len_summary = df.groupby('año').agg(\n",
    "                                       mean=('len', np.mean),\n",
    "                                       std=('len', np.std)\n",
    "                                       ).reset_index()\n",
    "\n",
    "\n",
    "df_len_summary.head()"
   ]
  },
  {
   "cell_type": "code",
   "execution_count": 29,
   "id": "15eb0069",
   "metadata": {},
   "outputs": [
    {
     "data": {
      "image/png": "[encoded data removed]",
      "text/plain": [
       "<Figure size 432x288 with 1 Axes>"
      ]
     },
     "metadata": {
      "needs_background": "light"
     },
     "output_type": "display_data"
    }
   ],
   "source": [
    "plt.errorbar(\"año\", \"mean\", \"std\", data=df_len_summary);"
   ]
  }
 ],
 "metadata": {
  "kernelspec": {
   "display_name": "Python 3 (ipykernel)",
   "language": "python",
   "name": "python3"
  },
  "language_info": {
   "codemirror_mode": {
    "name": "ipython",
    "version": 3
   },
   "file_extension": ".py",
   "mimetype": "text/x-python",
   "name": "python",
   "nbconvert_exporter": "python",
   "pygments_lexer": "ipython3",
   "version": "3.9.7"
  }
 },
 "nbformat": 4,
 "nbformat_minor": 5
}
